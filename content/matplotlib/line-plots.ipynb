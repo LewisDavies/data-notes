{
 "cells": [
  {
   "cell_type": "markdown",
   "metadata": {},
   "source": [
    "Title: Line Plots\n",
    "Slug: matplotlib/line-plots\n",
    "Category: Matplotlib\n",
    "Tags: date_range, DataFrame, figure, plot, xlabel, ylabel, xticks, legend, show\n",
    "Date: 2017-09-24\n",
    "Modified: 2017-09-24"
   ]
  },
  {
   "cell_type": "markdown",
   "metadata": {},
   "source": [
    "### Import libraries"
   ]
  },
  {
   "cell_type": "code",
   "execution_count": 1,
   "metadata": {
    "collapsed": true
   },
   "outputs": [],
   "source": [
    "import numpy as np\n",
    "import pandas as pd\n",
    "import matplotlib.pyplot as plt"
   ]
  },
  {
   "cell_type": "markdown",
   "metadata": {},
   "source": [
    "### Generate some data"
   ]
  },
  {
   "cell_type": "code",
   "execution_count": 2,
   "metadata": {},
   "outputs": [
    {
     "data": {
      "text/html": [
       "<div>\n",
       "<style>\n",
       "    .dataframe thead tr:only-child th {\n",
       "        text-align: right;\n",
       "    }\n",
       "\n",
       "    .dataframe thead th {\n",
       "        text-align: left;\n",
       "    }\n",
       "\n",
       "    .dataframe tbody tr th {\n",
       "        vertical-align: top;\n",
       "    }\n",
       "</style>\n",
       "<table border=\"1\" class=\"dataframe\">\n",
       "  <thead>\n",
       "    <tr style=\"text-align: right;\">\n",
       "      <th></th>\n",
       "      <th>Company A</th>\n",
       "      <th>Company B</th>\n",
       "      <th>Company C</th>\n",
       "    </tr>\n",
       "  </thead>\n",
       "  <tbody>\n",
       "    <tr>\n",
       "      <th>2017-09-18</th>\n",
       "      <td>66.78</td>\n",
       "      <td>90.98</td>\n",
       "      <td>55.10</td>\n",
       "    </tr>\n",
       "    <tr>\n",
       "      <th>2017-09-19</th>\n",
       "      <td>69.70</td>\n",
       "      <td>89.12</td>\n",
       "      <td>56.88</td>\n",
       "    </tr>\n",
       "    <tr>\n",
       "      <th>2017-09-20</th>\n",
       "      <td>71.59</td>\n",
       "      <td>85.47</td>\n",
       "      <td>57.49</td>\n",
       "    </tr>\n",
       "    <tr>\n",
       "      <th>2017-09-21</th>\n",
       "      <td>71.44</td>\n",
       "      <td>82.33</td>\n",
       "      <td>65.76</td>\n",
       "    </tr>\n",
       "    <tr>\n",
       "      <th>2017-09-22</th>\n",
       "      <td>72.15</td>\n",
       "      <td>84.66</td>\n",
       "      <td>71.25</td>\n",
       "    </tr>\n",
       "  </tbody>\n",
       "</table>\n",
       "</div>"
      ],
      "text/plain": [
       "            Company A  Company B  Company C\n",
       "2017-09-18      66.78      90.98      55.10\n",
       "2017-09-19      69.70      89.12      56.88\n",
       "2017-09-20      71.59      85.47      57.49\n",
       "2017-09-21      71.44      82.33      65.76\n",
       "2017-09-22      72.15      84.66      71.25"
      ]
     },
     "execution_count": 2,
     "metadata": {},
     "output_type": "execute_result"
    }
   ],
   "source": [
    "index = pd.date_range('2017-09-18', '2017-09-22')\n",
    "data = {\n",
    "    'Company A': [66.78, 69.70, 71.59, 71.44, 72.15],\n",
    "    'Company B': [90.98, 89.12, 85.47, 82.33, 84.66],\n",
    "    'Company C': [55.10, 56.88, 57.49, 65.76, 71.25]\n",
    "}\n",
    "df = pd.DataFrame(data=data, index=index)\n",
    "df"
   ]
  },
  {
   "cell_type": "markdown",
   "metadata": {},
   "source": [
    "### Plot the data"
   ]
  },
  {
   "cell_type": "code",
   "execution_count": 3,
   "metadata": {
    "scrolled": false
   },
   "outputs": [
    {
     "data": {
      "image/png": "[encoded data removed]",
      "text/plain": [
       "<matplotlib.figure.Figure at 0x187f38db4a8>"
      ]
     },
     "metadata": {},
     "output_type": "display_data"
    }
   ],
   "source": [
    "fig = plt.figure(figsize=(8,5))\n",
    "\n",
    "plt.plot(df.index, df['Company A'])\n",
    "plt.plot(df.index, df['Company B'])\n",
    "plt.plot(df.index, df['Company C'])\n",
    "\n",
    "plt.xlabel('Date')\n",
    "plt.ylabel('Value')\n",
    "x_labels = df.index.strftime('%d %b %Y')\n",
    "plt.xticks(df.index, x_labels)\n",
    "plt.legend(loc='lower right')\n",
    "plt.show()"
   ]
  }
 ],
 "metadata": {
  "kernelspec": {
   "display_name": "Python 3",
   "language": "python",
   "name": "python3"
  },
  "language_info": {
   "codemirror_mode": {
    "name": "ipython",
    "version": 3
   },
   "file_extension": ".py",
   "mimetype": "text/x-python",
   "name": "python",
   "nbconvert_exporter": "python",
   "pygments_lexer": "ipython3",
   "version": "3.6.7"
  }
 },
 "nbformat": 4,
 "nbformat_minor": 2
}
