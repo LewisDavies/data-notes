{
 "cells": [
  {
   "cell_type": "markdown",
   "metadata": {},
   "source": [
    "Title: Making Subplots\n",
    "Slug: matplotlib/making-subplots\n",
    "Category: Matplotlib\n",
    "Tags: random, normal, subplots, hist, set_title, set_ylabel, xlabel, show\n",
    "Date: 2017-10-04\n",
    "Modified: 2017-10-04"
   ]
  },
  {
   "cell_type": "markdown",
   "metadata": {},
   "source": [
    "#### Import libraries"
   ]
  },
  {
   "cell_type": "code",
   "execution_count": 1,
   "metadata": {
    "collapsed": true
   },
   "outputs": [],
   "source": [
    "import numpy as np\n",
    "import pandas as pd\n",
    "import matplotlib.pyplot as plt"
   ]
  },
  {
   "cell_type": "markdown",
   "metadata": {},
   "source": [
    "#### Generate some data"
   ]
  },
  {
   "cell_type": "code",
   "execution_count": 2,
   "metadata": {
    "collapsed": true
   },
   "outputs": [],
   "source": [
    "dist1 = np.random.normal(27.5, 5, 10000)\n",
    "dist2 = np.random.normal(30, 5, 1000)"
   ]
  },
  {
   "cell_type": "markdown",
   "metadata": {},
   "source": [
    "#### Plot on separate subplots"
   ]
  },
  {
   "cell_type": "code",
   "execution_count": 11,
   "metadata": {},
   "outputs": [
    {
     "data": {
      "image/png": "[encoded data removed]",
      "text/plain": [
       "<matplotlib.figure.Figure at 0x110a53eb8>"
      ]
     },
     "metadata": {},
     "output_type": "display_data"
    }
   ],
   "source": [
    "fig, (ax1, ax2) = plt.subplots(2, 1, sharex=True, figsize=(8, 8))\n",
    "\n",
    "ax1.hist(dist1, bins=20, alpha=0.5, label='Distribution 1')\n",
    "ax1.hist(dist2, bins=20, alpha=0.5, label='Distribution 2')\n",
    "ax1.set_title('Absolute Distribution')\n",
    "ax1.set_ylabel('Count')\n",
    "\n",
    "ax2.hist(dist1, bins=20, alpha=0.5, normed=True, label='Distribution 1')\n",
    "ax2.hist(dist2, bins=20, alpha=0.5, normed=True, label='Distribution 2')\n",
    "ax2.set_title('Normalized Distribution')\n",
    "ax2.set_ylabel('Proportion')\n",
    "\n",
    "plt.xlabel('Value')\n",
    "plt.show()"
   ]
  }
 ],
 "metadata": {
  "kernelspec": {
   "display_name": "Python 3",
   "language": "python",
   "name": "python3"
  },
  "language_info": {
   "codemirror_mode": {
    "name": "ipython",
    "version": 3
   },
   "file_extension": ".py",
   "mimetype": "text/x-python",
   "name": "python",
   "nbconvert_exporter": "python",
   "pygments_lexer": "ipython3",
   "version": "3.6.0"
  }
 },
 "nbformat": 4,
 "nbformat_minor": 2
}
