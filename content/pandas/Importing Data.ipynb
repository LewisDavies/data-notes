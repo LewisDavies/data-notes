{
 "cells": [
  {
   "cell_type": "markdown",
   "metadata": {},
   "source": [
    "### Import libraries"
   ]
  },
  {
   "cell_type": "code",
   "execution_count": 1,
   "metadata": {
    "collapsed": true
   },
   "outputs": [],
   "source": [
    "import pandas as pd"
   ]
  },
  {
   "cell_type": "markdown",
   "metadata": {},
   "source": [
    "### CSV"
   ]
  },
  {
   "cell_type": "code",
   "execution_count": null,
   "metadata": {
    "collapsed": true
   },
   "outputs": [],
   "source": [
    "# If the file is in your current working directory, you can simply use the filename as an arguement\n",
    "df = pd.read_csv('my_data.csv')\n",
    "\n",
    "# If the raw data is somewhere else, you'll need to specifiy the full path\n",
    "file = 'C:\\Users\\<username>\\my_data.csv'\n",
    "df = pd.read_csv(file)\n",
    "\n",
    "# You can specify the separator with the sep argument\n",
    "df = pd.read_csv(file, sep=';')"
   ]
  },
  {
   "cell_type": "markdown",
   "metadata": {},
   "source": [
    "### Excel "
   ]
  },
  {
   "cell_type": "code",
   "execution_count": null,
   "metadata": {
    "collapsed": true
   },
   "outputs": [],
   "source": [
    "# By default, a DataFrame will be created from the first sheet of your Excel file\n",
    "df = pd.read_excel('my_data.xlsx')\n",
    "\n",
    "# We can specify the sheet to import with the sheetname argument (an integer or string)\n",
    "df = pd.read_excel('my_data.csv', sheetname=1) # returns second sheet\n",
    "\n",
    "# Specifying multiple sheets will return a dictionary of DataFrames\n",
    "df = pd.read_excel('my_data.csv', sheetname=[0, 2, 'Sheet4', 'Sales 2016'])"
   ]
  },
  {
   "cell_type": "markdown",
   "metadata": {},
   "source": [
    "### SQL"
   ]
  },
  {
   "cell_type": "code",
   "execution_count": null,
   "metadata": {
    "collapsed": true
   },
   "outputs": [],
   "source": [
    "# I mainly interact with a PostgreSQL database, so I use an additional library for this\n",
    "import psycopg2\n",
    "\n",
    "# Connect to the database - it's best if the credentials are stored in a separate file\n",
    "exec(open(\"/Users/<username>/db.py\").read())\n",
    "\n",
    "# We connect to the database...\n",
    "con = psycopg2.connect(user=user, password=password, host=host, port=port, database=database)\n",
    "\n",
    "query = \"\"\"\n",
    "select\n",
    "    c.id\n",
    "    , c.name\n",
    "    , c.city\n",
    "from\n",
    "    customers c\n",
    "limit\n",
    "    10\n",
    "\"\"\"\n",
    "\n",
    "# ...then run the query, save the output as a DataFrame...\n",
    "df = pd.read_sql(query, con)\n",
    "# ...and finally disconnect from the database\n",
    "con.close()"
   ]
  },
  {
   "cell_type": "markdown",
   "metadata": {},
   "source": [
    "### JSON"
   ]
  },
  {
   "cell_type": "code",
   "execution_count": null,
   "metadata": {
    "collapsed": true
   },
   "outputs": [],
   "source": []
  },
  {
   "cell_type": "markdown",
   "metadata": {},
   "source": [
    "### Common arguments"
   ]
  },
  {
   "cell_type": "code",
   "execution_count": null,
   "metadata": {
    "collapsed": true
   },
   "outputs": [],
   "source": [
    "parse_dates"
   ]
  }
 ],
 "metadata": {
  "kernelspec": {
   "display_name": "Python 3",
   "language": "python",
   "name": "python3"
  },
  "language_info": {
   "codemirror_mode": {
    "name": "ipython",
    "version": 3
   },
   "file_extension": ".py",
   "mimetype": "text/x-python",
   "name": "python",
   "nbconvert_exporter": "python",
   "pygments_lexer": "ipython3",
   "version": "3.6.1"
  }
 },
 "nbformat": 4,
 "nbformat_minor": 2
}
