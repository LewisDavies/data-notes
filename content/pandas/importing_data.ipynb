{
 "cells": [
  {
   "cell_type": "markdown",
   "metadata": {},
   "source": [
    "### Import libraries"
   ]
  },
  {
   "cell_type": "code",
   "execution_count": 1,
   "metadata": {
    "collapsed": true
   },
   "outputs": [],
   "source": [
    "import pandas as pd"
   ]
  },
  {
   "cell_type": "markdown",
   "metadata": {},
   "source": [
    "### CSV"
   ]
  },
  {
   "cell_type": "code",
   "execution_count": null,
   "metadata": {
    "collapsed": true
   },
   "outputs": [],
   "source": [
    "# If the file is in your current working directory, you can use the filename as an arguement\n",
    "df = pd.read_csv('data.csv')\n",
    "\n",
    "# If the raw data is somewhere else, you'll need to specifiy the full path\n",
    "file = '/path/to/file/data.csv'\n",
    "df = pd.read_csv(file)\n",
    "\n",
    "# You can specify the separator with the sep argument\n",
    "df = pd.read_csv(file, sep=';')"
   ]
  },
  {
   "cell_type": "markdown",
   "metadata": {},
   "source": [
    "### Excel "
   ]
  },
  {
   "cell_type": "code",
   "execution_count": null,
   "metadata": {
    "collapsed": true
   },
   "outputs": [],
   "source": [
    "# By default, a DataFrame will be created from the first sheet of your Excel file\n",
    "df = pd.read_excel('data.xlsx')\n",
    "\n",
    "# We can specify the sheet to import with the sheetname argument (an integer or string)\n",
    "df = pd.read_excel('data.xlsx', sheetname=1) # returns second sheet\n",
    "\n",
    "# Specifying multiple sheets will return a dictionary of DataFrames\n",
    "df_dict = pd.read_excel('data.xlsx', sheetname=[0, 2, 'Sheet4', 'Sales 2016'])"
   ]
  },
  {
   "cell_type": "markdown",
   "metadata": {},
   "source": [
    "### SQL\n",
    "It's best if the credentials are stored in a separate file so you can share your notebook without sharing your credentials. Simply save them in a separate Python file and load them with the code below. Your ```db.py``` file should look like this:\n",
    "\n",
    "```\n",
    "user = 'your_username'\n",
    "password = 'your_super_tricky_password'\n",
    "host = 'your_hostname'\n",
    "port = 5432 # this is a common setting\n",
    "database = 'your_database_identifier'\n",
    "```"
   ]
  },
  {
   "cell_type": "code",
   "execution_count": null,
   "metadata": {
    "collapsed": true
   },
   "outputs": [],
   "source": [
    "# Load database credentials\n",
    "exec(open(\"/path/to/file/db.py\").read())"
   ]
  },
  {
   "cell_type": "code",
   "execution_count": null,
   "metadata": {
    "collapsed": true
   },
   "outputs": [],
   "source": [
    "# I mainly interact with a PostgreSQL database, so I use an additional library for this\n",
    "import psycopg2\n",
    "\n",
    "# We connect to the database - use the variable names from db.py\n",
    "con = psycopg2.connect(user=user, password=password, host=host, port=port, database=database)\n",
    "\n",
    "query = \"\"\"\n",
    "select\n",
    "    c.id\n",
    "    , c.name\n",
    "    , c.city\n",
    "from\n",
    "    customers c\n",
    "limit\n",
    "    10\n",
    "\"\"\"\n",
    "\n",
    "# Then run the query, save the output as a DataFrame\n",
    "df = pd.read_sql(query, con)\n",
    "\n",
    "# And finally disconnect from the database\n",
    "con.close()"
   ]
  },
  {
   "cell_type": "markdown",
   "metadata": {},
   "source": [
    "### Some useful arguments"
   ]
  },
  {
   "cell_type": "code",
   "execution_count": null,
   "metadata": {
    "collapsed": true
   },
   "outputs": [],
   "source": [
    "# Specify a column to use as the index\n",
    "df = pd.read_csv('data.csv', index_col=2)\n",
    "\n",
    "# Change column names - length of names list must match the number of columns\n",
    "df = pd.read_csv('data.csv', names=['Name', 'Age', 'Score'])\n",
    "\n",
    "# If parse_dates = True, pandas will try to conver the index to datetime\n",
    "df = pd.read_csv('data.csv', parse_dates=True)\n",
    "\n",
    "# You can also pass in a list of columns to parse as datetimes\n",
    "df = pd.read_csv('data.csv', parse_dates=['account_created_at', 'last_order_date']"
   ]
  }
 ],
 "metadata": {
  "kernelspec": {
   "display_name": "Python 3",
   "language": "python",
   "name": "python3"
  },
  "language_info": {
   "codemirror_mode": {
    "name": "ipython",
    "version": 3
   },
   "file_extension": ".py",
   "mimetype": "text/x-python",
   "name": "python",
   "nbconvert_exporter": "python",
   "pygments_lexer": "ipython3",
   "version": "3.6.1"
  }
 },
 "nbformat": 4,
 "nbformat_minor": 2
}
