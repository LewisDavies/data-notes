{
 "cells": [
  {
   "cell_type": "markdown",
   "metadata": {},
   "source": [
    "Title: Aggregates and GROUP BY\n",
    "Slug: sql/aggregates-and-group-by\n",
    "Category: SQL\n",
    "Tags: SELECT, FROM, LIMIT, GROUP BY, sum, avg, max, min, count\n",
    "Date: 2017-08-10\n",
    "Modified: 2017-08-15"
   ]
  },
  {
   "cell_type": "markdown",
   "metadata": {},
   "source": [
    "#### Load ipython-sql extension"
   ]
  },
  {
   "cell_type": "code",
   "execution_count": 1,
   "metadata": {
    "collapsed": true
   },
   "outputs": [],
   "source": [
    "# The 2 lines below prevent an error message from being displayed when we run %load_ext sql\n",
    "import warnings\n",
    "warnings.filterwarnings('ignore')\n",
    "\n",
    "%load_ext sql\n",
    "%config SqlMagic.feedback = False"
   ]
  },
  {
   "cell_type": "markdown",
   "metadata": {},
   "source": [
    "#### Connect to the database"
   ]
  },
  {
   "cell_type": "code",
   "execution_count": 3,
   "metadata": {},
   "outputs": [
    {
     "data": {
      "text/plain": [
       "'Connected: None@dvdrental'"
      ]
     },
     "execution_count": 3,
     "metadata": {},
     "output_type": "execute_result"
    }
   ],
   "source": [
    "%%sql\n",
    "\n",
    "postgresql://localhost/dvdrental"
   ]
  },
  {
   "cell_type": "markdown",
   "metadata": {},
   "source": [
    "#### Sample from `film` table"
   ]
  },
  {
   "cell_type": "code",
   "execution_count": 4,
   "metadata": {
    "scrolled": true
   },
   "outputs": [
    {
     "data": {
      "text/html": [
       "<table>\n",
       "    <tr>\n",
       "        <th>film_id</th>\n",
       "        <th>title</th>\n",
       "        <th>rental_rate</th>\n",
       "        <th>length</th>\n",
       "    </tr>\n",
       "    <tr>\n",
       "        <td>133</td>\n",
       "        <td>Chamber Italian</td>\n",
       "        <td>4.99</td>\n",
       "        <td>117</td>\n",
       "    </tr>\n",
       "    <tr>\n",
       "        <td>384</td>\n",
       "        <td>Grosse Wonderful</td>\n",
       "        <td>4.99</td>\n",
       "        <td>49</td>\n",
       "    </tr>\n",
       "    <tr>\n",
       "        <td>8</td>\n",
       "        <td>Airport Pollock</td>\n",
       "        <td>4.99</td>\n",
       "        <td>54</td>\n",
       "    </tr>\n",
       "    <tr>\n",
       "        <td>98</td>\n",
       "        <td>Bright Encounters</td>\n",
       "        <td>4.99</td>\n",
       "        <td>73</td>\n",
       "    </tr>\n",
       "    <tr>\n",
       "        <td>1</td>\n",
       "        <td>Academy Dinosaur</td>\n",
       "        <td>0.99</td>\n",
       "        <td>86</td>\n",
       "    </tr>\n",
       "</table>"
      ],
      "text/plain": [
       "[(133, 'Chamber Italian', Decimal('4.99'), 117),\n",
       " (384, 'Grosse Wonderful', Decimal('4.99'), 49),\n",
       " (8, 'Airport Pollock', Decimal('4.99'), 54),\n",
       " (98, 'Bright Encounters', Decimal('4.99'), 73),\n",
       " (1, 'Academy Dinosaur', Decimal('0.99'), 86)]"
      ]
     },
     "execution_count": 4,
     "metadata": {},
     "output_type": "execute_result"
    }
   ],
   "source": [
    "%%sql\n",
    "\n",
    "SELECT\n",
    "    f.film_id\n",
    "    , f.title\n",
    "    , f.rental_rate\n",
    "    , f.length\n",
    "FROM\n",
    "    film f\n",
    "LIMIT\n",
    "    5"
   ]
  },
  {
   "cell_type": "markdown",
   "metadata": {},
   "source": [
    "#### Syntax example — `sum`"
   ]
  },
  {
   "cell_type": "code",
   "execution_count": 5,
   "metadata": {},
   "outputs": [
    {
     "data": {
      "text/html": [
       "<table>\n",
       "    <tr>\n",
       "        <th>sum</th>\n",
       "    </tr>\n",
       "    <tr>\n",
       "        <td>115272</td>\n",
       "    </tr>\n",
       "</table>"
      ],
      "text/plain": [
       "[(115272,)]"
      ]
     },
     "execution_count": 5,
     "metadata": {},
     "output_type": "execute_result"
    }
   ],
   "source": [
    "%%sql\n",
    "\n",
    "SELECT\n",
    "    sum(f.length)\n",
    "FROM\n",
    "    film f"
   ]
  },
  {
   "cell_type": "markdown",
   "metadata": {},
   "source": [
    "#### Other aggregate functions\n",
    "**`avg`**: Mean of all column values\n",
    "\n",
    "**`max`**: Highest value in the column\n",
    "\n",
    "**`min`**: Lowest value in the column\n",
    "\n",
    "**`count`**: Total number of non-null values\n",
    "\n",
    "\\*Some aggregates, including `max`, `min` and `count`, can also be applied to strings."
   ]
  },
  {
   "cell_type": "markdown",
   "metadata": {},
   "source": [
    "#### `GROUP BY`\n",
    "Let's say we want to find the mean film length at each price point, and all films cost £0.99, £2.99 or £4.99."
   ]
  },
  {
   "cell_type": "code",
   "execution_count": 6,
   "metadata": {},
   "outputs": [
    {
     "data": {
      "text/html": [
       "<table>\n",
       "    <tr>\n",
       "        <th>rental_rate</th>\n",
       "        <th>avg</th>\n",
       "    </tr>\n",
       "    <tr>\n",
       "        <td>4.99</td>\n",
       "        <td>115.8244047619047619</td>\n",
       "    </tr>\n",
       "    <tr>\n",
       "        <td>0.99</td>\n",
       "        <td>112.9120234604105572</td>\n",
       "    </tr>\n",
       "    <tr>\n",
       "        <td>2.99</td>\n",
       "        <td>117.1888544891640867</td>\n",
       "    </tr>\n",
       "</table>"
      ],
      "text/plain": [
       "[(Decimal('4.99'), Decimal('115.8244047619047619')),\n",
       " (Decimal('0.99'), Decimal('112.9120234604105572')),\n",
       " (Decimal('2.99'), Decimal('117.1888544891640867'))]"
      ]
     },
     "execution_count": 6,
     "metadata": {},
     "output_type": "execute_result"
    }
   ],
   "source": [
    "%%sql\n",
    "\n",
    "SELECT\n",
    "    f.rental_rate\n",
    "    , avg(f.length)\n",
    "FROM\n",
    "    film f\n",
    "GROUP BY\n",
    "    f.rental_rate"
   ]
  },
  {
   "cell_type": "markdown",
   "metadata": {},
   "source": [
    "You can group according to more than one column to drill down into your data, but make sure to add all non-aggregates to your `GROUP BY` clause."
   ]
  },
  {
   "cell_type": "code",
   "execution_count": 7,
   "metadata": {},
   "outputs": [
    {
     "data": {
      "text/html": [
       "<table>\n",
       "    <tr>\n",
       "        <th>rental_rate</th>\n",
       "        <th>rating</th>\n",
       "        <th>avg</th>\n",
       "    </tr>\n",
       "    <tr>\n",
       "        <td>0.99</td>\n",
       "        <td>G</td>\n",
       "        <td>106.7187500000000000</td>\n",
       "    </tr>\n",
       "    <tr>\n",
       "        <td>0.99</td>\n",
       "        <td>PG</td>\n",
       "        <td>108.3548387096774194</td>\n",
       "    </tr>\n",
       "    <tr>\n",
       "        <td>0.99</td>\n",
       "        <td>PG-13</td>\n",
       "        <td>114.1111111111111111</td>\n",
       "    </tr>\n",
       "    <tr>\n",
       "        <td>0.99</td>\n",
       "        <td>R</td>\n",
       "        <td>123.1857142857142857</td>\n",
       "    </tr>\n",
       "    <tr>\n",
       "        <td>0.99</td>\n",
       "        <td>NC-17</td>\n",
       "        <td>111.1780821917808219</td>\n",
       "    </tr>\n",
       "    <tr>\n",
       "        <td>2.99</td>\n",
       "        <td>G</td>\n",
       "        <td>113.9661016949152542</td>\n",
       "    </tr>\n",
       "    <tr>\n",
       "        <td>2.99</td>\n",
       "        <td>PG</td>\n",
       "        <td>116.6562500000000000</td>\n",
       "    </tr>\n",
       "    <tr>\n",
       "        <td>2.99</td>\n",
       "        <td>PG-13</td>\n",
       "        <td>123.5675675675675676</td>\n",
       "    </tr>\n",
       "    <tr>\n",
       "        <td>2.99</td>\n",
       "        <td>R</td>\n",
       "        <td>116.3833333333333333</td>\n",
       "    </tr>\n",
       "    <tr>\n",
       "        <td>2.99</td>\n",
       "        <td>NC-17</td>\n",
       "        <td>114.1666666666666667</td>\n",
       "    </tr>\n",
       "    <tr>\n",
       "        <td>4.99</td>\n",
       "        <td>G</td>\n",
       "        <td>112.9636363636363636</td>\n",
       "    </tr>\n",
       "    <tr>\n",
       "        <td>4.99</td>\n",
       "        <td>PG</td>\n",
       "        <td>110.9558823529411765</td>\n",
       "    </tr>\n",
       "    <tr>\n",
       "        <td>4.99</td>\n",
       "        <td>PG-13</td>\n",
       "        <td>123.3636363636363636</td>\n",
       "    </tr>\n",
       "    <tr>\n",
       "        <td>4.99</td>\n",
       "        <td>R</td>\n",
       "        <td>115.8923076923076923</td>\n",
       "    </tr>\n",
       "    <tr>\n",
       "        <td>4.99</td>\n",
       "        <td>NC-17</td>\n",
       "        <td>114.4647887323943662</td>\n",
       "    </tr>\n",
       "</table>"
      ],
      "text/plain": [
       "[(Decimal('0.99'), 'G', Decimal('106.7187500000000000')),\n",
       " (Decimal('0.99'), 'PG', Decimal('108.3548387096774194')),\n",
       " (Decimal('0.99'), 'PG-13', Decimal('114.1111111111111111')),\n",
       " (Decimal('0.99'), 'R', Decimal('123.1857142857142857')),\n",
       " (Decimal('0.99'), 'NC-17', Decimal('111.1780821917808219')),\n",
       " (Decimal('2.99'), 'G', Decimal('113.9661016949152542')),\n",
       " (Decimal('2.99'), 'PG', Decimal('116.6562500000000000')),\n",
       " (Decimal('2.99'), 'PG-13', Decimal('123.5675675675675676')),\n",
       " (Decimal('2.99'), 'R', Decimal('116.3833333333333333')),\n",
       " (Decimal('2.99'), 'NC-17', Decimal('114.1666666666666667')),\n",
       " (Decimal('4.99'), 'G', Decimal('112.9636363636363636')),\n",
       " (Decimal('4.99'), 'PG', Decimal('110.9558823529411765')),\n",
       " (Decimal('4.99'), 'PG-13', Decimal('123.3636363636363636')),\n",
       " (Decimal('4.99'), 'R', Decimal('115.8923076923076923')),\n",
       " (Decimal('4.99'), 'NC-17', Decimal('114.4647887323943662'))]"
      ]
     },
     "execution_count": 7,
     "metadata": {},
     "output_type": "execute_result"
    }
   ],
   "source": [
    "%%sql\n",
    "\n",
    "SELECT\n",
    "    f.rental_rate\n",
    "    , f.rating\n",
    "    , avg(f.length)\n",
    "FROM\n",
    "    film f\n",
    "GROUP BY\n",
    "    f.rental_rate\n",
    "    , f.rating\n",
    "ORDER BY\n",
    "    f.rental_rate ASC\n",
    "    , f.rating ASC"
   ]
  }
 ],
 "metadata": {
  "kernelspec": {
   "display_name": "Python 3",
   "language": "python",
   "name": "python3"
  },
  "language_info": {
   "codemirror_mode": {
    "name": "ipython",
    "version": 3
   },
   "file_extension": ".py",
   "mimetype": "text/x-python",
   "name": "python",
   "nbconvert_exporter": "python",
   "pygments_lexer": "ipython3",
   "version": "3.6.1"
  }
 },
 "nbformat": 4,
 "nbformat_minor": 2
}
