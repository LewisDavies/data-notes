{
 "cells": [
  {
   "cell_type": "markdown",
   "metadata": {},
   "source": [
    "#### Load ipython-sql extension"
   ]
  },
  {
   "cell_type": "code",
   "execution_count": 1,
   "metadata": {
    "collapsed": true
   },
   "outputs": [],
   "source": [
    "# The 2 lines below prevent an error message from being displayed when we run %load_ext sql\n",
    "import warnings\n",
    "warnings.filterwarnings('ignore')\n",
    "\n",
    "%load_ext sql\n",
    "%config SqlMagic.feedback = False"
   ]
  },
  {
   "cell_type": "markdown",
   "metadata": {},
   "source": [
    "#### Connect to the database"
   ]
  },
  {
   "cell_type": "code",
   "execution_count": 2,
   "metadata": {},
   "outputs": [
    {
     "data": {
      "text/plain": [
       "'Connected: None@dvdrental'"
      ]
     },
     "execution_count": 2,
     "metadata": {},
     "output_type": "execute_result"
    }
   ],
   "source": [
    "%%sql\n",
    "\n",
    "postgresql://localhost/dvdrental"
   ]
  },
  {
   "cell_type": "markdown",
   "metadata": {},
   "source": [
    "#### A simple example"
   ]
  },
  {
   "cell_type": "code",
   "execution_count": 3,
   "metadata": {
    "scrolled": true
   },
   "outputs": [
    {
     "data": {
      "text/html": [
       "<table>\n",
       "    <tr>\n",
       "        <th>id</th>\n",
       "        <th>name</th>\n",
       "        <th>address</th>\n",
       "        <th>zip code</th>\n",
       "        <th>phone</th>\n",
       "        <th>city</th>\n",
       "        <th>country</th>\n",
       "        <th>notes</th>\n",
       "        <th>sid</th>\n",
       "    </tr>\n",
       "    <tr>\n",
       "        <td>476</td>\n",
       "        <td>Derrick Bourque</td>\n",
       "        <td>1153 Allende Way</td>\n",
       "        <td>20336</td>\n",
       "        <td>856872225376</td>\n",
       "        <td>Gatineau</td>\n",
       "        <td>Canada</td>\n",
       "        <td>active</td>\n",
       "        <td>1</td>\n",
       "    </tr>\n",
       "    <tr>\n",
       "        <td>463</td>\n",
       "        <td>Darrell Power</td>\n",
       "        <td>1844 Usak Avenue</td>\n",
       "        <td>84461</td>\n",
       "        <td>164414772677</td>\n",
       "        <td>Halifax</td>\n",
       "        <td>Canada</td>\n",
       "        <td>active</td>\n",
       "        <td>2</td>\n",
       "    </tr>\n",
       "    <tr>\n",
       "        <td>189</td>\n",
       "        <td>Loretta Carpenter</td>\n",
       "        <td>891 Novi Sad Manor</td>\n",
       "        <td>5379</td>\n",
       "        <td>247646995453</td>\n",
       "        <td>Oshawa</td>\n",
       "        <td>Canada</td>\n",
       "        <td>active</td>\n",
       "        <td>1</td>\n",
       "    </tr>\n",
       "    <tr>\n",
       "        <td>410</td>\n",
       "        <td>Curtis Irby</td>\n",
       "        <td>432 Garden Grove Street</td>\n",
       "        <td>65630</td>\n",
       "        <td>615964523510</td>\n",
       "        <td>Richmond Hill</td>\n",
       "        <td>Canada</td>\n",
       "        <td>active</td>\n",
       "        <td>2</td>\n",
       "    </tr>\n",
       "    <tr>\n",
       "        <td>436</td>\n",
       "        <td>Troy Quigley</td>\n",
       "        <td>983 Santa F Way</td>\n",
       "        <td>47472</td>\n",
       "        <td>145720452260</td>\n",
       "        <td>Vancouver</td>\n",
       "        <td>Canada</td>\n",
       "        <td>active</td>\n",
       "        <td>1</td>\n",
       "    </tr>\n",
       "</table>"
      ],
      "text/plain": [
       "[(476, 'Derrick Bourque', '1153 Allende Way', '20336', '856872225376', 'Gatineau', 'Canada', 'active', 1),\n",
       " (463, 'Darrell Power', '1844 Usak Avenue', '84461', '164414772677', 'Halifax', 'Canada', 'active', 2),\n",
       " (189, 'Loretta Carpenter', '891 Novi Sad Manor', '5379', '247646995453', 'Oshawa', 'Canada', 'active', 1),\n",
       " (410, 'Curtis Irby', '432 Garden Grove Street', '65630', '615964523510', 'Richmond Hill', 'Canada', 'active', 2),\n",
       " (436, 'Troy Quigley', '983 Santa F Way', '47472', '145720452260', 'Vancouver', 'Canada', 'active', 1)]"
      ]
     },
     "execution_count": 3,
     "metadata": {},
     "output_type": "execute_result"
    }
   ],
   "source": [
    "%%sql\n",
    "\n",
    "SELECT\n",
    "    *\n",
    "FROM\n",
    "    customer_list cl\n",
    "WHERE\n",
    "    -- Note that equality tests use just one equals sign\n",
    "    cl.country = 'Canada'"
   ]
  },
  {
   "cell_type": "markdown",
   "metadata": {},
   "source": [
    "#### Filter on multiple conditions with AND"
   ]
  },
  {
   "cell_type": "code",
   "execution_count": 4,
   "metadata": {},
   "outputs": [
    {
     "data": {
      "text/html": [
       "<table>\n",
       "    <tr>\n",
       "        <th>id</th>\n",
       "        <th>name</th>\n",
       "        <th>address</th>\n",
       "        <th>zip code</th>\n",
       "        <th>phone</th>\n",
       "        <th>city</th>\n",
       "        <th>country</th>\n",
       "        <th>notes</th>\n",
       "        <th>sid</th>\n",
       "    </tr>\n",
       "    <tr>\n",
       "        <td>476</td>\n",
       "        <td>Derrick Bourque</td>\n",
       "        <td>1153 Allende Way</td>\n",
       "        <td>20336</td>\n",
       "        <td>856872225376</td>\n",
       "        <td>Gatineau</td>\n",
       "        <td>Canada</td>\n",
       "        <td>active</td>\n",
       "        <td>1</td>\n",
       "    </tr>\n",
       "    <tr>\n",
       "        <td>189</td>\n",
       "        <td>Loretta Carpenter</td>\n",
       "        <td>891 Novi Sad Manor</td>\n",
       "        <td>5379</td>\n",
       "        <td>247646995453</td>\n",
       "        <td>Oshawa</td>\n",
       "        <td>Canada</td>\n",
       "        <td>active</td>\n",
       "        <td>1</td>\n",
       "    </tr>\n",
       "    <tr>\n",
       "        <td>436</td>\n",
       "        <td>Troy Quigley</td>\n",
       "        <td>983 Santa F Way</td>\n",
       "        <td>47472</td>\n",
       "        <td>145720452260</td>\n",
       "        <td>Vancouver</td>\n",
       "        <td>Canada</td>\n",
       "        <td>active</td>\n",
       "        <td>1</td>\n",
       "    </tr>\n",
       "</table>"
      ],
      "text/plain": [
       "[(476, 'Derrick Bourque', '1153 Allende Way', '20336', '856872225376', 'Gatineau', 'Canada', 'active', 1),\n",
       " (189, 'Loretta Carpenter', '891 Novi Sad Manor', '5379', '247646995453', 'Oshawa', 'Canada', 'active', 1),\n",
       " (436, 'Troy Quigley', '983 Santa F Way', '47472', '145720452260', 'Vancouver', 'Canada', 'active', 1)]"
      ]
     },
     "execution_count": 4,
     "metadata": {},
     "output_type": "execute_result"
    }
   ],
   "source": [
    "%%sql\n",
    "\n",
    "SELECT\n",
    "    *\n",
    "FROM\n",
    "    customer_list cl\n",
    "WHERE\n",
    "    cl.country = 'Canada'\n",
    "    AND cl.sid = 1"
   ]
  },
  {
   "cell_type": "markdown",
   "metadata": {},
   "source": [
    "#### The OR operator"
   ]
  },
  {
   "cell_type": "code",
   "execution_count": 5,
   "metadata": {},
   "outputs": [
    {
     "data": {
      "text/html": [
       "<table>\n",
       "    <tr>\n",
       "        <th>id</th>\n",
       "        <th>name</th>\n",
       "        <th>address</th>\n",
       "        <th>zip code</th>\n",
       "        <th>phone</th>\n",
       "        <th>city</th>\n",
       "        <th>country</th>\n",
       "        <th>notes</th>\n",
       "        <th>sid</th>\n",
       "    </tr>\n",
       "    <tr>\n",
       "        <td>476</td>\n",
       "        <td>Derrick Bourque</td>\n",
       "        <td>1153 Allende Way</td>\n",
       "        <td>20336</td>\n",
       "        <td>856872225376</td>\n",
       "        <td>Gatineau</td>\n",
       "        <td>Canada</td>\n",
       "        <td>active</td>\n",
       "        <td>1</td>\n",
       "    </tr>\n",
       "    <tr>\n",
       "        <td>173</td>\n",
       "        <td>Audrey Ray</td>\n",
       "        <td>1010 Klerksdorp Way</td>\n",
       "        <td>6802</td>\n",
       "        <td>493008546874</td>\n",
       "        <td>Graz</td>\n",
       "        <td>Austria</td>\n",
       "        <td>active</td>\n",
       "        <td>1</td>\n",
       "    </tr>\n",
       "    <tr>\n",
       "        <td>463</td>\n",
       "        <td>Darrell Power</td>\n",
       "        <td>1844 Usak Avenue</td>\n",
       "        <td>84461</td>\n",
       "        <td>164414772677</td>\n",
       "        <td>Halifax</td>\n",
       "        <td>Canada</td>\n",
       "        <td>active</td>\n",
       "        <td>2</td>\n",
       "    </tr>\n",
       "    <tr>\n",
       "        <td>189</td>\n",
       "        <td>Loretta Carpenter</td>\n",
       "        <td>891 Novi Sad Manor</td>\n",
       "        <td>5379</td>\n",
       "        <td>247646995453</td>\n",
       "        <td>Oshawa</td>\n",
       "        <td>Canada</td>\n",
       "        <td>active</td>\n",
       "        <td>1</td>\n",
       "    </tr>\n",
       "    <tr>\n",
       "        <td>410</td>\n",
       "        <td>Curtis Irby</td>\n",
       "        <td>432 Garden Grove Street</td>\n",
       "        <td>65630</td>\n",
       "        <td>615964523510</td>\n",
       "        <td>Richmond Hill</td>\n",
       "        <td>Canada</td>\n",
       "        <td>active</td>\n",
       "        <td>2</td>\n",
       "    </tr>\n",
       "    <tr>\n",
       "        <td>436</td>\n",
       "        <td>Troy Quigley</td>\n",
       "        <td>983 Santa F Way</td>\n",
       "        <td>47472</td>\n",
       "        <td>145720452260</td>\n",
       "        <td>Vancouver</td>\n",
       "        <td>Canada</td>\n",
       "        <td>active</td>\n",
       "        <td>1</td>\n",
       "    </tr>\n",
       "</table>"
      ],
      "text/plain": [
       "[(476, 'Derrick Bourque', '1153 Allende Way', '20336', '856872225376', 'Gatineau', 'Canada', 'active', 1),\n",
       " (173, 'Audrey Ray', '1010 Klerksdorp Way', '6802', '493008546874', 'Graz', 'Austria', 'active', 1),\n",
       " (463, 'Darrell Power', '1844 Usak Avenue', '84461', '164414772677', 'Halifax', 'Canada', 'active', 2),\n",
       " (189, 'Loretta Carpenter', '891 Novi Sad Manor', '5379', '247646995453', 'Oshawa', 'Canada', 'active', 1),\n",
       " (410, 'Curtis Irby', '432 Garden Grove Street', '65630', '615964523510', 'Richmond Hill', 'Canada', 'active', 2),\n",
       " (436, 'Troy Quigley', '983 Santa F Way', '47472', '145720452260', 'Vancouver', 'Canada', 'active', 1)]"
      ]
     },
     "execution_count": 5,
     "metadata": {},
     "output_type": "execute_result"
    }
   ],
   "source": [
    "%%sql\n",
    "\n",
    "SELECT\n",
    "    *\n",
    "FROM\n",
    "    customer_list cl\n",
    "WHERE\n",
    "    cl.country = 'Canada'\n",
    "    OR cl.city = 'Graz'"
   ]
  },
  {
   "cell_type": "markdown",
   "metadata": {},
   "source": [
    "#### Combining operators\n",
    "This query will return all details of people matching ONE of the following conditions:\n",
    "- They live in London\n",
    "- They are named Clive and don't live in Berlin"
   ]
  },
  {
   "cell_type": "code",
   "execution_count": 6,
   "metadata": {},
   "outputs": [
    {
     "data": {
      "text/html": [
       "<table>\n",
       "    <tr>\n",
       "        <th>id</th>\n",
       "        <th>name</th>\n",
       "        <th>address</th>\n",
       "        <th>zip code</th>\n",
       "        <th>phone</th>\n",
       "        <th>city</th>\n",
       "        <th>country</th>\n",
       "        <th>notes</th>\n",
       "        <th>sid</th>\n",
       "    </tr>\n",
       "    <tr>\n",
       "        <td>218</td>\n",
       "        <td>Vera Mccoy</td>\n",
       "        <td>1168 Najafabad Parkway</td>\n",
       "        <td>40301</td>\n",
       "        <td>886649065861</td>\n",
       "        <td>Kabul</td>\n",
       "        <td>Afghanistan</td>\n",
       "        <td>active</td>\n",
       "        <td>1</td>\n",
       "    </tr>\n",
       "    <tr>\n",
       "        <td>512</td>\n",
       "        <td>Cecil Vines</td>\n",
       "        <td>548 Uruapan Street</td>\n",
       "        <td>35653</td>\n",
       "        <td>879347453467</td>\n",
       "        <td>London</td>\n",
       "        <td>United Kingdom</td>\n",
       "        <td>active</td>\n",
       "        <td>1</td>\n",
       "    </tr>\n",
       "</table>"
      ],
      "text/plain": [
       "[(218, 'Vera Mccoy', '1168 Najafabad Parkway', '40301', '886649065861', 'Kabul', 'Afghanistan', 'active', 1),\n",
       " (512, 'Cecil Vines', '548 Uruapan Street', '35653', '879347453467', 'London', 'United Kingdom', 'active', 1)]"
      ]
     },
     "execution_count": 6,
     "metadata": {},
     "output_type": "execute_result"
    }
   ],
   "source": [
    "%%sql\n",
    "\n",
    "SELECT\n",
    "    *\n",
    "FROM\n",
    "    customer_list cl\n",
    "WHERE\n",
    "    cl.city = 'Kabul'\n",
    "    OR (\n",
    "        cl.name = 'Cecil Vines'\n",
    "        AND cl.city = 'London'\n",
    "    )"
   ]
  }
 ],
 "metadata": {
  "kernelspec": {
   "display_name": "Python 3",
   "language": "python",
   "name": "python3"
  },
  "language_info": {
   "codemirror_mode": {
    "name": "ipython",
    "version": 3
   },
   "file_extension": ".py",
   "mimetype": "text/x-python",
   "name": "python",
   "nbconvert_exporter": "python",
   "pygments_lexer": "ipython3",
   "version": "3.6.0"
  }
 },
 "nbformat": 4,
 "nbformat_minor": 2
}
