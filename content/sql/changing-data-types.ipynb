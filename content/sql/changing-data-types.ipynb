{
 "cells": [
  {
   "cell_type": "markdown",
   "metadata": {},
   "source": [
    "Title: Changing Data Types\n",
    "Slug: sql/changing-data-types\n",
    "Category: SQL\n",
    "Tags: SELECT, CAST, FROM, LIMIT, ::, float, int, date, time\n",
    "Date: 2017-08-27\n",
    "Modified: 2017-08-27"
   ]
  },
  {
   "cell_type": "markdown",
   "metadata": {},
   "source": [
    "### Load ipython-sql extension"
   ]
  },
  {
   "cell_type": "code",
   "execution_count": 1,
   "metadata": {
    "collapsed": true
   },
   "outputs": [],
   "source": [
    "# The 2 lines below prevent an error message from being displayed when we run %load_ext sql\n",
    "import warnings\n",
    "warnings.filterwarnings('ignore')\n",
    "\n",
    "%load_ext sql\n",
    "%config SqlMagic.feedback = False"
   ]
  },
  {
   "cell_type": "markdown",
   "metadata": {},
   "source": [
    "### Connect to the database"
   ]
  },
  {
   "cell_type": "code",
   "execution_count": 2,
   "metadata": {},
   "outputs": [
    {
     "data": {
      "text/plain": [
       "'Connected: None@dvdrental'"
      ]
     },
     "execution_count": 2,
     "metadata": {},
     "output_type": "execute_result"
    }
   ],
   "source": [
    "%%sql\n",
    "\n",
    "postgresql://localhost/dvdrental"
   ]
  },
  {
   "cell_type": "markdown",
   "metadata": {},
   "source": [
    "### Two ways to cast\n",
    "Data types can be changed with the `CAST` function, but the `::` shorthand can also be used. Here are a few examples."
   ]
  },
  {
   "cell_type": "code",
   "execution_count": 4,
   "metadata": {
    "scrolled": false
   },
   "outputs": [
    {
     "data": {
      "text/html": [
       "<table>\n",
       "    <tr>\n",
       "        <th>payment_id</th>\n",
       "        <th>payment_id_casted</th>\n",
       "        <th>amount</th>\n",
       "        <th>amount_casted</th>\n",
       "        <th>payment_date</th>\n",
       "        <th>payment_date_casted</th>\n",
       "        <th>payment_time_casted</th>\n",
       "    </tr>\n",
       "    <tr>\n",
       "        <td>17503</td>\n",
       "        <td>17503.0</td>\n",
       "        <td>7.99</td>\n",
       "        <td>8</td>\n",
       "        <td>2007-02-15 22:25:46.996577</td>\n",
       "        <td>2007-02-15</td>\n",
       "        <td>22:25:46.996577</td>\n",
       "    </tr>\n",
       "    <tr>\n",
       "        <td>17504</td>\n",
       "        <td>17504.0</td>\n",
       "        <td>1.99</td>\n",
       "        <td>2</td>\n",
       "        <td>2007-02-16 17:23:14.996577</td>\n",
       "        <td>2007-02-16</td>\n",
       "        <td>17:23:14.996577</td>\n",
       "    </tr>\n",
       "    <tr>\n",
       "        <td>17505</td>\n",
       "        <td>17505.0</td>\n",
       "        <td>7.99</td>\n",
       "        <td>8</td>\n",
       "        <td>2007-02-16 22:41:45.996577</td>\n",
       "        <td>2007-02-16</td>\n",
       "        <td>22:41:45.996577</td>\n",
       "    </tr>\n",
       "    <tr>\n",
       "        <td>17506</td>\n",
       "        <td>17506.0</td>\n",
       "        <td>2.99</td>\n",
       "        <td>3</td>\n",
       "        <td>2007-02-19 19:39:56.996577</td>\n",
       "        <td>2007-02-19</td>\n",
       "        <td>19:39:56.996577</td>\n",
       "    </tr>\n",
       "    <tr>\n",
       "        <td>17507</td>\n",
       "        <td>17507.0</td>\n",
       "        <td>7.99</td>\n",
       "        <td>8</td>\n",
       "        <td>2007-02-20 17:31:48.996577</td>\n",
       "        <td>2007-02-20</td>\n",
       "        <td>17:31:48.996577</td>\n",
       "    </tr>\n",
       "</table>"
      ],
      "text/plain": [
       "[(17503, 17503.0, Decimal('7.99'), 8, datetime.datetime(2007, 2, 15, 22, 25, 46, 996577), datetime.date(2007, 2, 15), datetime.time(22, 25, 46, 996577)),\n",
       " (17504, 17504.0, Decimal('1.99'), 2, datetime.datetime(2007, 2, 16, 17, 23, 14, 996577), datetime.date(2007, 2, 16), datetime.time(17, 23, 14, 996577)),\n",
       " (17505, 17505.0, Decimal('7.99'), 8, datetime.datetime(2007, 2, 16, 22, 41, 45, 996577), datetime.date(2007, 2, 16), datetime.time(22, 41, 45, 996577)),\n",
       " (17506, 17506.0, Decimal('2.99'), 3, datetime.datetime(2007, 2, 19, 19, 39, 56, 996577), datetime.date(2007, 2, 19), datetime.time(19, 39, 56, 996577)),\n",
       " (17507, 17507.0, Decimal('7.99'), 8, datetime.datetime(2007, 2, 20, 17, 31, 48, 996577), datetime.date(2007, 2, 20), datetime.time(17, 31, 48, 996577))]"
      ]
     },
     "execution_count": 4,
     "metadata": {},
     "output_type": "execute_result"
    }
   ],
   "source": [
    "%%sql\n",
    "\n",
    "SELECT\n",
    "    p.payment_id\n",
    "    , CAST(p.payment_id AS float) AS payment_id_casted\n",
    "    , p.amount\n",
    "    , p.amount::int as amount_casted\n",
    "    , p.payment_date\n",
    "    , CAST(p.payment_date AS date) as payment_date_casted\n",
    "    , p.payment_date::time as payment_time_casted\n",
    "FROM\n",
    "    payment p\n",
    "LIMIT\n",
    "    5"
   ]
  }
 ],
 "metadata": {
  "kernelspec": {
   "display_name": "Python 3",
   "language": "python",
   "name": "python3"
  },
  "language_info": {
   "codemirror_mode": {
    "name": "ipython",
    "version": 3
   },
   "file_extension": ".py",
   "mimetype": "text/x-python",
   "name": "python",
   "nbconvert_exporter": "python",
   "pygments_lexer": "ipython3",
   "version": "3.6.7"
  }
 },
 "nbformat": 4,
 "nbformat_minor": 2
}
