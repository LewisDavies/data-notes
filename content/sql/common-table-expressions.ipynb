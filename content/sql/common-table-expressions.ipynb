{
 "cells": [
  {
   "cell_type": "markdown",
   "metadata": {},
   "source": [
    "Title: Common Table Expressions\n",
    "Slug: sql/common-table-expressions\n",
    "Category: SQL\n",
    "Tags: WITH, SELECT, FROM, LIMIT, OVER, PARTITION BY, ORDER BY, DESC, rank\n",
    "Date: 2017-08-16\n",
    "Modified: 2017-08-16"
   ]
  },
  {
   "cell_type": "markdown",
   "metadata": {},
   "source": [
    "#### Load ipython-sql extension"
   ]
  },
  {
   "cell_type": "code",
   "execution_count": 1,
   "metadata": {
    "collapsed": true
   },
   "outputs": [],
   "source": [
    "# The 2 lines below prevent an error message from being displayed when we run %load_ext sql\n",
    "import warnings\n",
    "warnings.filterwarnings('ignore')\n",
    "\n",
    "%load_ext sql\n",
    "%config SqlMagic.feedback = False"
   ]
  },
  {
   "cell_type": "markdown",
   "metadata": {},
   "source": [
    "#### Connect to the database"
   ]
  },
  {
   "cell_type": "code",
   "execution_count": 2,
   "metadata": {},
   "outputs": [
    {
     "data": {
      "text/plain": [
       "'Connected: None@dvdrental'"
      ]
     },
     "execution_count": 2,
     "metadata": {},
     "output_type": "execute_result"
    }
   ],
   "source": [
    "%%sql\n",
    "\n",
    "postgresql://localhost/dvdrental"
   ]
  },
  {
   "cell_type": "markdown",
   "metadata": {},
   "source": [
    "#### Using the `WITH` clause\n",
    "We use the `WITH` keyword to create temporary tables just for the query we're currently working on. These are called Common Table Expressions (CTEs).\n",
    "\n",
    "In the simple example below, we execute the query in the `WITH` clause and then return all rows from it."
   ]
  },
  {
   "cell_type": "code",
   "execution_count": 3,
   "metadata": {},
   "outputs": [
    {
     "data": {
      "text/html": [
       "<table>\n",
       "    <tr>\n",
       "        <th>rental_id</th>\n",
       "        <th>customer_id</th>\n",
       "        <th>return_date</th>\n",
       "    </tr>\n",
       "    <tr>\n",
       "        <td>2</td>\n",
       "        <td>459</td>\n",
       "        <td>2005-05-28 19:40:33</td>\n",
       "    </tr>\n",
       "    <tr>\n",
       "        <td>3</td>\n",
       "        <td>408</td>\n",
       "        <td>2005-06-01 22:12:39</td>\n",
       "    </tr>\n",
       "    <tr>\n",
       "        <td>4</td>\n",
       "        <td>333</td>\n",
       "        <td>2005-06-03 01:43:41</td>\n",
       "    </tr>\n",
       "    <tr>\n",
       "        <td>5</td>\n",
       "        <td>222</td>\n",
       "        <td>2005-06-02 04:33:21</td>\n",
       "    </tr>\n",
       "    <tr>\n",
       "        <td>6</td>\n",
       "        <td>549</td>\n",
       "        <td>2005-05-27 01:32:07</td>\n",
       "    </tr>\n",
       "    <tr>\n",
       "        <td>7</td>\n",
       "        <td>269</td>\n",
       "        <td>2005-05-29 20:34:53</td>\n",
       "    </tr>\n",
       "    <tr>\n",
       "        <td>8</td>\n",
       "        <td>239</td>\n",
       "        <td>2005-05-27 23:33:46</td>\n",
       "    </tr>\n",
       "    <tr>\n",
       "        <td>9</td>\n",
       "        <td>126</td>\n",
       "        <td>2005-05-28 00:22:40</td>\n",
       "    </tr>\n",
       "    <tr>\n",
       "        <td>10</td>\n",
       "        <td>399</td>\n",
       "        <td>2005-05-31 22:44:21</td>\n",
       "    </tr>\n",
       "    <tr>\n",
       "        <td>11</td>\n",
       "        <td>142</td>\n",
       "        <td>2005-06-02 20:56:02</td>\n",
       "    </tr>\n",
       "</table>"
      ],
      "text/plain": [
       "[(2, 459, datetime.datetime(2005, 5, 28, 19, 40, 33)),\n",
       " (3, 408, datetime.datetime(2005, 6, 1, 22, 12, 39)),\n",
       " (4, 333, datetime.datetime(2005, 6, 3, 1, 43, 41)),\n",
       " (5, 222, datetime.datetime(2005, 6, 2, 4, 33, 21)),\n",
       " (6, 549, datetime.datetime(2005, 5, 27, 1, 32, 7)),\n",
       " (7, 269, datetime.datetime(2005, 5, 29, 20, 34, 53)),\n",
       " (8, 239, datetime.datetime(2005, 5, 27, 23, 33, 46)),\n",
       " (9, 126, datetime.datetime(2005, 5, 28, 0, 22, 40)),\n",
       " (10, 399, datetime.datetime(2005, 5, 31, 22, 44, 21)),\n",
       " (11, 142, datetime.datetime(2005, 6, 2, 20, 56, 2))]"
      ]
     },
     "execution_count": 3,
     "metadata": {},
     "output_type": "execute_result"
    }
   ],
   "source": [
    "%%sql\n",
    "\n",
    "WITH rental_cte AS (\n",
    "    SELECT\n",
    "        r.rental_id\n",
    "        , customer_id\n",
    "        , r.return_date\n",
    "    FROM\n",
    "        rental r\n",
    "    LIMIT\n",
    "        10\n",
    ")\n",
    "\n",
    "SELECT\n",
    "    *\n",
    "FROM\n",
    "    rental_cte rc"
   ]
  },
  {
   "cell_type": "markdown",
   "metadata": {},
   "source": [
    "#### A common use for CTEs — ranking your results\n",
    "As explained in the page on [Window Functions](../sql/ranking-results-with-window-functions.html), CTEs are useful when ranking our results.\n",
    "\n",
    "Here we will find the last 3 films returned by a sample of customers."
   ]
  },
  {
   "cell_type": "code",
   "execution_count": 4,
   "metadata": {},
   "outputs": [
    {
     "data": {
      "text/html": [
       "<table>\n",
       "    <tr>\n",
       "        <th>rental_id</th>\n",
       "        <th>customer_id</th>\n",
       "        <th>return_date</th>\n",
       "        <th>rk</th>\n",
       "    </tr>\n",
       "    <tr>\n",
       "        <td>15315</td>\n",
       "        <td>1</td>\n",
       "        <td>2005-08-30 01:51:46</td>\n",
       "        <td>1</td>\n",
       "    </tr>\n",
       "    <tr>\n",
       "        <td>15298</td>\n",
       "        <td>1</td>\n",
       "        <td>2005-08-28 22:49:37</td>\n",
       "        <td>2</td>\n",
       "    </tr>\n",
       "    <tr>\n",
       "        <td>14825</td>\n",
       "        <td>1</td>\n",
       "        <td>2005-08-27 07:01:57</td>\n",
       "        <td>3</td>\n",
       "    </tr>\n",
       "    <tr>\n",
       "        <td>15145</td>\n",
       "        <td>2</td>\n",
       "        <td>2005-08-31 15:51:04</td>\n",
       "        <td>1</td>\n",
       "    </tr>\n",
       "    <tr>\n",
       "        <td>14743</td>\n",
       "        <td>2</td>\n",
       "        <td>2005-08-29 00:18:56</td>\n",
       "        <td>2</td>\n",
       "    </tr>\n",
       "    <tr>\n",
       "        <td>14475</td>\n",
       "        <td>2</td>\n",
       "        <td>2005-08-27 08:59:32</td>\n",
       "        <td>3</td>\n",
       "    </tr>\n",
       "    <tr>\n",
       "        <td>14699</td>\n",
       "        <td>3</td>\n",
       "        <td>2005-08-29 18:08:48</td>\n",
       "        <td>1</td>\n",
       "    </tr>\n",
       "    <tr>\n",
       "        <td>13403</td>\n",
       "        <td>3</td>\n",
       "        <td>2005-08-27 19:23:07</td>\n",
       "        <td>2</td>\n",
       "    </tr>\n",
       "    <tr>\n",
       "        <td>15619</td>\n",
       "        <td>3</td>\n",
       "        <td>2005-08-26 07:21:14</td>\n",
       "        <td>3</td>\n",
       "    </tr>\n",
       "</table>"
      ],
      "text/plain": [
       "[(15315, 1, datetime.datetime(2005, 8, 30, 1, 51, 46), 1),\n",
       " (15298, 1, datetime.datetime(2005, 8, 28, 22, 49, 37), 2),\n",
       " (14825, 1, datetime.datetime(2005, 8, 27, 7, 1, 57), 3),\n",
       " (15145, 2, datetime.datetime(2005, 8, 31, 15, 51, 4), 1),\n",
       " (14743, 2, datetime.datetime(2005, 8, 29, 0, 18, 56), 2),\n",
       " (14475, 2, datetime.datetime(2005, 8, 27, 8, 59, 32), 3),\n",
       " (14699, 3, datetime.datetime(2005, 8, 29, 18, 8, 48), 1),\n",
       " (13403, 3, datetime.datetime(2005, 8, 27, 19, 23, 7), 2),\n",
       " (15619, 3, datetime.datetime(2005, 8, 26, 7, 21, 14), 3)]"
      ]
     },
     "execution_count": 4,
     "metadata": {},
     "output_type": "execute_result"
    }
   ],
   "source": [
    "%%sql\n",
    "\n",
    "WITH rental_cte AS (\n",
    "    SELECT\n",
    "        r.rental_id\n",
    "        , customer_id\n",
    "        , r.return_date\n",
    "        , rank() OVER(PARTITION BY r.customer_id ORDER BY r.return_date DESC) as rk\n",
    "    FROM\n",
    "        rental r\n",
    ")\n",
    "\n",
    "SELECT\n",
    "    *\n",
    "FROM\n",
    "    rental_cte rc\n",
    "WHERE\n",
    "    rc.rk < 4\n",
    "-- Show only the first 3 customers to save space\n",
    "LIMIT\n",
    "    9"
   ]
  }
 ],
 "metadata": {
  "kernelspec": {
   "display_name": "Python 3",
   "language": "python",
   "name": "python3"
  },
  "language_info": {
   "codemirror_mode": {
    "name": "ipython",
    "version": 3
   },
   "file_extension": ".py",
   "mimetype": "text/x-python",
   "name": "python",
   "nbconvert_exporter": "python",
   "pygments_lexer": "ipython3",
   "version": "3.6.0"
  }
 },
 "nbformat": 4,
 "nbformat_minor": 2
}
