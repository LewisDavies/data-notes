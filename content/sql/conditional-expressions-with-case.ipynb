{
 "cells": [
  {
   "cell_type": "markdown",
   "metadata": {},
   "source": [
    "### Load ipython-sql extension"
   ]
  },
  {
   "cell_type": "code",
   "execution_count": 1,
   "metadata": {
    "collapsed": true
   },
   "outputs": [],
   "source": [
    "# The 2 lines below prevent an error message from being displayed when we run %load_ext sql\n",
    "import warnings\n",
    "warnings.filterwarnings('ignore')\n",
    "\n",
    "%load_ext sql\n",
    "%config SqlMagic.feedback = False"
   ]
  },
  {
   "cell_type": "markdown",
   "metadata": {},
   "source": [
    "### Connect to the database"
   ]
  },
  {
   "cell_type": "code",
   "execution_count": 2,
   "metadata": {},
   "outputs": [
    {
     "data": {
      "text/plain": [
       "'Connected: None@dvdrental'"
      ]
     },
     "execution_count": 2,
     "metadata": {},
     "output_type": "execute_result"
    }
   ],
   "source": [
    "%%sql\n",
    "\n",
    "postgresql://localhost/dvdrental"
   ]
  },
  {
   "cell_type": "markdown",
   "metadata": {},
   "source": [
    "### Sample from `film` table"
   ]
  },
  {
   "cell_type": "code",
   "execution_count": 3,
   "metadata": {
    "scrolled": true
   },
   "outputs": [
    {
     "data": {
      "text/html": [
       "<table>\n",
       "    <tr>\n",
       "        <th>film_id</th>\n",
       "        <th>title</th>\n",
       "        <th>rental_rate</th>\n",
       "        <th>length</th>\n",
       "    </tr>\n",
       "    <tr>\n",
       "        <td>133</td>\n",
       "        <td>Chamber Italian</td>\n",
       "        <td>4.99</td>\n",
       "        <td>117</td>\n",
       "    </tr>\n",
       "    <tr>\n",
       "        <td>384</td>\n",
       "        <td>Grosse Wonderful</td>\n",
       "        <td>4.99</td>\n",
       "        <td>49</td>\n",
       "    </tr>\n",
       "    <tr>\n",
       "        <td>8</td>\n",
       "        <td>Airport Pollock</td>\n",
       "        <td>4.99</td>\n",
       "        <td>54</td>\n",
       "    </tr>\n",
       "    <tr>\n",
       "        <td>98</td>\n",
       "        <td>Bright Encounters</td>\n",
       "        <td>4.99</td>\n",
       "        <td>73</td>\n",
       "    </tr>\n",
       "    <tr>\n",
       "        <td>1</td>\n",
       "        <td>Academy Dinosaur</td>\n",
       "        <td>0.99</td>\n",
       "        <td>86</td>\n",
       "    </tr>\n",
       "</table>"
      ],
      "text/plain": [
       "[(133, 'Chamber Italian', Decimal('4.99'), 117),\n",
       " (384, 'Grosse Wonderful', Decimal('4.99'), 49),\n",
       " (8, 'Airport Pollock', Decimal('4.99'), 54),\n",
       " (98, 'Bright Encounters', Decimal('4.99'), 73),\n",
       " (1, 'Academy Dinosaur', Decimal('0.99'), 86)]"
      ]
     },
     "execution_count": 3,
     "metadata": {},
     "output_type": "execute_result"
    }
   ],
   "source": [
    "%%sql\n",
    "\n",
    "SELECT\n",
    "    f.film_id\n",
    "    , f.title\n",
    "    , f.rental_rate\n",
    "    , f.length\n",
    "FROM\n",
    "    film f\n",
    "LIMIT\n",
    "    5"
   ]
  },
  {
   "cell_type": "markdown",
   "metadata": {},
   "source": [
    "### Using aggregates"
   ]
  },
  {
   "cell_type": "code",
   "execution_count": 6,
   "metadata": {},
   "outputs": [
    {
     "data": {
      "text/html": [
       "<table>\n",
       "    <tr>\n",
       "        <th>film_id</th>\n",
       "        <th>title</th>\n",
       "        <th>case</th>\n",
       "    </tr>\n",
       "    <tr>\n",
       "        <td>133</td>\n",
       "        <td>Chamber Italian</td>\n",
       "        <td>Goldilocks zone</td>\n",
       "    </tr>\n",
       "    <tr>\n",
       "        <td>384</td>\n",
       "        <td>Grosse Wonderful</td>\n",
       "        <td>Bit of a rip-off</td>\n",
       "    </tr>\n",
       "    <tr>\n",
       "        <td>8</td>\n",
       "        <td>Airport Pollock</td>\n",
       "        <td>Bit of a rip-off</td>\n",
       "    </tr>\n",
       "    <tr>\n",
       "        <td>98</td>\n",
       "        <td>Bright Encounters</td>\n",
       "        <td>Bit of a rip-off</td>\n",
       "    </tr>\n",
       "    <tr>\n",
       "        <td>1</td>\n",
       "        <td>Academy Dinosaur</td>\n",
       "        <td>Goldilocks zone</td>\n",
       "    </tr>\n",
       "    <tr>\n",
       "        <td>2</td>\n",
       "        <td>Ace Goldfinger</td>\n",
       "        <td>Bit of a rip-off</td>\n",
       "    </tr>\n",
       "    <tr>\n",
       "        <td>3</td>\n",
       "        <td>Adaptation Holes</td>\n",
       "        <td>Bit of a rip-off</td>\n",
       "    </tr>\n",
       "    <tr>\n",
       "        <td>4</td>\n",
       "        <td>Affair Prejudice</td>\n",
       "        <td>Goldilocks zone</td>\n",
       "    </tr>\n",
       "    <tr>\n",
       "        <td>5</td>\n",
       "        <td>African Egg</td>\n",
       "        <td>Getting a bit bored now</td>\n",
       "    </tr>\n",
       "    <tr>\n",
       "        <td>6</td>\n",
       "        <td>Agent Truman</td>\n",
       "        <td>Way too long</td>\n",
       "    </tr>\n",
       "</table>"
      ],
      "text/plain": [
       "[(133, 'Chamber Italian', 'Goldilocks zone'),\n",
       " (384, 'Grosse Wonderful', 'Bit of a rip-off'),\n",
       " (8, 'Airport Pollock', 'Bit of a rip-off'),\n",
       " (98, 'Bright Encounters', 'Bit of a rip-off'),\n",
       " (1, 'Academy Dinosaur', 'Goldilocks zone'),\n",
       " (2, 'Ace Goldfinger', 'Bit of a rip-off'),\n",
       " (3, 'Adaptation Holes', 'Bit of a rip-off'),\n",
       " (4, 'Affair Prejudice', 'Goldilocks zone'),\n",
       " (5, 'African Egg', 'Getting a bit bored now'),\n",
       " (6, 'Agent Truman', 'Way too long')]"
      ]
     },
     "execution_count": 6,
     "metadata": {},
     "output_type": "execute_result"
    }
   ],
   "source": [
    "%%sql\n",
    "\n",
    "SELECT\n",
    "    f.film_id\n",
    "    , f.title\n",
    "    , CASE\n",
    "        WHEN f.length > 160 THEN 'Way too long'\n",
    "        WHEN f.length > 120 THEN 'Getting a bit bored now'\n",
    "        WHEN f.length > 80 THEN 'Goldilocks zone'\n",
    "        ELSE 'Bit of a rip-off'\n",
    "        END\n",
    "FROM\n",
    "    film f\n",
    "LIMIT\n",
    "    10"
   ]
  }
 ],
 "metadata": {
  "kernelspec": {
   "display_name": "Python 3",
   "language": "python",
   "name": "python3"
  },
  "language_info": {
   "codemirror_mode": {
    "name": "ipython",
    "version": 3
   },
   "file_extension": ".py",
   "mimetype": "text/x-python",
   "name": "python",
   "nbconvert_exporter": "python",
   "pygments_lexer": "ipython3",
   "version": "3.6.0"
  }
 },
 "nbformat": 4,
 "nbformat_minor": 2
}
