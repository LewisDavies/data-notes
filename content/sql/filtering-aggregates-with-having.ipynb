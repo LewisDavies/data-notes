{
 "cells": [
  {
   "cell_type": "markdown",
   "metadata": {},
   "source": [
    "#### Load ipython-sql extension"
   ]
  },
  {
   "cell_type": "code",
   "execution_count": 1,
   "metadata": {
    "collapsed": true
   },
   "outputs": [],
   "source": [
    "# The 2 lines below prevent an error message from being displayed when we run %load_ext sql\n",
    "import warnings\n",
    "warnings.filterwarnings('ignore')\n",
    "\n",
    "%load_ext sql\n",
    "%config SqlMagic.feedback = False"
   ]
  },
  {
   "cell_type": "markdown",
   "metadata": {},
   "source": [
    "#### Connect to the database"
   ]
  },
  {
   "cell_type": "code",
   "execution_count": 2,
   "metadata": {},
   "outputs": [
    {
     "data": {
      "text/plain": [
       "'Connected: None@dvdrental'"
      ]
     },
     "execution_count": 2,
     "metadata": {},
     "output_type": "execute_result"
    }
   ],
   "source": [
    "%%sql\n",
    "\n",
    "postgresql://localhost/dvdrental"
   ]
  },
  {
   "cell_type": "markdown",
   "metadata": {},
   "source": [
    "#### Sample from `film` table"
   ]
  },
  {
   "cell_type": "code",
   "execution_count": 3,
   "metadata": {
    "scrolled": true
   },
   "outputs": [
    {
     "data": {
      "text/html": [
       "<table>\n",
       "    <tr>\n",
       "        <th>film_id</th>\n",
       "        <th>title</th>\n",
       "        <th>rental_rate</th>\n",
       "        <th>length</th>\n",
       "    </tr>\n",
       "    <tr>\n",
       "        <td>133</td>\n",
       "        <td>Chamber Italian</td>\n",
       "        <td>4.99</td>\n",
       "        <td>117</td>\n",
       "    </tr>\n",
       "    <tr>\n",
       "        <td>384</td>\n",
       "        <td>Grosse Wonderful</td>\n",
       "        <td>4.99</td>\n",
       "        <td>49</td>\n",
       "    </tr>\n",
       "    <tr>\n",
       "        <td>8</td>\n",
       "        <td>Airport Pollock</td>\n",
       "        <td>4.99</td>\n",
       "        <td>54</td>\n",
       "    </tr>\n",
       "    <tr>\n",
       "        <td>98</td>\n",
       "        <td>Bright Encounters</td>\n",
       "        <td>4.99</td>\n",
       "        <td>73</td>\n",
       "    </tr>\n",
       "    <tr>\n",
       "        <td>1</td>\n",
       "        <td>Academy Dinosaur</td>\n",
       "        <td>0.99</td>\n",
       "        <td>86</td>\n",
       "    </tr>\n",
       "</table>"
      ],
      "text/plain": [
       "[(133, 'Chamber Italian', Decimal('4.99'), 117),\n",
       " (384, 'Grosse Wonderful', Decimal('4.99'), 49),\n",
       " (8, 'Airport Pollock', Decimal('4.99'), 54),\n",
       " (98, 'Bright Encounters', Decimal('4.99'), 73),\n",
       " (1, 'Academy Dinosaur', Decimal('0.99'), 86)]"
      ]
     },
     "execution_count": 3,
     "metadata": {},
     "output_type": "execute_result"
    }
   ],
   "source": [
    "%%sql\n",
    "\n",
    "SELECT\n",
    "    f.film_id\n",
    "    , f.title\n",
    "    , f.rental_rate\n",
    "    , f.length\n",
    "FROM\n",
    "    film f\n",
    "LIMIT\n",
    "    5"
   ]
  },
  {
   "cell_type": "markdown",
   "metadata": {},
   "source": [
    "#### Using aggregates"
   ]
  },
  {
   "cell_type": "code",
   "execution_count": 4,
   "metadata": {},
   "outputs": [
    {
     "data": {
      "text/html": [
       "<table>\n",
       "    <tr>\n",
       "        <th>rental_rate</th>\n",
       "        <th>avg</th>\n",
       "    </tr>\n",
       "    <tr>\n",
       "        <td>4.99</td>\n",
       "        <td>115.8244047619047619</td>\n",
       "    </tr>\n",
       "    <tr>\n",
       "        <td>0.99</td>\n",
       "        <td>112.9120234604105572</td>\n",
       "    </tr>\n",
       "    <tr>\n",
       "        <td>2.99</td>\n",
       "        <td>117.1888544891640867</td>\n",
       "    </tr>\n",
       "</table>"
      ],
      "text/plain": [
       "[(Decimal('4.99'), Decimal('115.8244047619047619')),\n",
       " (Decimal('0.99'), Decimal('112.9120234604105572')),\n",
       " (Decimal('2.99'), Decimal('117.1888544891640867'))]"
      ]
     },
     "execution_count": 4,
     "metadata": {},
     "output_type": "execute_result"
    }
   ],
   "source": [
    "%%sql\n",
    "\n",
    "SELECT\n",
    "    f.rental_rate\n",
    "    , avg(f.length)\n",
    "FROM\n",
    "    film f\n",
    "GROUP BY\n",
    "    f.rental_rate"
   ]
  },
  {
   "cell_type": "markdown",
   "metadata": {},
   "source": [
    "#### Filtering on returned aggregates"
   ]
  },
  {
   "cell_type": "code",
   "execution_count": 6,
   "metadata": {},
   "outputs": [
    {
     "data": {
      "text/html": [
       "<table>\n",
       "    <tr>\n",
       "        <th>rental_rate</th>\n",
       "        <th>avg</th>\n",
       "    </tr>\n",
       "    <tr>\n",
       "        <td>2.99</td>\n",
       "        <td>117.1888544891640867</td>\n",
       "    </tr>\n",
       "</table>"
      ],
      "text/plain": [
       "[(Decimal('2.99'), Decimal('117.1888544891640867'))]"
      ]
     },
     "execution_count": 6,
     "metadata": {},
     "output_type": "execute_result"
    }
   ],
   "source": [
    "%%sql\n",
    "\n",
    "SELECT\n",
    "    f.rental_rate\n",
    "    , avg(f.length)\n",
    "FROM\n",
    "    film f\n",
    "GROUP BY\n",
    "    f.rental_rate\n",
    "HAVING\n",
    "    avg(f.length) > 117"
   ]
  }
 ],
 "metadata": {
  "kernelspec": {
   "display_name": "Python 3",
   "language": "python",
   "name": "python3"
  },
  "language_info": {
   "codemirror_mode": {
    "name": "ipython",
    "version": 3
   },
   "file_extension": ".py",
   "mimetype": "text/x-python",
   "name": "python",
   "nbconvert_exporter": "python",
   "pygments_lexer": "ipython3",
   "version": "3.6.0"
  }
 },
 "nbformat": 4,
 "nbformat_minor": 2
}
