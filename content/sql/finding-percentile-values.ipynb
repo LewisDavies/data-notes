{
 "cells": [
  {
   "cell_type": "markdown",
   "metadata": {},
   "source": [
    "Title: Finding Percentile Values\n",
    "Slug: sql/finding-percentile-values\n",
    "Category: SQL\n",
    "Tags: SELECT, FROM, WHERE, WITH, AS, GROUP BY, ORDER BY, AS, OVER, ARRAY, WITHIN GROUP, ntile, max, unnest, percentile_disc, percentile_cont\n",
    "Date: 2017-09-03\n",
    "Modified: 2017-09-03"
   ]
  },
  {
   "cell_type": "markdown",
   "metadata": {},
   "source": [
    "### Load ipython-sql extension"
   ]
  },
  {
   "cell_type": "code",
   "execution_count": 1,
   "metadata": {
    "collapsed": true
   },
   "outputs": [],
   "source": [
    "# The 2 lines below prevent an error message from being displayed when we run %load_ext sql\n",
    "import warnings\n",
    "warnings.filterwarnings('ignore')\n",
    "\n",
    "%load_ext sql\n",
    "%config SqlMagic.feedback = False"
   ]
  },
  {
   "cell_type": "markdown",
   "metadata": {},
   "source": [
    "### Connect to the database"
   ]
  },
  {
   "cell_type": "code",
   "execution_count": 2,
   "metadata": {},
   "outputs": [
    {
     "data": {
      "text/plain": [
       "'Connected: None@dvdrental'"
      ]
     },
     "execution_count": 2,
     "metadata": {},
     "output_type": "execute_result"
    }
   ],
   "source": [
    "%%sql\n",
    "\n",
    "postgresql://localhost/dvdrental"
   ]
  },
  {
   "cell_type": "markdown",
   "metadata": {},
   "source": [
    "### Finding quartile values in older versions of PostgreSQL\n",
    "The number in the `ntile` function can be replaced as necessary. For example, we would use 5 to find the 20th, 40th, 60th, 80th and 100th percentiles, or 100 to find every percentile."
   ]
  },
  {
   "cell_type": "code",
   "execution_count": 28,
   "metadata": {
    "scrolled": true
   },
   "outputs": [
    {
     "data": {
      "text/html": [
       "<table>\n",
       "    <tr>\n",
       "        <th>quartiles</th>\n",
       "    </tr>\n",
       "    <tr>\n",
       "        <td>80</td>\n",
       "    </tr>\n",
       "    <tr>\n",
       "        <td>114</td>\n",
       "    </tr>\n",
       "    <tr>\n",
       "        <td>149</td>\n",
       "    </tr>\n",
       "    <tr>\n",
       "        <td>185</td>\n",
       "    </tr>\n",
       "</table>"
      ],
      "text/plain": [
       "[(80,), (114,), (149,), (185,)]"
      ]
     },
     "execution_count": 28,
     "metadata": {},
     "output_type": "execute_result"
    }
   ],
   "source": [
    "%%sql\n",
    "\n",
    "WITH quartiles AS (\n",
    "    SELECT\n",
    "        f.length,\n",
    "        ntile(4) OVER(ORDER BY f.length) AS quartile\n",
    "    FROM\n",
    "        film f\n",
    "  )\n",
    "\n",
    "SELECT\n",
    "    max(q.length) AS quartiles\n",
    "FROM\n",
    "    quartiles q\n",
    "GROUP BY\n",
    "    quartile\n",
    "ORDER BY\n",
    "    quartile"
   ]
  },
  {
   "cell_type": "markdown",
   "metadata": {},
   "source": [
    "### Newer, simpler functions\n",
    "Version 9.4 introduced a number of new functions that reduce the need for a CTE or subquery when finding percentiles. We can use `percentile_disc` to return the first value that matches or exceeds a particular percentile, whereas `percentile_cont` will interpolate between values if the exact percentile needed isn't found."
   ]
  },
  {
   "cell_type": "code",
   "execution_count": 37,
   "metadata": {},
   "outputs": [
    {
     "data": {
      "text/html": [
       "<table>\n",
       "    <tr>\n",
       "        <th>discrete_quartiles</th>\n",
       "        <th>continuous_quartiles</th>\n",
       "    </tr>\n",
       "    <tr>\n",
       "        <td>80</td>\n",
       "        <td>80.0</td>\n",
       "    </tr>\n",
       "    <tr>\n",
       "        <td>114</td>\n",
       "        <td>114.0</td>\n",
       "    </tr>\n",
       "    <tr>\n",
       "        <td>149</td>\n",
       "        <td>149.25</td>\n",
       "    </tr>\n",
       "    <tr>\n",
       "        <td>185</td>\n",
       "        <td>185.0</td>\n",
       "    </tr>\n",
       "</table>"
      ],
      "text/plain": [
       "[(80, 80.0), (114, 114.0), (149, 149.25), (185, 185.0)]"
      ]
     },
     "execution_count": 37,
     "metadata": {},
     "output_type": "execute_result"
    }
   ],
   "source": [
    "%%sql\n",
    "\n",
    "SELECT\n",
    "    unnest(percentile_disc(ARRAY[0.25, 0.5, 0.75, 1]) WITHIN GROUP (ORDER BY f.length)) AS discrete_quartiles\n",
    "    , unnest(percentile_cont(ARRAY[0.25, 0.5, 0.75, 1]) WITHIN GROUP (ORDER BY f.length)) AS continuous_quartiles\n",
    "FROM\n",
    "    film f"
   ]
  },
  {
   "cell_type": "markdown",
   "metadata": {},
   "source": [
    "### One final example\n",
    "If only one percentile is required, the `unnest` function and `ARRAY` constructor can be removed and your chosen percentile added instead."
   ]
  },
  {
   "cell_type": "code",
   "execution_count": 38,
   "metadata": {},
   "outputs": [
    {
     "data": {
      "text/html": [
       "<table>\n",
       "    <tr>\n",
       "        <th>median</th>\n",
       "    </tr>\n",
       "    <tr>\n",
       "        <td>114</td>\n",
       "    </tr>\n",
       "</table>"
      ],
      "text/plain": [
       "[(114,)]"
      ]
     },
     "execution_count": 38,
     "metadata": {},
     "output_type": "execute_result"
    }
   ],
   "source": [
    "%%sql\n",
    "\n",
    "SELECT\n",
    "    percentile_disc(0.5) WITHIN GROUP (ORDER BY f.length) AS median\n",
    "FROM\n",
    "    film f"
   ]
  },
  {
   "cell_type": "markdown",
   "metadata": {},
   "source": [
    "These examples are based on information on the [2ndQuadrant PostgreSQL blog](https://blog.2ndquadrant.com/the-within-group-and-filter-sql-clauses-of-postgresql-9-4/)."
   ]
  }
 ],
 "metadata": {
  "kernelspec": {
   "display_name": "Python 3",
   "language": "python",
   "name": "python3"
  },
  "language_info": {
   "codemirror_mode": {
    "name": "ipython",
    "version": 3
   },
   "file_extension": ".py",
   "mimetype": "text/x-python",
   "name": "python",
   "nbconvert_exporter": "python",
   "pygments_lexer": "ipython3",
   "version": "3.6.7"
  }
 },
 "nbformat": 4,
 "nbformat_minor": 2
}
