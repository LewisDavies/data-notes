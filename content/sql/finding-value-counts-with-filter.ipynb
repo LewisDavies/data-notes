{
 "cells": [
  {
   "cell_type": "markdown",
   "metadata": {},
   "source": [
    "Title: Finding Value Counts with FILTER\n",
    "Slug: sql/finding-value-counts-with-filter\n",
    "Category: SQL\n",
    "Tags: SELECT, FROM, GROUP BY, ORDER BY, CASE, WHEN, THEN, AS, FILTER, count, sum\n",
    "Date: 2017-09-03\n",
    "Modified: 2017-09-03"
   ]
  },
  {
   "cell_type": "markdown",
   "metadata": {},
   "source": [
    "### Load ipython-sql extension"
   ]
  },
  {
   "cell_type": "code",
   "execution_count": 1,
   "metadata": {
    "collapsed": true
   },
   "outputs": [],
   "source": [
    "# The 2 lines below prevent an error message from being displayed when we run %load_ext sql\n",
    "import warnings\n",
    "warnings.filterwarnings('ignore')\n",
    "\n",
    "%load_ext sql\n",
    "%config SqlMagic.feedback = False"
   ]
  },
  {
   "cell_type": "markdown",
   "metadata": {},
   "source": [
    "### Connect to the database"
   ]
  },
  {
   "cell_type": "code",
   "execution_count": 2,
   "metadata": {},
   "outputs": [
    {
     "data": {
      "text/plain": [
       "'Connected: None@dvdrental'"
      ]
     },
     "execution_count": 2,
     "metadata": {},
     "output_type": "execute_result"
    }
   ],
   "source": [
    "%%sql\n",
    "\n",
    "postgresql://localhost/dvdrental"
   ]
  },
  {
   "cell_type": "markdown",
   "metadata": {},
   "source": [
    "### Basic `count` method"
   ]
  },
  {
   "cell_type": "code",
   "execution_count": 3,
   "metadata": {
    "scrolled": true
   },
   "outputs": [
    {
     "data": {
      "text/html": [
       "<table>\n",
       "    <tr>\n",
       "        <th>rental_duration</th>\n",
       "        <th>count</th>\n",
       "    </tr>\n",
       "    <tr>\n",
       "        <td>3</td>\n",
       "        <td>203</td>\n",
       "    </tr>\n",
       "    <tr>\n",
       "        <td>4</td>\n",
       "        <td>203</td>\n",
       "    </tr>\n",
       "    <tr>\n",
       "        <td>5</td>\n",
       "        <td>191</td>\n",
       "    </tr>\n",
       "    <tr>\n",
       "        <td>6</td>\n",
       "        <td>212</td>\n",
       "    </tr>\n",
       "    <tr>\n",
       "        <td>7</td>\n",
       "        <td>191</td>\n",
       "    </tr>\n",
       "</table>"
      ],
      "text/plain": [
       "[(3, 203), (4, 203), (5, 191), (6, 212), (7, 191)]"
      ]
     },
     "execution_count": 3,
     "metadata": {},
     "output_type": "execute_result"
    }
   ],
   "source": [
    "%%sql\n",
    "\n",
    "SELECT\n",
    "    f.rental_duration\n",
    "    , count(f.rental_duration)\n",
    "FROM\n",
    "    film f\n",
    "GROUP BY\n",
    "    f.rental_duration\n",
    "ORDER BY\n",
    "    f.rental_duration ASC"
   ]
  },
  {
   "cell_type": "markdown",
   "metadata": {},
   "source": [
    "### A more flexible way with `CASE`\n",
    "Let's say we want to categorise our values. In older versions of PostgreSQL, we would do something like this:"
   ]
  },
  {
   "cell_type": "code",
   "execution_count": 4,
   "metadata": {},
   "outputs": [
    {
     "data": {
      "text/html": [
       "<table>\n",
       "    <tr>\n",
       "        <th>under_five</th>\n",
       "        <th>five_or_over</th>\n",
       "    </tr>\n",
       "    <tr>\n",
       "        <td>406</td>\n",
       "        <td>594</td>\n",
       "    </tr>\n",
       "</table>"
      ],
      "text/plain": [
       "[(406, 594)]"
      ]
     },
     "execution_count": 4,
     "metadata": {},
     "output_type": "execute_result"
    }
   ],
   "source": [
    "%%sql\n",
    "\n",
    "SELECT\n",
    "    sum(CASE WHEN f.rental_duration < 5 THEN 1 ELSE 0 END) AS under_five\n",
    "    , sum(CASE WHEN f.rental_duration >= 5 THEN 1 ELSE 0 END) AS five_or_over\n",
    "FROM\n",
    "    film f"
   ]
  },
  {
   "cell_type": "markdown",
   "metadata": {},
   "source": [
    "### An even better way\n",
    "Version 9.4 introduced `FILTER`, letting us write a better, more readable version of the above query."
   ]
  },
  {
   "cell_type": "code",
   "execution_count": 5,
   "metadata": {},
   "outputs": [
    {
     "data": {
      "text/html": [
       "<table>\n",
       "    <tr>\n",
       "        <th>under_five</th>\n",
       "        <th>five_or_over</th>\n",
       "    </tr>\n",
       "    <tr>\n",
       "        <td>406</td>\n",
       "        <td>594</td>\n",
       "    </tr>\n",
       "</table>"
      ],
      "text/plain": [
       "[(406, 594)]"
      ]
     },
     "execution_count": 5,
     "metadata": {},
     "output_type": "execute_result"
    }
   ],
   "source": [
    "%%sql\n",
    "\n",
    "SELECT\n",
    "    count(*) FILTER(WHERE f.rental_duration < 5) AS under_five\n",
    "    , count(*) FILTER(WHERE f.rental_duration >= 5) AS five_or_over\n",
    "FROM\n",
    "    film f"
   ]
  },
  {
   "cell_type": "markdown",
   "metadata": {},
   "source": [
    "### `FILTER` in practice\n",
    "With this new function, we can essentially create a pivot table with a single query."
   ]
  },
  {
   "cell_type": "code",
   "execution_count": 6,
   "metadata": {},
   "outputs": [
    {
     "data": {
      "text/html": [
       "<table>\n",
       "    <tr>\n",
       "        <th>rental_rate</th>\n",
       "        <th>under_five</th>\n",
       "        <th>five_or_over</th>\n",
       "    </tr>\n",
       "    <tr>\n",
       "        <td>0.99</td>\n",
       "        <td>150</td>\n",
       "        <td>191</td>\n",
       "    </tr>\n",
       "    <tr>\n",
       "        <td>2.99</td>\n",
       "        <td>124</td>\n",
       "        <td>199</td>\n",
       "    </tr>\n",
       "    <tr>\n",
       "        <td>4.99</td>\n",
       "        <td>132</td>\n",
       "        <td>204</td>\n",
       "    </tr>\n",
       "</table>"
      ],
      "text/plain": [
       "[(Decimal('0.99'), 150, 191),\n",
       " (Decimal('2.99'), 124, 199),\n",
       " (Decimal('4.99'), 132, 204)]"
      ]
     },
     "execution_count": 6,
     "metadata": {},
     "output_type": "execute_result"
    }
   ],
   "source": [
    "%%sql\n",
    "\n",
    "SELECT\n",
    "    f.rental_rate\n",
    "    , count(*) FILTER(WHERE f.rental_duration < 5) AS under_five\n",
    "    , count(*) FILTER(WHERE f.rental_duration >= 5) AS five_or_over\n",
    "FROM\n",
    "    film f\n",
    "GROUP BY\n",
    "    f.rental_rate\n",
    "ORDER BY\n",
    "    f.rental_rate ASC"
   ]
  },
  {
   "cell_type": "markdown",
   "metadata": {},
   "source": [
    "These examples are based on information in [PostgreSQL: Up and Running](https://www.amazon.co.uk/PostgreSQL-Running-Regina-Obe/dp/1449373194/)."
   ]
  }
 ],
 "metadata": {
  "kernelspec": {
   "display_name": "Python 3",
   "language": "python",
   "name": "python3"
  },
  "language_info": {
   "codemirror_mode": {
    "name": "ipython",
    "version": 3
   },
   "file_extension": ".py",
   "mimetype": "text/x-python",
   "name": "python",
   "nbconvert_exporter": "python",
   "pygments_lexer": "ipython3",
   "version": "3.6.7"
  }
 },
 "nbformat": 4,
 "nbformat_minor": 2
}
