{
 "cells": [
  {
   "cell_type": "markdown",
   "metadata": {},
   "source": [
    "Title: Joining Tables\n",
    "Slug: sql/joining-tables\n",
    "Category: SQL\n",
    "Tags: SELECT, FROM, WHERE, LIMIT, JOIN, INNER JOIN, OUTER JOIN, LEFT JOIN, RIGHT JOIN, CROSS JOIN, UNION, UNION ALL\n",
    "Date: 2017-08-09\n",
    "Modified: 2017-08-09"
   ]
  },
  {
   "cell_type": "markdown",
   "metadata": {},
   "source": [
    "#### Recommended reading\n",
    "I recommend reading the [Coding Horror's explanation of SQL joins](https://blog.codinghorror.com/a-visual-explanation-of-sql-joins/) for more detail. Here are a few examples for reference."
   ]
  },
  {
   "cell_type": "markdown",
   "metadata": {},
   "source": [
    "#### Load ipython-sql extension"
   ]
  },
  {
   "cell_type": "code",
   "execution_count": 2,
   "metadata": {
    "collapsed": true
   },
   "outputs": [],
   "source": [
    "# The 2 lines below prevent an error message from being displayed when we run %load_ext sql\n",
    "import warnings\n",
    "warnings.filterwarnings('ignore')\n",
    "\n",
    "%load_ext sql\n",
    "%config SqlMagic.feedback = False"
   ]
  },
  {
   "cell_type": "markdown",
   "metadata": {},
   "source": [
    "#### Connect to the database"
   ]
  },
  {
   "cell_type": "code",
   "execution_count": 3,
   "metadata": {},
   "outputs": [
    {
     "data": {
      "text/plain": [
       "'Connected: None@dvdrental'"
      ]
     },
     "execution_count": 3,
     "metadata": {},
     "output_type": "execute_result"
    }
   ],
   "source": [
    "%%sql\n",
    "\n",
    "postgresql://localhost/dvdrental"
   ]
  },
  {
   "cell_type": "markdown",
   "metadata": {},
   "source": [
    "#### Joining tables\n",
    "When joining tables, it's handy to give them a shorter alias: this makes it easier to refer to them later. This is important as some tables may have common column names and it's important to differentiate between them.\n",
    "\n",
    "Note that this method works in PostgreSQL, but you may need to add `AS` after the table name in other SQL implementations."
   ]
  },
  {
   "cell_type": "code",
   "execution_count": 4,
   "metadata": {},
   "outputs": [
    {
     "data": {
      "text/html": [
       "<table>\n",
       "    <tr>\n",
       "        <th>customer_id</th>\n",
       "        <th>first_name</th>\n",
       "        <th>last_name</th>\n",
       "        <th>address</th>\n",
       "        <th>district</th>\n",
       "        <th>city_id</th>\n",
       "    </tr>\n",
       "    <tr>\n",
       "        <td>1</td>\n",
       "        <td>Mary</td>\n",
       "        <td>Smith</td>\n",
       "        <td>1913 Hanoi Way</td>\n",
       "        <td>Nagasaki</td>\n",
       "        <td>463</td>\n",
       "    </tr>\n",
       "    <tr>\n",
       "        <td>2</td>\n",
       "        <td>Patricia</td>\n",
       "        <td>Johnson</td>\n",
       "        <td>1121 Loja Avenue</td>\n",
       "        <td>California</td>\n",
       "        <td>449</td>\n",
       "    </tr>\n",
       "    <tr>\n",
       "        <td>3</td>\n",
       "        <td>Linda</td>\n",
       "        <td>Williams</td>\n",
       "        <td>692 Joliet Street</td>\n",
       "        <td>Attika</td>\n",
       "        <td>38</td>\n",
       "    </tr>\n",
       "    <tr>\n",
       "        <td>4</td>\n",
       "        <td>Barbara</td>\n",
       "        <td>Jones</td>\n",
       "        <td>1566 Inegl Manor</td>\n",
       "        <td>Mandalay</td>\n",
       "        <td>349</td>\n",
       "    </tr>\n",
       "    <tr>\n",
       "        <td>5</td>\n",
       "        <td>Elizabeth</td>\n",
       "        <td>Brown</td>\n",
       "        <td>53 Idfu Parkway</td>\n",
       "        <td>Nantou</td>\n",
       "        <td>361</td>\n",
       "    </tr>\n",
       "</table>"
      ],
      "text/plain": [
       "[(1, 'Mary', 'Smith', '1913 Hanoi Way', 'Nagasaki', 463),\n",
       " (2, 'Patricia', 'Johnson', '1121 Loja Avenue', 'California', 449),\n",
       " (3, 'Linda', 'Williams', '692 Joliet Street', 'Attika', 38),\n",
       " (4, 'Barbara', 'Jones', '1566 Inegl Manor', 'Mandalay', 349),\n",
       " (5, 'Elizabeth', 'Brown', '53 Idfu Parkway', 'Nantou', 361)]"
      ]
     },
     "execution_count": 4,
     "metadata": {},
     "output_type": "execute_result"
    }
   ],
   "source": [
    "%%sql\n",
    "\n",
    "SELECT\n",
    "    c.customer_id\n",
    "    , c.first_name\n",
    "    , c.last_name\n",
    "    , a.address\n",
    "    , a.district\n",
    "    , a.city_id\n",
    "FROM\n",
    "    customer c\n",
    "    -- To be explicit, INNER JOIN can also be used here\n",
    "    JOIN address a on a.address_id = c.address_id\n",
    "LIMIT\n",
    "    5"
   ]
  },
  {
   "cell_type": "markdown",
   "metadata": {},
   "source": [
    "#### Different types of join\n",
    "In addition to `INNER JOIN`, you can also use `OUTER JOIN`, `LEFT JOIN`, `RIGHT JOIN`, and `CROSS JOIN`. Since the syntax is essentially the same, I'll explain how they work.\n",
    "\n",
    "#### `INNER JOIN`\n",
    "Find records in table 1 that have a match in table 2, ignoring records that don't appear in both tables. This is how the example above works.\n",
    "\n",
    "#### `OUTER JOIN`\n",
    "Preserve all records from both tables. If a record from table 1 has a match in table 2, join them together. If a record from table 1 doesn't have a match in table 2, return the `NULL` values for the columns from table 2 (and vice versa).\n",
    "\n",
    "#### `LEFT JOIN` & `RIGHT JOIN`\n",
    "In a `LEFT JOIN`, all data from the left table is preserved, with matching data from the right table join where it exists. In a `RIGHT JOIN`, the data from the right table is preserved instead.\n",
    "\n",
    "The 'leftmost' table is the first table specified in your query. For example, in the query above `customer` is the left table and `address` is the right table.\n",
    "\n",
    "#### `CROSS JOIN`\n",
    "Match all possible combinations of two tables. As you might expect, this can lead to very large tables and is probably the least common type of join. To deomnstrate, let's `CROSS JOIN` a small sub-selection on the `film` and `language` tables:"
   ]
  },
  {
   "cell_type": "code",
   "execution_count": 5,
   "metadata": {},
   "outputs": [
    {
     "data": {
      "text/html": [
       "<table>\n",
       "    <tr>\n",
       "        <th>film_id</th>\n",
       "        <th>title</th>\n",
       "    </tr>\n",
       "    <tr>\n",
       "        <td>1</td>\n",
       "        <td>Academy Dinosaur</td>\n",
       "    </tr>\n",
       "    <tr>\n",
       "        <td>2</td>\n",
       "        <td>Ace Goldfinger</td>\n",
       "    </tr>\n",
       "    <tr>\n",
       "        <td>3</td>\n",
       "        <td>Adaptation Holes</td>\n",
       "    </tr>\n",
       "</table>"
      ],
      "text/plain": [
       "[(1, 'Academy Dinosaur'), (2, 'Ace Goldfinger'), (3, 'Adaptation Holes')]"
      ]
     },
     "execution_count": 5,
     "metadata": {},
     "output_type": "execute_result"
    }
   ],
   "source": [
    "%%sql\n",
    "\n",
    "SELECT\n",
    "    f.film_id\n",
    "    , f.title\n",
    "FROM\n",
    "    film f\n",
    "WHERE\n",
    "    f.film_id < 4"
   ]
  },
  {
   "cell_type": "code",
   "execution_count": 7,
   "metadata": {},
   "outputs": [
    {
     "data": {
      "text/html": [
       "<table>\n",
       "    <tr>\n",
       "        <th>language_id</th>\n",
       "        <th>name</th>\n",
       "    </tr>\n",
       "    <tr>\n",
       "        <td>1</td>\n",
       "        <td>English             </td>\n",
       "    </tr>\n",
       "    <tr>\n",
       "        <td>2</td>\n",
       "        <td>Italian             </td>\n",
       "    </tr>\n",
       "    <tr>\n",
       "        <td>3</td>\n",
       "        <td>Japanese            </td>\n",
       "    </tr>\n",
       "</table>"
      ],
      "text/plain": [
       "[(1, 'English             '),\n",
       " (2, 'Italian             '),\n",
       " (3, 'Japanese            ')]"
      ]
     },
     "execution_count": 7,
     "metadata": {},
     "output_type": "execute_result"
    }
   ],
   "source": [
    "%%sql\n",
    "\n",
    "SELECT\n",
    "    l.language_id\n",
    "    , l.name\n",
    "FROM\n",
    "    language l\n",
    "WHERE\n",
    "    l.language_id < 4"
   ]
  },
  {
   "cell_type": "code",
   "execution_count": 9,
   "metadata": {},
   "outputs": [
    {
     "data": {
      "text/html": [
       "<table>\n",
       "    <tr>\n",
       "        <th>film_id</th>\n",
       "        <th>title</th>\n",
       "        <th>language_id</th>\n",
       "        <th>name</th>\n",
       "    </tr>\n",
       "    <tr>\n",
       "        <td>1</td>\n",
       "        <td>Academy Dinosaur</td>\n",
       "        <td>1</td>\n",
       "        <td>English             </td>\n",
       "    </tr>\n",
       "    <tr>\n",
       "        <td>1</td>\n",
       "        <td>Academy Dinosaur</td>\n",
       "        <td>2</td>\n",
       "        <td>Italian             </td>\n",
       "    </tr>\n",
       "    <tr>\n",
       "        <td>1</td>\n",
       "        <td>Academy Dinosaur</td>\n",
       "        <td>3</td>\n",
       "        <td>Japanese            </td>\n",
       "    </tr>\n",
       "    <tr>\n",
       "        <td>2</td>\n",
       "        <td>Ace Goldfinger</td>\n",
       "        <td>1</td>\n",
       "        <td>English             </td>\n",
       "    </tr>\n",
       "    <tr>\n",
       "        <td>2</td>\n",
       "        <td>Ace Goldfinger</td>\n",
       "        <td>2</td>\n",
       "        <td>Italian             </td>\n",
       "    </tr>\n",
       "    <tr>\n",
       "        <td>2</td>\n",
       "        <td>Ace Goldfinger</td>\n",
       "        <td>3</td>\n",
       "        <td>Japanese            </td>\n",
       "    </tr>\n",
       "    <tr>\n",
       "        <td>3</td>\n",
       "        <td>Adaptation Holes</td>\n",
       "        <td>1</td>\n",
       "        <td>English             </td>\n",
       "    </tr>\n",
       "    <tr>\n",
       "        <td>3</td>\n",
       "        <td>Adaptation Holes</td>\n",
       "        <td>2</td>\n",
       "        <td>Italian             </td>\n",
       "    </tr>\n",
       "    <tr>\n",
       "        <td>3</td>\n",
       "        <td>Adaptation Holes</td>\n",
       "        <td>3</td>\n",
       "        <td>Japanese            </td>\n",
       "    </tr>\n",
       "</table>"
      ],
      "text/plain": [
       "[(1, 'Academy Dinosaur', 1, 'English             '),\n",
       " (1, 'Academy Dinosaur', 2, 'Italian             '),\n",
       " (1, 'Academy Dinosaur', 3, 'Japanese            '),\n",
       " (2, 'Ace Goldfinger', 1, 'English             '),\n",
       " (2, 'Ace Goldfinger', 2, 'Italian             '),\n",
       " (2, 'Ace Goldfinger', 3, 'Japanese            '),\n",
       " (3, 'Adaptation Holes', 1, 'English             '),\n",
       " (3, 'Adaptation Holes', 2, 'Italian             '),\n",
       " (3, 'Adaptation Holes', 3, 'Japanese            ')]"
      ]
     },
     "execution_count": 9,
     "metadata": {},
     "output_type": "execute_result"
    }
   ],
   "source": [
    "%%sql\n",
    "\n",
    "SELECT\n",
    "    f.film_id\n",
    "    , f.title\n",
    "    , l.language_id\n",
    "    , l.name\n",
    "FROM\n",
    "    film f\n",
    "    CROSS JOIN language l\n",
    "WHERE\n",
    "    f.film_id < 4\n",
    "    AND l.language_id < 4"
   ]
  },
  {
   "cell_type": "markdown",
   "metadata": {},
   "source": [
    "#### `UNION`\n",
    "Combine the results of two or more `SELECT` statements into a single table. Returned results are stacked one above the other, not side-by-side as with the `JOIN`s listed above:"
   ]
  },
  {
   "cell_type": "code",
   "execution_count": 13,
   "metadata": {},
   "outputs": [
    {
     "data": {
      "text/html": [
       "<table>\n",
       "    <tr>\n",
       "        <th>actor_id</th>\n",
       "        <th>first_name</th>\n",
       "        <th>last_name</th>\n",
       "    </tr>\n",
       "    <tr>\n",
       "        <td>2</td>\n",
       "        <td>Nick</td>\n",
       "        <td>Wahlberg</td>\n",
       "    </tr>\n",
       "    <tr>\n",
       "        <td>3</td>\n",
       "        <td>Linda</td>\n",
       "        <td>Williams</td>\n",
       "    </tr>\n",
       "    <tr>\n",
       "        <td>3</td>\n",
       "        <td>Ed</td>\n",
       "        <td>Chase</td>\n",
       "    </tr>\n",
       "    <tr>\n",
       "        <td>1</td>\n",
       "        <td>Mary</td>\n",
       "        <td>Smith</td>\n",
       "    </tr>\n",
       "    <tr>\n",
       "        <td>1</td>\n",
       "        <td>Penelope</td>\n",
       "        <td>Guiness</td>\n",
       "    </tr>\n",
       "    <tr>\n",
       "        <td>2</td>\n",
       "        <td>Patricia</td>\n",
       "        <td>Johnson</td>\n",
       "    </tr>\n",
       "</table>"
      ],
      "text/plain": [
       "[(2, 'Nick', 'Wahlberg'),\n",
       " (3, 'Linda', 'Williams'),\n",
       " (3, 'Ed', 'Chase'),\n",
       " (1, 'Mary', 'Smith'),\n",
       " (1, 'Penelope', 'Guiness'),\n",
       " (2, 'Patricia', 'Johnson')]"
      ]
     },
     "execution_count": 13,
     "metadata": {},
     "output_type": "execute_result"
    }
   ],
   "source": [
    "%%sql\n",
    "\n",
    "SELECT\n",
    "    a.actor_id\n",
    "    , a.first_name\n",
    "    , a.last_name\n",
    "FROM\n",
    "    actor a\n",
    "WHERE\n",
    "    a.actor_id < 4"
   ]
  },
  {
   "cell_type": "code",
   "execution_count": 11,
   "metadata": {},
   "outputs": [
    {
     "data": {
      "text/html": [
       "<table>\n",
       "    <tr>\n",
       "        <th>customer_id</th>\n",
       "        <th>first_name</th>\n",
       "        <th>last_name</th>\n",
       "    </tr>\n",
       "    <tr>\n",
       "        <td>1</td>\n",
       "        <td>Mary</td>\n",
       "        <td>Smith</td>\n",
       "    </tr>\n",
       "    <tr>\n",
       "        <td>2</td>\n",
       "        <td>Patricia</td>\n",
       "        <td>Johnson</td>\n",
       "    </tr>\n",
       "    <tr>\n",
       "        <td>3</td>\n",
       "        <td>Linda</td>\n",
       "        <td>Williams</td>\n",
       "    </tr>\n",
       "</table>"
      ],
      "text/plain": [
       "[(1, 'Mary', 'Smith'), (2, 'Patricia', 'Johnson'), (3, 'Linda', 'Williams')]"
      ]
     },
     "execution_count": 11,
     "metadata": {},
     "output_type": "execute_result"
    }
   ],
   "source": [
    "%%sql\n",
    "\n",
    "SELECT\n",
    "    c.customer_id\n",
    "    , c.first_name\n",
    "    , c.last_name\n",
    "FROM\n",
    "    customer c\n",
    "WHERE\n",
    "    c.customer_id < 4"
   ]
  },
  {
   "cell_type": "code",
   "execution_count": 14,
   "metadata": {},
   "outputs": [
    {
     "data": {
      "text/html": [
       "<table>\n",
       "    <tr>\n",
       "        <th>actor_id</th>\n",
       "        <th>first_name</th>\n",
       "        <th>last_name</th>\n",
       "    </tr>\n",
       "    <tr>\n",
       "        <td>2</td>\n",
       "        <td>Nick</td>\n",
       "        <td>Wahlberg</td>\n",
       "    </tr>\n",
       "    <tr>\n",
       "        <td>3</td>\n",
       "        <td>Linda</td>\n",
       "        <td>Williams</td>\n",
       "    </tr>\n",
       "    <tr>\n",
       "        <td>3</td>\n",
       "        <td>Ed</td>\n",
       "        <td>Chase</td>\n",
       "    </tr>\n",
       "    <tr>\n",
       "        <td>1</td>\n",
       "        <td>Mary</td>\n",
       "        <td>Smith</td>\n",
       "    </tr>\n",
       "    <tr>\n",
       "        <td>1</td>\n",
       "        <td>Penelope</td>\n",
       "        <td>Guiness</td>\n",
       "    </tr>\n",
       "    <tr>\n",
       "        <td>2</td>\n",
       "        <td>Patricia</td>\n",
       "        <td>Johnson</td>\n",
       "    </tr>\n",
       "</table>"
      ],
      "text/plain": [
       "[(2, 'Nick', 'Wahlberg'),\n",
       " (3, 'Linda', 'Williams'),\n",
       " (3, 'Ed', 'Chase'),\n",
       " (1, 'Mary', 'Smith'),\n",
       " (1, 'Penelope', 'Guiness'),\n",
       " (2, 'Patricia', 'Johnson')]"
      ]
     },
     "execution_count": 14,
     "metadata": {},
     "output_type": "execute_result"
    }
   ],
   "source": [
    "%%sql\n",
    "\n",
    "SELECT\n",
    "    a.actor_id\n",
    "    , a.first_name\n",
    "    , a.last_name\n",
    "FROM\n",
    "    actor a\n",
    "WHERE\n",
    "    a.actor_id < 4\n",
    "    \n",
    "UNION\n",
    "\n",
    "SELECT\n",
    "    c.customer_id\n",
    "    , c.first_name\n",
    "    , c.last_name\n",
    "FROM\n",
    "    customer c\n",
    "WHERE\n",
    "    c.customer_id < 4"
   ]
  },
  {
   "cell_type": "markdown",
   "metadata": {},
   "source": [
    "If there were any duplicate rows in these results, `UNION` would have removed them. To preserve all rows including duplicates, use `UNION ALL`."
   ]
  }
 ],
 "metadata": {
  "kernelspec": {
   "display_name": "Python 3",
   "language": "python",
   "name": "python3"
  },
  "language_info": {
   "codemirror_mode": {
    "name": "ipython",
    "version": 3
   },
   "file_extension": ".py",
   "mimetype": "text/x-python",
   "name": "python",
   "nbconvert_exporter": "python",
   "pygments_lexer": "ipython3",
   "version": "3.6.1"
  }
 },
 "nbformat": 4,
 "nbformat_minor": 2
}
