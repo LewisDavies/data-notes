{
 "cells": [
  {
   "cell_type": "markdown",
   "metadata": {},
   "source": [
    "### Load ipython-sql extension"
   ]
  },
  {
   "cell_type": "code",
   "execution_count": 1,
   "metadata": {
    "collapsed": true
   },
   "outputs": [],
   "source": [
    "# The 2 lines below prevent an error message from being displayed when we run %load_ext sql\n",
    "import warnings\n",
    "warnings.filterwarnings('ignore')\n",
    "\n",
    "%load_ext sql\n",
    "%config SqlMagic.feedback = False"
   ]
  },
  {
   "cell_type": "markdown",
   "metadata": {},
   "source": [
    "### Connect to the database"
   ]
  },
  {
   "cell_type": "code",
   "execution_count": 2,
   "metadata": {},
   "outputs": [
    {
     "data": {
      "text/plain": [
       "'Connected: None@dvdrental'"
      ]
     },
     "execution_count": 2,
     "metadata": {},
     "output_type": "execute_result"
    }
   ],
   "source": [
    "%%sql\n",
    "\n",
    "postgresql://localhost/dvdrental"
   ]
  },
  {
   "cell_type": "markdown",
   "metadata": {},
   "source": [
    "### Sample data"
   ]
  },
  {
   "cell_type": "code",
   "execution_count": 4,
   "metadata": {},
   "outputs": [
    {
     "data": {
      "text/html": [
       "<table>\n",
       "    <tr>\n",
       "        <th>category_id</th>\n",
       "        <th>name</th>\n",
       "        <th>last_update</th>\n",
       "    </tr>\n",
       "    <tr>\n",
       "        <td>1</td>\n",
       "        <td>Action</td>\n",
       "        <td>2006-02-15 09:46:27</td>\n",
       "    </tr>\n",
       "    <tr>\n",
       "        <td>2</td>\n",
       "        <td>Animation</td>\n",
       "        <td>2006-02-15 09:46:27</td>\n",
       "    </tr>\n",
       "    <tr>\n",
       "        <td>3</td>\n",
       "        <td>Children</td>\n",
       "        <td>2006-02-15 09:46:27</td>\n",
       "    </tr>\n",
       "    <tr>\n",
       "        <td>4</td>\n",
       "        <td>Classics</td>\n",
       "        <td>2006-02-15 09:46:27</td>\n",
       "    </tr>\n",
       "    <tr>\n",
       "        <td>5</td>\n",
       "        <td>Comedy</td>\n",
       "        <td>2006-02-15 09:46:27</td>\n",
       "    </tr>\n",
       "    <tr>\n",
       "        <td>6</td>\n",
       "        <td>Documentary</td>\n",
       "        <td>2006-02-15 09:46:27</td>\n",
       "    </tr>\n",
       "    <tr>\n",
       "        <td>7</td>\n",
       "        <td>Drama</td>\n",
       "        <td>2006-02-15 09:46:27</td>\n",
       "    </tr>\n",
       "    <tr>\n",
       "        <td>8</td>\n",
       "        <td>Family</td>\n",
       "        <td>2006-02-15 09:46:27</td>\n",
       "    </tr>\n",
       "    <tr>\n",
       "        <td>9</td>\n",
       "        <td>Foreign</td>\n",
       "        <td>2006-02-15 09:46:27</td>\n",
       "    </tr>\n",
       "    <tr>\n",
       "        <td>10</td>\n",
       "        <td>Games</td>\n",
       "        <td>2006-02-15 09:46:27</td>\n",
       "    </tr>\n",
       "    <tr>\n",
       "        <td>11</td>\n",
       "        <td>Horror</td>\n",
       "        <td>2006-02-15 09:46:27</td>\n",
       "    </tr>\n",
       "    <tr>\n",
       "        <td>12</td>\n",
       "        <td>Music</td>\n",
       "        <td>2006-02-15 09:46:27</td>\n",
       "    </tr>\n",
       "    <tr>\n",
       "        <td>13</td>\n",
       "        <td>New</td>\n",
       "        <td>2006-02-15 09:46:27</td>\n",
       "    </tr>\n",
       "    <tr>\n",
       "        <td>14</td>\n",
       "        <td>Sci-Fi</td>\n",
       "        <td>2006-02-15 09:46:27</td>\n",
       "    </tr>\n",
       "    <tr>\n",
       "        <td>15</td>\n",
       "        <td>Sports</td>\n",
       "        <td>2006-02-15 09:46:27</td>\n",
       "    </tr>\n",
       "    <tr>\n",
       "        <td>16</td>\n",
       "        <td>Travel</td>\n",
       "        <td>2006-02-15 09:46:27</td>\n",
       "    </tr>\n",
       "</table>"
      ],
      "text/plain": [
       "[(1, 'Action', datetime.datetime(2006, 2, 15, 9, 46, 27)),\n",
       " (2, 'Animation', datetime.datetime(2006, 2, 15, 9, 46, 27)),\n",
       " (3, 'Children', datetime.datetime(2006, 2, 15, 9, 46, 27)),\n",
       " (4, 'Classics', datetime.datetime(2006, 2, 15, 9, 46, 27)),\n",
       " (5, 'Comedy', datetime.datetime(2006, 2, 15, 9, 46, 27)),\n",
       " (6, 'Documentary', datetime.datetime(2006, 2, 15, 9, 46, 27)),\n",
       " (7, 'Drama', datetime.datetime(2006, 2, 15, 9, 46, 27)),\n",
       " (8, 'Family', datetime.datetime(2006, 2, 15, 9, 46, 27)),\n",
       " (9, 'Foreign', datetime.datetime(2006, 2, 15, 9, 46, 27)),\n",
       " (10, 'Games', datetime.datetime(2006, 2, 15, 9, 46, 27)),\n",
       " (11, 'Horror', datetime.datetime(2006, 2, 15, 9, 46, 27)),\n",
       " (12, 'Music', datetime.datetime(2006, 2, 15, 9, 46, 27)),\n",
       " (13, 'New', datetime.datetime(2006, 2, 15, 9, 46, 27)),\n",
       " (14, 'Sci-Fi', datetime.datetime(2006, 2, 15, 9, 46, 27)),\n",
       " (15, 'Sports', datetime.datetime(2006, 2, 15, 9, 46, 27)),\n",
       " (16, 'Travel', datetime.datetime(2006, 2, 15, 9, 46, 27))]"
      ]
     },
     "execution_count": 4,
     "metadata": {},
     "output_type": "execute_result"
    }
   ],
   "source": [
    "%%sql\n",
    "\n",
    "SELECT\n",
    "    *\n",
    "FROM\n",
    "    category c"
   ]
  },
  {
   "cell_type": "markdown",
   "metadata": {},
   "source": [
    "### Using LIMIT"
   ]
  },
  {
   "cell_type": "code",
   "execution_count": 3,
   "metadata": {
    "scrolled": true
   },
   "outputs": [
    {
     "data": {
      "text/html": [
       "<table>\n",
       "    <tr>\n",
       "        <th>category_id</th>\n",
       "        <th>name</th>\n",
       "        <th>last_update</th>\n",
       "    </tr>\n",
       "    <tr>\n",
       "        <td>1</td>\n",
       "        <td>Action</td>\n",
       "        <td>2006-02-15 09:46:27</td>\n",
       "    </tr>\n",
       "    <tr>\n",
       "        <td>2</td>\n",
       "        <td>Animation</td>\n",
       "        <td>2006-02-15 09:46:27</td>\n",
       "    </tr>\n",
       "    <tr>\n",
       "        <td>3</td>\n",
       "        <td>Children</td>\n",
       "        <td>2006-02-15 09:46:27</td>\n",
       "    </tr>\n",
       "    <tr>\n",
       "        <td>4</td>\n",
       "        <td>Classics</td>\n",
       "        <td>2006-02-15 09:46:27</td>\n",
       "    </tr>\n",
       "    <tr>\n",
       "        <td>5</td>\n",
       "        <td>Comedy</td>\n",
       "        <td>2006-02-15 09:46:27</td>\n",
       "    </tr>\n",
       "</table>"
      ],
      "text/plain": [
       "[(1, 'Action', datetime.datetime(2006, 2, 15, 9, 46, 27)),\n",
       " (2, 'Animation', datetime.datetime(2006, 2, 15, 9, 46, 27)),\n",
       " (3, 'Children', datetime.datetime(2006, 2, 15, 9, 46, 27)),\n",
       " (4, 'Classics', datetime.datetime(2006, 2, 15, 9, 46, 27)),\n",
       " (5, 'Comedy', datetime.datetime(2006, 2, 15, 9, 46, 27))]"
      ]
     },
     "execution_count": 3,
     "metadata": {},
     "output_type": "execute_result"
    }
   ],
   "source": [
    "%%sql\n",
    "\n",
    "SELECT\n",
    "    *\n",
    "FROM\n",
    "    category c\n",
    "LIMIT\n",
    "    5"
   ]
  },
  {
   "cell_type": "markdown",
   "metadata": {},
   "source": [
    "### Removing the first *n* results"
   ]
  },
  {
   "cell_type": "code",
   "execution_count": 12,
   "metadata": {},
   "outputs": [
    {
     "data": {
      "text/html": [
       "<table>\n",
       "    <tr>\n",
       "        <th>category_id</th>\n",
       "        <th>name</th>\n",
       "        <th>last_update</th>\n",
       "    </tr>\n",
       "    <tr>\n",
       "        <td>6</td>\n",
       "        <td>Documentary</td>\n",
       "        <td>2006-02-15 09:46:27</td>\n",
       "    </tr>\n",
       "    <tr>\n",
       "        <td>7</td>\n",
       "        <td>Drama</td>\n",
       "        <td>2006-02-15 09:46:27</td>\n",
       "    </tr>\n",
       "    <tr>\n",
       "        <td>8</td>\n",
       "        <td>Family</td>\n",
       "        <td>2006-02-15 09:46:27</td>\n",
       "    </tr>\n",
       "    <tr>\n",
       "        <td>9</td>\n",
       "        <td>Foreign</td>\n",
       "        <td>2006-02-15 09:46:27</td>\n",
       "    </tr>\n",
       "    <tr>\n",
       "        <td>10</td>\n",
       "        <td>Games</td>\n",
       "        <td>2006-02-15 09:46:27</td>\n",
       "    </tr>\n",
       "</table>"
      ],
      "text/plain": [
       "[(6, 'Documentary', datetime.datetime(2006, 2, 15, 9, 46, 27)),\n",
       " (7, 'Drama', datetime.datetime(2006, 2, 15, 9, 46, 27)),\n",
       " (8, 'Family', datetime.datetime(2006, 2, 15, 9, 46, 27)),\n",
       " (9, 'Foreign', datetime.datetime(2006, 2, 15, 9, 46, 27)),\n",
       " (10, 'Games', datetime.datetime(2006, 2, 15, 9, 46, 27))]"
      ]
     },
     "execution_count": 12,
     "metadata": {},
     "output_type": "execute_result"
    }
   ],
   "source": [
    "%%sql\n",
    "\n",
    "SELECT\n",
    "    *\n",
    "FROM\n",
    "    category c\n",
    "LIMIT\n",
    "    5\n",
    "OFFSET\n",
    "    5"
   ]
  }
 ],
 "metadata": {
  "kernelspec": {
   "display_name": "Python 3",
   "language": "python",
   "name": "python3"
  },
  "language_info": {
   "codemirror_mode": {
    "name": "ipython",
    "version": 3
   },
   "file_extension": ".py",
   "mimetype": "text/x-python",
   "name": "python",
   "nbconvert_exporter": "python",
   "pygments_lexer": "ipython3",
   "version": "3.6.0"
  }
 },
 "nbformat": 4,
 "nbformat_minor": 2
}
