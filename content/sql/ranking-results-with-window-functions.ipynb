{
 "cells": [
  {
   "cell_type": "markdown",
   "metadata": {},
   "source": [
    "Title: Ranking Results with Window Functions\n",
    "Slug: sql/ranking-results-with-window-functions\n",
    "Category: SQL\n",
    "Tags: SELECT, FROM, LIMIT, WHERE, OVER, PARTITION BY, ORDER BY, DESC, rank\n",
    "Date: 2017-08-15\n",
    "Modified: 2017-10-23"
   ]
  },
  {
   "cell_type": "markdown",
   "metadata": {},
   "source": [
    "#### Load ipython-sql extension"
   ]
  },
  {
   "cell_type": "code",
   "execution_count": 1,
   "metadata": {
    "collapsed": true
   },
   "outputs": [],
   "source": [
    "# The 2 lines below prevent an error message from being displayed when we run %load_ext sql\n",
    "import warnings\n",
    "warnings.filterwarnings('ignore')\n",
    "\n",
    "%load_ext sql\n",
    "%config SqlMagic.feedback = False"
   ]
  },
  {
   "cell_type": "markdown",
   "metadata": {},
   "source": [
    "#### Connect to the database"
   ]
  },
  {
   "cell_type": "code",
   "execution_count": 2,
   "metadata": {},
   "outputs": [
    {
     "data": {
      "text/plain": [
       "'Connected: None@dvdrental'"
      ]
     },
     "execution_count": 2,
     "metadata": {},
     "output_type": "execute_result"
    }
   ],
   "source": [
    "%%sql\n",
    "\n",
    "postgresql://localhost/dvdrental"
   ]
  },
  {
   "cell_type": "markdown",
   "metadata": {},
   "source": [
    "#### Ranking results\n",
    "Using the `OVER` clause allows us to run a function on the results returned from the database. In this example we rank films from longest to shortest at each rental rate."
   ]
  },
  {
   "cell_type": "code",
   "execution_count": 3,
   "metadata": {},
   "outputs": [
    {
     "data": {
      "text/html": [
       "<table>\n",
       "    <tr>\n",
       "        <th>film_id</th>\n",
       "        <th>title</th>\n",
       "        <th>rental_rate</th>\n",
       "        <th>length</th>\n",
       "        <th>rk</th>\n",
       "    </tr>\n",
       "    <tr>\n",
       "        <td>813</td>\n",
       "        <td>Smoochy Control</td>\n",
       "        <td>0.99</td>\n",
       "        <td>184</td>\n",
       "        <td>1</td>\n",
       "    </tr>\n",
       "    <tr>\n",
       "        <td>886</td>\n",
       "        <td>Theory Mermaid</td>\n",
       "        <td>0.99</td>\n",
       "        <td>184</td>\n",
       "        <td>1</td>\n",
       "    </tr>\n",
       "    <tr>\n",
       "        <td>821</td>\n",
       "        <td>Sorority Queen</td>\n",
       "        <td>0.99</td>\n",
       "        <td>184</td>\n",
       "        <td>1</td>\n",
       "    </tr>\n",
       "    <tr>\n",
       "        <td>996</td>\n",
       "        <td>Young Language</td>\n",
       "        <td>0.99</td>\n",
       "        <td>183</td>\n",
       "        <td>4</td>\n",
       "    </tr>\n",
       "    <tr>\n",
       "        <td>128</td>\n",
       "        <td>Catch Amistad</td>\n",
       "        <td>0.99</td>\n",
       "        <td>183</td>\n",
       "        <td>4</td>\n",
       "    </tr>\n",
       "</table>"
      ],
      "text/plain": [
       "[(813, 'Smoochy Control', Decimal('0.99'), 184, 1),\n",
       " (886, 'Theory Mermaid', Decimal('0.99'), 184, 1),\n",
       " (821, 'Sorority Queen', Decimal('0.99'), 184, 1),\n",
       " (996, 'Young Language', Decimal('0.99'), 183, 4),\n",
       " (128, 'Catch Amistad', Decimal('0.99'), 183, 4)]"
      ]
     },
     "execution_count": 3,
     "metadata": {},
     "output_type": "execute_result"
    }
   ],
   "source": [
    "%%sql\n",
    "\n",
    "SELECT\n",
    "    f.film_id\n",
    "    , f.title\n",
    "    , f.rental_rate\n",
    "    , f.length\n",
    "    , rank() OVER(PARTITION BY f.rental_rate ORDER BY f.length DESC) as rk\n",
    "FROM\n",
    "    film f\n",
    "LIMIT\n",
    "    5"
   ]
  },
  {
   "cell_type": "markdown",
   "metadata": {},
   "source": [
    "Note that since 3 films are tied for first place, the rank given to the next longest films is 4. If we wanted the next rank to be 2 instead, we could use `dense_rank` in place of `rank`."
   ]
  },
  {
   "cell_type": "markdown",
   "metadata": {},
   "source": [
    "#### Working with our rankings\n",
    "Once you've made the query above, we can use it as a [Common Table Expression](../sql/common-table-expressions.html) to filter it. For example, let's try to find the 3 longest films at each price point."
   ]
  },
  {
   "cell_type": "code",
   "execution_count": 4,
   "metadata": {},
   "outputs": [
    {
     "data": {
      "text/html": [
       "<table>\n",
       "    <tr>\n",
       "        <th>film_id</th>\n",
       "        <th>title</th>\n",
       "        <th>rental_rate</th>\n",
       "        <th>length</th>\n",
       "        <th>rk</th>\n",
       "    </tr>\n",
       "    <tr>\n",
       "        <td>813</td>\n",
       "        <td>Smoochy Control</td>\n",
       "        <td>0.99</td>\n",
       "        <td>184</td>\n",
       "        <td>1</td>\n",
       "    </tr>\n",
       "    <tr>\n",
       "        <td>886</td>\n",
       "        <td>Theory Mermaid</td>\n",
       "        <td>0.99</td>\n",
       "        <td>184</td>\n",
       "        <td>1</td>\n",
       "    </tr>\n",
       "    <tr>\n",
       "        <td>821</td>\n",
       "        <td>Sorority Queen</td>\n",
       "        <td>0.99</td>\n",
       "        <td>184</td>\n",
       "        <td>1</td>\n",
       "    </tr>\n",
       "    <tr>\n",
       "        <td>690</td>\n",
       "        <td>Pond Seattle</td>\n",
       "        <td>2.99</td>\n",
       "        <td>185</td>\n",
       "        <td>1</td>\n",
       "    </tr>\n",
       "    <tr>\n",
       "        <td>872</td>\n",
       "        <td>Sweet Brotherhood</td>\n",
       "        <td>2.99</td>\n",
       "        <td>185</td>\n",
       "        <td>1</td>\n",
       "    </tr>\n",
       "    <tr>\n",
       "        <td>991</td>\n",
       "        <td>Worst Banger</td>\n",
       "        <td>2.99</td>\n",
       "        <td>185</td>\n",
       "        <td>1</td>\n",
       "    </tr>\n",
       "    <tr>\n",
       "        <td>349</td>\n",
       "        <td>Gangs Pride</td>\n",
       "        <td>2.99</td>\n",
       "        <td>185</td>\n",
       "        <td>1</td>\n",
       "    </tr>\n",
       "    <tr>\n",
       "        <td>609</td>\n",
       "        <td>Muscle Bright</td>\n",
       "        <td>2.99</td>\n",
       "        <td>185</td>\n",
       "        <td>1</td>\n",
       "    </tr>\n",
       "    <tr>\n",
       "        <td>426</td>\n",
       "        <td>Home Pity</td>\n",
       "        <td>4.99</td>\n",
       "        <td>185</td>\n",
       "        <td>1</td>\n",
       "    </tr>\n",
       "    <tr>\n",
       "        <td>817</td>\n",
       "        <td>Soldiers Evolution</td>\n",
       "        <td>4.99</td>\n",
       "        <td>185</td>\n",
       "        <td>1</td>\n",
       "    </tr>\n",
       "    <tr>\n",
       "        <td>212</td>\n",
       "        <td>Darn Forrester</td>\n",
       "        <td>4.99</td>\n",
       "        <td>185</td>\n",
       "        <td>1</td>\n",
       "    </tr>\n",
       "    <tr>\n",
       "        <td>182</td>\n",
       "        <td>Control Anthem</td>\n",
       "        <td>4.99</td>\n",
       "        <td>185</td>\n",
       "        <td>1</td>\n",
       "    </tr>\n",
       "    <tr>\n",
       "        <td>141</td>\n",
       "        <td>Chicago North</td>\n",
       "        <td>4.99</td>\n",
       "        <td>185</td>\n",
       "        <td>1</td>\n",
       "    </tr>\n",
       "</table>"
      ],
      "text/plain": [
       "[(813, 'Smoochy Control', Decimal('0.99'), 184, 1),\n",
       " (886, 'Theory Mermaid', Decimal('0.99'), 184, 1),\n",
       " (821, 'Sorority Queen', Decimal('0.99'), 184, 1),\n",
       " (690, 'Pond Seattle', Decimal('2.99'), 185, 1),\n",
       " (872, 'Sweet Brotherhood', Decimal('2.99'), 185, 1),\n",
       " (991, 'Worst Banger', Decimal('2.99'), 185, 1),\n",
       " (349, 'Gangs Pride', Decimal('2.99'), 185, 1),\n",
       " (609, 'Muscle Bright', Decimal('2.99'), 185, 1),\n",
       " (426, 'Home Pity', Decimal('4.99'), 185, 1),\n",
       " (817, 'Soldiers Evolution', Decimal('4.99'), 185, 1),\n",
       " (212, 'Darn Forrester', Decimal('4.99'), 185, 1),\n",
       " (182, 'Control Anthem', Decimal('4.99'), 185, 1),\n",
       " (141, 'Chicago North', Decimal('4.99'), 185, 1)]"
      ]
     },
     "execution_count": 4,
     "metadata": {},
     "output_type": "execute_result"
    }
   ],
   "source": [
    "%%sql\n",
    "\n",
    "WITH film_cte AS (\n",
    "    SELECT\n",
    "        f.film_id\n",
    "        , f.title\n",
    "        , f.rental_rate\n",
    "        , f.length\n",
    "        , rank() OVER(PARTITION BY f.rental_rate ORDER BY f.length DESC) as rk\n",
    "    FROM\n",
    "        film f\n",
    ")\n",
    "\n",
    "SELECT\n",
    "    *\n",
    "FROM\n",
    "    film_cte fc\n",
    "WHERE\n",
    "    fc.rk < 4"
   ]
  },
  {
   "cell_type": "markdown",
   "metadata": {},
   "source": [
    "#### Tailoring our results\n",
    "Hmm, it looks like more than three films are tied in the £2.99 and £4.99 price bands. If we want to avoid this, one option is to use `row_number`, specifying how to sort the results.\n",
    "\n",
    "Now we'll return the 3 longest films at each rental rate in alphabetical order."
   ]
  },
  {
   "cell_type": "code",
   "execution_count": 5,
   "metadata": {},
   "outputs": [
    {
     "data": {
      "text/html": [
       "<table>\n",
       "    <tr>\n",
       "        <th>film_id</th>\n",
       "        <th>title</th>\n",
       "        <th>rental_rate</th>\n",
       "        <th>length</th>\n",
       "        <th>rk</th>\n",
       "    </tr>\n",
       "    <tr>\n",
       "        <td>813</td>\n",
       "        <td>Smoochy Control</td>\n",
       "        <td>0.99</td>\n",
       "        <td>184</td>\n",
       "        <td>1</td>\n",
       "    </tr>\n",
       "    <tr>\n",
       "        <td>821</td>\n",
       "        <td>Sorority Queen</td>\n",
       "        <td>0.99</td>\n",
       "        <td>184</td>\n",
       "        <td>2</td>\n",
       "    </tr>\n",
       "    <tr>\n",
       "        <td>886</td>\n",
       "        <td>Theory Mermaid</td>\n",
       "        <td>0.99</td>\n",
       "        <td>184</td>\n",
       "        <td>3</td>\n",
       "    </tr>\n",
       "    <tr>\n",
       "        <td>349</td>\n",
       "        <td>Gangs Pride</td>\n",
       "        <td>2.99</td>\n",
       "        <td>185</td>\n",
       "        <td>1</td>\n",
       "    </tr>\n",
       "    <tr>\n",
       "        <td>609</td>\n",
       "        <td>Muscle Bright</td>\n",
       "        <td>2.99</td>\n",
       "        <td>185</td>\n",
       "        <td>2</td>\n",
       "    </tr>\n",
       "    <tr>\n",
       "        <td>690</td>\n",
       "        <td>Pond Seattle</td>\n",
       "        <td>2.99</td>\n",
       "        <td>185</td>\n",
       "        <td>3</td>\n",
       "    </tr>\n",
       "    <tr>\n",
       "        <td>141</td>\n",
       "        <td>Chicago North</td>\n",
       "        <td>4.99</td>\n",
       "        <td>185</td>\n",
       "        <td>1</td>\n",
       "    </tr>\n",
       "    <tr>\n",
       "        <td>182</td>\n",
       "        <td>Control Anthem</td>\n",
       "        <td>4.99</td>\n",
       "        <td>185</td>\n",
       "        <td>2</td>\n",
       "    </tr>\n",
       "    <tr>\n",
       "        <td>212</td>\n",
       "        <td>Darn Forrester</td>\n",
       "        <td>4.99</td>\n",
       "        <td>185</td>\n",
       "        <td>3</td>\n",
       "    </tr>\n",
       "</table>"
      ],
      "text/plain": [
       "[(813, 'Smoochy Control', Decimal('0.99'), 184, 1),\n",
       " (821, 'Sorority Queen', Decimal('0.99'), 184, 2),\n",
       " (886, 'Theory Mermaid', Decimal('0.99'), 184, 3),\n",
       " (349, 'Gangs Pride', Decimal('2.99'), 185, 1),\n",
       " (609, 'Muscle Bright', Decimal('2.99'), 185, 2),\n",
       " (690, 'Pond Seattle', Decimal('2.99'), 185, 3),\n",
       " (141, 'Chicago North', Decimal('4.99'), 185, 1),\n",
       " (182, 'Control Anthem', Decimal('4.99'), 185, 2),\n",
       " (212, 'Darn Forrester', Decimal('4.99'), 185, 3)]"
      ]
     },
     "execution_count": 5,
     "metadata": {},
     "output_type": "execute_result"
    }
   ],
   "source": [
    "%%sql\n",
    "\n",
    "WITH film_ranked AS (\n",
    "    SELECT\n",
    "        f.film_id\n",
    "        , f.title\n",
    "        , f.rental_rate\n",
    "        , f.length\n",
    "        , row_number() OVER(PARTITION BY f.rental_rate ORDER BY f.length DESC, f.title ASC) as rk\n",
    "    FROM\n",
    "        film f\n",
    ")\n",
    "\n",
    "SELECT\n",
    "    *\n",
    "FROM\n",
    "    film_ranked fr\n",
    "WHERE\n",
    "    fr.rk < 4"
   ]
  },
  {
   "cell_type": "markdown",
   "metadata": {},
   "source": [
    "There are lots of other window functions that can also be used here. [Check the Postgres docs](https://www.postgresql.org/docs/current/static/functions-window.html) for full details."
   ]
  }
 ],
 "metadata": {
  "kernelspec": {
   "display_name": "Python 3",
   "language": "python",
   "name": "python3"
  },
  "language_info": {
   "codemirror_mode": {
    "name": "ipython",
    "version": 3
   },
   "file_extension": ".py",
   "mimetype": "text/x-python",
   "name": "python",
   "nbconvert_exporter": "python",
   "pygments_lexer": "ipython3",
   "version": "3.6.0"
  }
 },
 "nbformat": 4,
 "nbformat_minor": 2
}
