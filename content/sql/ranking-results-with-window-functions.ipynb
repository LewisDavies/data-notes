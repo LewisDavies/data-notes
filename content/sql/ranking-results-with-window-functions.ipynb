{
 "cells": [
  {
   "cell_type": "markdown",
   "metadata": {},
   "source": [
    "### Load ipython-sql extension"
   ]
  },
  {
   "cell_type": "code",
   "execution_count": 1,
   "metadata": {
    "collapsed": true
   },
   "outputs": [],
   "source": [
    "# The 2 lines below prevent an error message from being displayed when we run %load_ext sql\n",
    "import warnings\n",
    "warnings.filterwarnings('ignore')\n",
    "\n",
    "%load_ext sql\n",
    "%config SqlMagic.feedback = False"
   ]
  },
  {
   "cell_type": "markdown",
   "metadata": {},
   "source": [
    "### Connect to the database"
   ]
  },
  {
   "cell_type": "code",
   "execution_count": 2,
   "metadata": {},
   "outputs": [
    {
     "data": {
      "text/plain": [
       "'Connected: None@dvdrental'"
      ]
     },
     "execution_count": 2,
     "metadata": {},
     "output_type": "execute_result"
    }
   ],
   "source": [
    "%%sql\n",
    "\n",
    "postgresql://localhost/dvdrental"
   ]
  },
  {
   "cell_type": "markdown",
   "metadata": {},
   "source": [
    "### Sample from `customer` table"
   ]
  },
  {
   "cell_type": "code",
   "execution_count": 3,
   "metadata": {
    "scrolled": true
   },
   "outputs": [
    {
     "data": {
      "text/html": [
       "<table>\n",
       "    <tr>\n",
       "        <th>rental_id</th>\n",
       "        <th>customer_id</th>\n",
       "        <th>return_date</th>\n",
       "    </tr>\n",
       "    <tr>\n",
       "        <td>2</td>\n",
       "        <td>459</td>\n",
       "        <td>2005-05-28 19:40:33</td>\n",
       "    </tr>\n",
       "    <tr>\n",
       "        <td>3</td>\n",
       "        <td>408</td>\n",
       "        <td>2005-06-01 22:12:39</td>\n",
       "    </tr>\n",
       "    <tr>\n",
       "        <td>4</td>\n",
       "        <td>333</td>\n",
       "        <td>2005-06-03 01:43:41</td>\n",
       "    </tr>\n",
       "    <tr>\n",
       "        <td>5</td>\n",
       "        <td>222</td>\n",
       "        <td>2005-06-02 04:33:21</td>\n",
       "    </tr>\n",
       "    <tr>\n",
       "        <td>6</td>\n",
       "        <td>549</td>\n",
       "        <td>2005-05-27 01:32:07</td>\n",
       "    </tr>\n",
       "</table>"
      ],
      "text/plain": [
       "[(2, 459, datetime.datetime(2005, 5, 28, 19, 40, 33)),\n",
       " (3, 408, datetime.datetime(2005, 6, 1, 22, 12, 39)),\n",
       " (4, 333, datetime.datetime(2005, 6, 3, 1, 43, 41)),\n",
       " (5, 222, datetime.datetime(2005, 6, 2, 4, 33, 21)),\n",
       " (6, 549, datetime.datetime(2005, 5, 27, 1, 32, 7))]"
      ]
     },
     "execution_count": 3,
     "metadata": {},
     "output_type": "execute_result"
    }
   ],
   "source": [
    "%%sql\n",
    "\n",
    "SELECT\n",
    "    r.rental_id\n",
    "    , customer_id\n",
    "    , r.return_date\n",
    "FROM\n",
    "    rental r\n",
    "LIMIT\n",
    "    5"
   ]
  },
  {
   "cell_type": "markdown",
   "metadata": {},
   "source": [
    "### Ranking our results\n",
    "Using the `OVER` clause allows us to run a function on the results returned from the database. In this example we rank all customer rentals in the order they were returned, most-recent first, for each customer."
   ]
  },
  {
   "cell_type": "code",
   "execution_count": 16,
   "metadata": {},
   "outputs": [
    {
     "data": {
      "text/html": [
       "<table>\n",
       "    <tr>\n",
       "        <th>rental_id</th>\n",
       "        <th>customer_id</th>\n",
       "        <th>return_date</th>\n",
       "        <th>rk</th>\n",
       "    </tr>\n",
       "    <tr>\n",
       "        <td>15315</td>\n",
       "        <td>1</td>\n",
       "        <td>2005-08-30 01:51:46</td>\n",
       "        <td>1</td>\n",
       "    </tr>\n",
       "    <tr>\n",
       "        <td>15298</td>\n",
       "        <td>1</td>\n",
       "        <td>2005-08-28 22:49:37</td>\n",
       "        <td>2</td>\n",
       "    </tr>\n",
       "    <tr>\n",
       "        <td>14825</td>\n",
       "        <td>1</td>\n",
       "        <td>2005-08-27 07:01:57</td>\n",
       "        <td>3</td>\n",
       "    </tr>\n",
       "    <tr>\n",
       "        <td>13176</td>\n",
       "        <td>1</td>\n",
       "        <td>2005-08-23 08:50:54</td>\n",
       "        <td>4</td>\n",
       "    </tr>\n",
       "    <tr>\n",
       "        <td>14762</td>\n",
       "        <td>1</td>\n",
       "        <td>2005-08-23 01:30:57</td>\n",
       "        <td>5</td>\n",
       "    </tr>\n",
       "    <tr>\n",
       "        <td>12250</td>\n",
       "        <td>1</td>\n",
       "        <td>2005-08-22 23:05:29</td>\n",
       "        <td>6</td>\n",
       "    </tr>\n",
       "    <tr>\n",
       "        <td>13068</td>\n",
       "        <td>1</td>\n",
       "        <td>2005-08-20 14:44:16</td>\n",
       "        <td>7</td>\n",
       "    </tr>\n",
       "    <tr>\n",
       "        <td>11824</td>\n",
       "        <td>1</td>\n",
       "        <td>2005-08-19 10:11:54</td>\n",
       "        <td>8</td>\n",
       "    </tr>\n",
       "    <tr>\n",
       "        <td>11299</td>\n",
       "        <td>1</td>\n",
       "        <td>2005-08-10 16:40:52</td>\n",
       "        <td>9</td>\n",
       "    </tr>\n",
       "    <tr>\n",
       "        <td>10437</td>\n",
       "        <td>1</td>\n",
       "        <td>2005-08-10 12:12:04</td>\n",
       "        <td>10</td>\n",
       "    </tr>\n",
       "</table>"
      ],
      "text/plain": [
       "[(15315, 1, datetime.datetime(2005, 8, 30, 1, 51, 46), 1),\n",
       " (15298, 1, datetime.datetime(2005, 8, 28, 22, 49, 37), 2),\n",
       " (14825, 1, datetime.datetime(2005, 8, 27, 7, 1, 57), 3),\n",
       " (13176, 1, datetime.datetime(2005, 8, 23, 8, 50, 54), 4),\n",
       " (14762, 1, datetime.datetime(2005, 8, 23, 1, 30, 57), 5),\n",
       " (12250, 1, datetime.datetime(2005, 8, 22, 23, 5, 29), 6),\n",
       " (13068, 1, datetime.datetime(2005, 8, 20, 14, 44, 16), 7),\n",
       " (11824, 1, datetime.datetime(2005, 8, 19, 10, 11, 54), 8),\n",
       " (11299, 1, datetime.datetime(2005, 8, 10, 16, 40, 52), 9),\n",
       " (10437, 1, datetime.datetime(2005, 8, 10, 12, 12, 4), 10)]"
      ]
     },
     "execution_count": 16,
     "metadata": {},
     "output_type": "execute_result"
    }
   ],
   "source": [
    "%%sql\n",
    "\n",
    "SELECT\n",
    "    r.rental_id\n",
    "    , customer_id\n",
    "    , r.return_date\n",
    "    , rank() OVER(PARTITION BY r.customer_id ORDER BY r.return_date DESC) as rk\n",
    "FROM\n",
    "    rental r\n",
    "-- Show only the first 10 results or the results are waaay to big!\n",
    "LIMIT\n",
    "    10"
   ]
  },
  {
   "cell_type": "markdown",
   "metadata": {},
   "source": [
    "### Working with our rankings\n",
    "Once you've made the query above, we can use it as a Common Table Expression to filter it. For example, let's find the two most-recently returned films for each customer."
   ]
  },
  {
   "cell_type": "code",
   "execution_count": 17,
   "metadata": {},
   "outputs": [
    {
     "data": {
      "text/html": [
       "<table>\n",
       "    <tr>\n",
       "        <th>rental_id</th>\n",
       "        <th>customer_id</th>\n",
       "        <th>return_date</th>\n",
       "        <th>rk</th>\n",
       "    </tr>\n",
       "    <tr>\n",
       "        <td>15315</td>\n",
       "        <td>1</td>\n",
       "        <td>2005-08-30 01:51:46</td>\n",
       "        <td>1</td>\n",
       "    </tr>\n",
       "    <tr>\n",
       "        <td>15298</td>\n",
       "        <td>1</td>\n",
       "        <td>2005-08-28 22:49:37</td>\n",
       "        <td>2</td>\n",
       "    </tr>\n",
       "    <tr>\n",
       "        <td>15145</td>\n",
       "        <td>2</td>\n",
       "        <td>2005-08-31 15:51:04</td>\n",
       "        <td>1</td>\n",
       "    </tr>\n",
       "    <tr>\n",
       "        <td>14743</td>\n",
       "        <td>2</td>\n",
       "        <td>2005-08-29 00:18:56</td>\n",
       "        <td>2</td>\n",
       "    </tr>\n",
       "    <tr>\n",
       "        <td>14699</td>\n",
       "        <td>3</td>\n",
       "        <td>2005-08-29 18:08:48</td>\n",
       "        <td>1</td>\n",
       "    </tr>\n",
       "    <tr>\n",
       "        <td>13403</td>\n",
       "        <td>3</td>\n",
       "        <td>2005-08-27 19:23:07</td>\n",
       "        <td>2</td>\n",
       "    </tr>\n",
       "    <tr>\n",
       "        <td>15147</td>\n",
       "        <td>4</td>\n",
       "        <td>2005-08-28 14:33:23</td>\n",
       "        <td>1</td>\n",
       "    </tr>\n",
       "    <tr>\n",
       "        <td>13807</td>\n",
       "        <td>4</td>\n",
       "        <td>2005-08-28 09:06:40</td>\n",
       "        <td>2</td>\n",
       "    </tr>\n",
       "    <tr>\n",
       "        <td>13209</td>\n",
       "        <td>5</td>\n",
       "        <td>None</td>\n",
       "        <td>1</td>\n",
       "    </tr>\n",
       "    <tr>\n",
       "        <td>14053</td>\n",
       "        <td>5</td>\n",
       "        <td>2005-08-26 20:50:59</td>\n",
       "        <td>2</td>\n",
       "    </tr>\n",
       "</table>"
      ],
      "text/plain": [
       "[(15315, 1, datetime.datetime(2005, 8, 30, 1, 51, 46), 1),\n",
       " (15298, 1, datetime.datetime(2005, 8, 28, 22, 49, 37), 2),\n",
       " (15145, 2, datetime.datetime(2005, 8, 31, 15, 51, 4), 1),\n",
       " (14743, 2, datetime.datetime(2005, 8, 29, 0, 18, 56), 2),\n",
       " (14699, 3, datetime.datetime(2005, 8, 29, 18, 8, 48), 1),\n",
       " (13403, 3, datetime.datetime(2005, 8, 27, 19, 23, 7), 2),\n",
       " (15147, 4, datetime.datetime(2005, 8, 28, 14, 33, 23), 1),\n",
       " (13807, 4, datetime.datetime(2005, 8, 28, 9, 6, 40), 2),\n",
       " (13209, 5, None, 1),\n",
       " (14053, 5, datetime.datetime(2005, 8, 26, 20, 50, 59), 2)]"
      ]
     },
     "execution_count": 17,
     "metadata": {},
     "output_type": "execute_result"
    }
   ],
   "source": [
    "%%sql\n",
    "\n",
    "WITH rental_ranked AS (\n",
    "    SELECT\n",
    "        r.rental_id\n",
    "        , customer_id\n",
    "        , r.return_date\n",
    "        , rank() OVER(PARTITION BY r.customer_id ORDER BY r.return_date DESC) as rk\n",
    "    FROM\n",
    "        rental r\n",
    ")\n",
    "\n",
    "SELECT\n",
    "    *\n",
    "FROM\n",
    "    rental_ranked rr\n",
    "WHERE\n",
    "    rr.rk < 3\n",
    "LIMIT\n",
    "    10"
   ]
  },
  {
   "cell_type": "markdown",
   "metadata": {},
   "source": [
    "Note that `None` is ranked above all other times. To avoid this, we would add a `WHERE` clause to our CTE specifying `return_date IS NOT NULL`.\n",
    "\n",
    "There are lots of other window functions that can be used in place of `rank`; [check the Postgres docs](https://www.postgresql.org/docs/9.6/static/functions-window.html) for full details."
   ]
  }
 ],
 "metadata": {
  "kernelspec": {
   "display_name": "Python 3",
   "language": "python",
   "name": "python3"
  },
  "language_info": {
   "codemirror_mode": {
    "name": "ipython",
    "version": 3
   },
   "file_extension": ".py",
   "mimetype": "text/x-python",
   "name": "python",
   "nbconvert_exporter": "python",
   "pygments_lexer": "ipython3",
   "version": "3.6.0"
  }
 },
 "nbformat": 4,
 "nbformat_minor": 2
}
