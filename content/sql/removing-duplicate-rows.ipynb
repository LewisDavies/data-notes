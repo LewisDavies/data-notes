{
 "cells": [
  {
   "cell_type": "markdown",
   "metadata": {},
   "source": [
    "#### Load ipython-sql extension"
   ]
  },
  {
   "cell_type": "code",
   "execution_count": 1,
   "metadata": {
    "collapsed": true
   },
   "outputs": [],
   "source": [
    "# The 2 lines below prevent an error message from being displayed when we run %load_ext sql\n",
    "import warnings\n",
    "warnings.filterwarnings('ignore')\n",
    "\n",
    "%load_ext sql\n",
    "%config SqlMagic.feedback = False"
   ]
  },
  {
   "cell_type": "markdown",
   "metadata": {},
   "source": [
    "#### Connect to the database"
   ]
  },
  {
   "cell_type": "code",
   "execution_count": 2,
   "metadata": {},
   "outputs": [
    {
     "data": {
      "text/plain": [
       "'Connected: None@dvdrental'"
      ]
     },
     "execution_count": 2,
     "metadata": {},
     "output_type": "execute_result"
    }
   ],
   "source": [
    "%%sql\n",
    "\n",
    "postgresql://localhost/dvdrental"
   ]
  },
  {
   "cell_type": "markdown",
   "metadata": {},
   "source": [
    "#### Sample data"
   ]
  },
  {
   "cell_type": "code",
   "execution_count": 6,
   "metadata": {
    "scrolled": true
   },
   "outputs": [
    {
     "data": {
      "text/html": [
       "<table>\n",
       "    <tr>\n",
       "        <th>district</th>\n",
       "    </tr>\n",
       "    <tr>\n",
       "        <td>Saitama</td>\n",
       "    </tr>\n",
       "    <tr>\n",
       "        <td>Saitama</td>\n",
       "    </tr>\n",
       "    <tr>\n",
       "        <td>Saitama</td>\n",
       "    </tr>\n",
       "</table>"
      ],
      "text/plain": [
       "[('Saitama',), ('Saitama',), ('Saitama',)]"
      ]
     },
     "execution_count": 6,
     "metadata": {},
     "output_type": "execute_result"
    }
   ],
   "source": [
    "%%sql\n",
    "\n",
    "SELECT\n",
    "    a.district\n",
    "FROM\n",
    "    address a\n",
    "WHERE\n",
    "    a.district = 'Saitama'"
   ]
  },
  {
   "cell_type": "markdown",
   "metadata": {},
   "source": [
    "#### Remove duplicates with `DISTINCT`"
   ]
  },
  {
   "cell_type": "code",
   "execution_count": 7,
   "metadata": {},
   "outputs": [
    {
     "data": {
      "text/html": [
       "<table>\n",
       "    <tr>\n",
       "        <th>district</th>\n",
       "    </tr>\n",
       "    <tr>\n",
       "        <td>Saitama</td>\n",
       "    </tr>\n",
       "</table>"
      ],
      "text/plain": [
       "[('Saitama',)]"
      ]
     },
     "execution_count": 7,
     "metadata": {},
     "output_type": "execute_result"
    }
   ],
   "source": [
    "%%sql\n",
    "\n",
    "SELECT DISTINCT\n",
    "    a.district\n",
    "FROM\n",
    "    address a\n",
    "WHERE\n",
    "    a.district = 'Saitama'"
   ]
  },
  {
   "cell_type": "markdown",
   "metadata": {},
   "source": [
    "#### Using `DISTINCT ON`\n",
    "The above example was pretty unrealistic, I'll admit. However, you can include more columns and remove duplicates based on just one with `DISTINCT ON`."
   ]
  },
  {
   "cell_type": "code",
   "execution_count": 8,
   "metadata": {},
   "outputs": [
    {
     "data": {
      "text/html": [
       "<table>\n",
       "    <tr>\n",
       "        <th>address_id</th>\n",
       "        <th>address</th>\n",
       "        <th>address2</th>\n",
       "        <th>district</th>\n",
       "        <th>city_id</th>\n",
       "        <th>postal_code</th>\n",
       "        <th>phone</th>\n",
       "        <th>last_update</th>\n",
       "    </tr>\n",
       "    <tr>\n",
       "        <td>151</td>\n",
       "        <td>1337 Lincoln Parkway</td>\n",
       "        <td></td>\n",
       "        <td>Saitama</td>\n",
       "        <td>555</td>\n",
       "        <td>99457</td>\n",
       "        <td>597815221267</td>\n",
       "        <td>2006-02-15 09:45:30</td>\n",
       "    </tr>\n",
       "    <tr>\n",
       "        <td>401</td>\n",
       "        <td>168 Cianjur Manor</td>\n",
       "        <td></td>\n",
       "        <td>Saitama</td>\n",
       "        <td>228</td>\n",
       "        <td>73824</td>\n",
       "        <td>679095087143</td>\n",
       "        <td>2006-02-15 09:45:30</td>\n",
       "    </tr>\n",
       "    <tr>\n",
       "        <td>409</td>\n",
       "        <td>1266 Laredo Parkway</td>\n",
       "        <td></td>\n",
       "        <td>Saitama</td>\n",
       "        <td>380</td>\n",
       "        <td>7664</td>\n",
       "        <td>1483365694</td>\n",
       "        <td>2006-02-15 09:45:30</td>\n",
       "    </tr>\n",
       "</table>"
      ],
      "text/plain": [
       "[(151, '1337 Lincoln Parkway', '', 'Saitama', 555, '99457', '597815221267', datetime.datetime(2006, 2, 15, 9, 45, 30)),\n",
       " (401, '168 Cianjur Manor', '', 'Saitama', 228, '73824', '679095087143', datetime.datetime(2006, 2, 15, 9, 45, 30)),\n",
       " (409, '1266 Laredo Parkway', '', 'Saitama', 380, '7664', '1483365694', datetime.datetime(2006, 2, 15, 9, 45, 30))]"
      ]
     },
     "execution_count": 8,
     "metadata": {},
     "output_type": "execute_result"
    }
   ],
   "source": [
    "%%sql\n",
    "\n",
    "SELECT\n",
    "    *\n",
    "FROM\n",
    "    address a\n",
    "WHERE\n",
    "    a.district = 'Saitama'"
   ]
  },
  {
   "cell_type": "code",
   "execution_count": 17,
   "metadata": {},
   "outputs": [
    {
     "data": {
      "text/html": [
       "<table>\n",
       "    <tr>\n",
       "        <th>address_id</th>\n",
       "        <th>address</th>\n",
       "        <th>address2</th>\n",
       "        <th>district</th>\n",
       "        <th>city_id</th>\n",
       "        <th>postal_code</th>\n",
       "        <th>phone</th>\n",
       "        <th>last_update</th>\n",
       "    </tr>\n",
       "    <tr>\n",
       "        <td>151</td>\n",
       "        <td>1337 Lincoln Parkway</td>\n",
       "        <td></td>\n",
       "        <td>Saitama</td>\n",
       "        <td>555</td>\n",
       "        <td>99457</td>\n",
       "        <td>597815221267</td>\n",
       "        <td>2006-02-15 09:45:30</td>\n",
       "    </tr>\n",
       "</table>"
      ],
      "text/plain": [
       "[(151, '1337 Lincoln Parkway', '', 'Saitama', 555, '99457', '597815221267', datetime.datetime(2006, 2, 15, 9, 45, 30))]"
      ]
     },
     "execution_count": 17,
     "metadata": {},
     "output_type": "execute_result"
    }
   ],
   "source": [
    "%%sql\n",
    "\n",
    "SELECT DISTINCT ON (a.district)\n",
    "    *\n",
    "FROM\n",
    "    address a\n",
    "WHERE\n",
    "    a.district = 'Saitama'"
   ]
  },
  {
   "cell_type": "markdown",
   "metadata": {},
   "source": [
    "Please remember that the use of `DISTINCT` is often considered 'code smell', meaning it signifies something is wrong with your code. Whenever possible, it's best to avoid duplicates with goods joins and filters instead."
   ]
  }
 ],
 "metadata": {
  "kernelspec": {
   "display_name": "Python 3",
   "language": "python",
   "name": "python3"
  },
  "language_info": {
   "codemirror_mode": {
    "name": "ipython",
    "version": 3
   },
   "file_extension": ".py",
   "mimetype": "text/x-python",
   "name": "python",
   "nbconvert_exporter": "python",
   "pygments_lexer": "ipython3",
   "version": "3.6.0"
  }
 },
 "nbformat": 4,
 "nbformat_minor": 2
}
