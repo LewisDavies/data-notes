{
 "cells": [
  {
   "cell_type": "markdown",
   "metadata": {},
   "source": [
    "### Load ipython-sql extension"
   ]
  },
  {
   "cell_type": "code",
   "execution_count": 1,
   "metadata": {
    "collapsed": true
   },
   "outputs": [],
   "source": [
    "# The 2 lines below prevent an error message from being displayed when we run %load_ext sql\n",
    "import warnings\n",
    "warnings.filterwarnings('ignore')\n",
    "\n",
    "%load_ext sql\n",
    "%config SqlMagic.feedback = False"
   ]
  },
  {
   "cell_type": "markdown",
   "metadata": {},
   "source": [
    "### Connect to the database"
   ]
  },
  {
   "cell_type": "code",
   "execution_count": 2,
   "metadata": {},
   "outputs": [
    {
     "data": {
      "text/plain": [
       "'Connected: None@dvdrental'"
      ]
     },
     "execution_count": 2,
     "metadata": {},
     "output_type": "execute_result"
    }
   ],
   "source": [
    "%%sql\n",
    "postgresql://localhost/dvdrental"
   ]
  },
  {
   "cell_type": "markdown",
   "metadata": {},
   "source": [
    "### Find values matching a list with IN "
   ]
  },
  {
   "cell_type": "code",
   "execution_count": 4,
   "metadata": {},
   "outputs": [
    {
     "data": {
      "text/html": [
       "<table>\n",
       "    <tr>\n",
       "        <th>address_id</th>\n",
       "        <th>address</th>\n",
       "        <th>address2</th>\n",
       "        <th>district</th>\n",
       "        <th>city_id</th>\n",
       "        <th>postal_code</th>\n",
       "        <th>phone</th>\n",
       "        <th>last_update</th>\n",
       "    </tr>\n",
       "    <tr>\n",
       "        <td>1</td>\n",
       "        <td>47 MySakila Drive</td>\n",
       "        <td>None</td>\n",
       "        <td>Alberta</td>\n",
       "        <td>300</td>\n",
       "        <td></td>\n",
       "        <td></td>\n",
       "        <td>2006-02-15 09:45:30</td>\n",
       "    </tr>\n",
       "    <tr>\n",
       "        <td>3</td>\n",
       "        <td>23 Workhaven Lane</td>\n",
       "        <td>None</td>\n",
       "        <td>Alberta</td>\n",
       "        <td>300</td>\n",
       "        <td></td>\n",
       "        <td>14033335568</td>\n",
       "        <td>2006-02-15 09:45:30</td>\n",
       "    </tr>\n",
       "    <tr>\n",
       "        <td>201</td>\n",
       "        <td>817 Bradford Loop</td>\n",
       "        <td></td>\n",
       "        <td>Jiangsu</td>\n",
       "        <td>109</td>\n",
       "        <td>89459</td>\n",
       "        <td>264286442804</td>\n",
       "        <td>2006-02-15 09:45:30</td>\n",
       "    </tr>\n",
       "    <tr>\n",
       "        <td>389</td>\n",
       "        <td>500 Lincoln Parkway</td>\n",
       "        <td></td>\n",
       "        <td>Jiangsu</td>\n",
       "        <td>210</td>\n",
       "        <td>95509</td>\n",
       "        <td>550306965159</td>\n",
       "        <td>2006-02-15 09:45:30</td>\n",
       "    </tr>\n",
       "</table>"
      ],
      "text/plain": [
       "[(1, '47 MySakila Drive', None, 'Alberta', 300, '', '', datetime.datetime(2006, 2, 15, 9, 45, 30)),\n",
       " (3, '23 Workhaven Lane', None, 'Alberta', 300, '', '14033335568', datetime.datetime(2006, 2, 15, 9, 45, 30)),\n",
       " (201, '817 Bradford Loop', '', 'Jiangsu', 109, '89459', '264286442804', datetime.datetime(2006, 2, 15, 9, 45, 30)),\n",
       " (389, '500 Lincoln Parkway', '', 'Jiangsu', 210, '95509', '550306965159', datetime.datetime(2006, 2, 15, 9, 45, 30))]"
      ]
     },
     "execution_count": 4,
     "metadata": {},
     "output_type": "execute_result"
    }
   ],
   "source": [
    "%%sql\n",
    "SELECT\n",
    "    *\n",
    "FROM\n",
    "    address\n",
    "WHERE\n",
    "    district IN ('Alberta', 'Jiangsu')"
   ]
  },
  {
   "cell_type": "markdown",
   "metadata": {},
   "source": [
    "### Find values not appearing in a list"
   ]
  },
  {
   "cell_type": "code",
   "execution_count": 5,
   "metadata": {},
   "outputs": [
    {
     "data": {
      "text/html": [
       "<table>\n",
       "    <tr>\n",
       "        <th>address_id</th>\n",
       "        <th>address</th>\n",
       "        <th>address2</th>\n",
       "        <th>district</th>\n",
       "        <th>city_id</th>\n",
       "        <th>postal_code</th>\n",
       "        <th>phone</th>\n",
       "        <th>last_update</th>\n",
       "    </tr>\n",
       "    <tr>\n",
       "        <td>2</td>\n",
       "        <td>28 MySQL Boulevard</td>\n",
       "        <td>None</td>\n",
       "        <td>QLD</td>\n",
       "        <td>576</td>\n",
       "        <td></td>\n",
       "        <td></td>\n",
       "        <td>2006-02-15 09:45:30</td>\n",
       "    </tr>\n",
       "    <tr>\n",
       "        <td>4</td>\n",
       "        <td>1411 Lillydale Drive</td>\n",
       "        <td>None</td>\n",
       "        <td>QLD</td>\n",
       "        <td>576</td>\n",
       "        <td></td>\n",
       "        <td>6172235589</td>\n",
       "        <td>2006-02-15 09:45:30</td>\n",
       "    </tr>\n",
       "    <tr>\n",
       "        <td>5</td>\n",
       "        <td>1913 Hanoi Way</td>\n",
       "        <td></td>\n",
       "        <td>Nagasaki</td>\n",
       "        <td>463</td>\n",
       "        <td>35200</td>\n",
       "        <td>28303384290</td>\n",
       "        <td>2006-02-15 09:45:30</td>\n",
       "    </tr>\n",
       "    <tr>\n",
       "        <td>6</td>\n",
       "        <td>1121 Loja Avenue</td>\n",
       "        <td></td>\n",
       "        <td>California</td>\n",
       "        <td>449</td>\n",
       "        <td>17886</td>\n",
       "        <td>838635286649</td>\n",
       "        <td>2006-02-15 09:45:30</td>\n",
       "    </tr>\n",
       "    <tr>\n",
       "        <td>7</td>\n",
       "        <td>692 Joliet Street</td>\n",
       "        <td></td>\n",
       "        <td>Attika</td>\n",
       "        <td>38</td>\n",
       "        <td>83579</td>\n",
       "        <td>448477190408</td>\n",
       "        <td>2006-02-15 09:45:30</td>\n",
       "    </tr>\n",
       "</table>"
      ],
      "text/plain": [
       "[(2, '28 MySQL Boulevard', None, 'QLD', 576, '', '', datetime.datetime(2006, 2, 15, 9, 45, 30)),\n",
       " (4, '1411 Lillydale Drive', None, 'QLD', 576, '', '6172235589', datetime.datetime(2006, 2, 15, 9, 45, 30)),\n",
       " (5, '1913 Hanoi Way', '', 'Nagasaki', 463, '35200', '28303384290', datetime.datetime(2006, 2, 15, 9, 45, 30)),\n",
       " (6, '1121 Loja Avenue', '', 'California', 449, '17886', '838635286649', datetime.datetime(2006, 2, 15, 9, 45, 30)),\n",
       " (7, '692 Joliet Street', '', 'Attika', 38, '83579', '448477190408', datetime.datetime(2006, 2, 15, 9, 45, 30))]"
      ]
     },
     "execution_count": 5,
     "metadata": {},
     "output_type": "execute_result"
    }
   ],
   "source": [
    "%%sql\n",
    "SELECT\n",
    "    *\n",
    "FROM\n",
    "    address\n",
    "WHERE\n",
    "    district NOT IN ('Alberta', 'Jiangsu')\n",
    "-- For convenience, we'll only show the first 5 results\n",
    "LIMIT\n",
    "    5"
   ]
  },
  {
   "cell_type": "code",
   "execution_count": null,
   "metadata": {
    "collapsed": true
   },
   "outputs": [],
   "source": []
  }
 ],
 "metadata": {
  "kernelspec": {
   "display_name": "Python 3",
   "language": "python",
   "name": "python3"
  },
  "language_info": {
   "codemirror_mode": {
    "name": "ipython",
    "version": 3
   },
   "file_extension": ".py",
   "mimetype": "text/x-python",
   "name": "python",
   "nbconvert_exporter": "python",
   "pygments_lexer": "ipython3",
   "version": "3.6.0"
  }
 },
 "nbformat": 4,
 "nbformat_minor": 2
}
