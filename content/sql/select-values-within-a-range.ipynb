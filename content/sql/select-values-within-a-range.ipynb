{
 "cells": [
  {
   "cell_type": "markdown",
   "metadata": {},
   "source": [
    "Title: Select Values Within a Range\n",
    "Slug: sql/select-values-within-a-range\n",
    "Category: SQL\n",
    "Tags: SELECT, FROM, WHERE, BETWEEN, LIMIT\n",
    "Date: 2017-08-08\n",
    "Modified: 2017-08-27"
   ]
  },
  {
   "cell_type": "markdown",
   "metadata": {},
   "source": [
    "### Load ipython-sql extension"
   ]
  },
  {
   "cell_type": "code",
   "execution_count": 1,
   "metadata": {
    "collapsed": true
   },
   "outputs": [],
   "source": [
    "# The 2 lines below prevent an error message from being displayed when we run %load_ext sql\n",
    "import warnings\n",
    "warnings.filterwarnings('ignore')\n",
    "\n",
    "%load_ext sql\n",
    "%config SqlMagic.feedback = False"
   ]
  },
  {
   "cell_type": "markdown",
   "metadata": {},
   "source": [
    "### Connect to the database"
   ]
  },
  {
   "cell_type": "code",
   "execution_count": 2,
   "metadata": {},
   "outputs": [
    {
     "data": {
      "text/plain": [
       "'Connected: None@dvdrental'"
      ]
     },
     "execution_count": 2,
     "metadata": {},
     "output_type": "execute_result"
    }
   ],
   "source": [
    "%%sql\n",
    "\n",
    "postgresql://localhost/dvdrental"
   ]
  },
  {
   "cell_type": "markdown",
   "metadata": {},
   "source": [
    "### Find values within a range\n",
    "Note that this is an inclusive search: in the example below, movies that are 110 or 120 minutes long will be returned in the full results."
   ]
  },
  {
   "cell_type": "code",
   "execution_count": 3,
   "metadata": {},
   "outputs": [
    {
     "data": {
      "text/html": [
       "<table>\n",
       "    <tr>\n",
       "        <th>title</th>\n",
       "        <th>length</th>\n",
       "    </tr>\n",
       "    <tr>\n",
       "        <td>Chamber Italian</td>\n",
       "        <td>117</td>\n",
       "    </tr>\n",
       "    <tr>\n",
       "        <td>Affair Prejudice</td>\n",
       "        <td>117</td>\n",
       "    </tr>\n",
       "    <tr>\n",
       "        <td>Alabama Devil</td>\n",
       "        <td>114</td>\n",
       "    </tr>\n",
       "    <tr>\n",
       "        <td>Amadeus Holy</td>\n",
       "        <td>113</td>\n",
       "    </tr>\n",
       "    <tr>\n",
       "        <td>Apocalypse Flamingos</td>\n",
       "        <td>119</td>\n",
       "    </tr>\n",
       "</table>"
      ],
      "text/plain": [
       "[('Chamber Italian', 117),\n",
       " ('Affair Prejudice', 117),\n",
       " ('Alabama Devil', 114),\n",
       " ('Amadeus Holy', 113),\n",
       " ('Apocalypse Flamingos', 119)]"
      ]
     },
     "execution_count": 3,
     "metadata": {},
     "output_type": "execute_result"
    }
   ],
   "source": [
    "%%sql\n",
    "\n",
    "SELECT\n",
    "    f.title\n",
    "    , f.length\n",
    "FROM\n",
    "    film f\n",
    "WHERE\n",
    "    f.length BETWEEN 110 AND 120\n",
    "-- For convenience, we'll only show the first 5 results\n",
    "LIMIT\n",
    "    5"
   ]
  },
  {
   "cell_type": "markdown",
   "metadata": {},
   "source": [
    "### Find values outside the same range"
   ]
  },
  {
   "cell_type": "code",
   "execution_count": 4,
   "metadata": {},
   "outputs": [
    {
     "data": {
      "text/html": [
       "<table>\n",
       "    <tr>\n",
       "        <th>title</th>\n",
       "        <th>length</th>\n",
       "    </tr>\n",
       "    <tr>\n",
       "        <td>Grosse Wonderful</td>\n",
       "        <td>49</td>\n",
       "    </tr>\n",
       "    <tr>\n",
       "        <td>Airport Pollock</td>\n",
       "        <td>54</td>\n",
       "    </tr>\n",
       "    <tr>\n",
       "        <td>Bright Encounters</td>\n",
       "        <td>73</td>\n",
       "    </tr>\n",
       "    <tr>\n",
       "        <td>Academy Dinosaur</td>\n",
       "        <td>86</td>\n",
       "    </tr>\n",
       "    <tr>\n",
       "        <td>Ace Goldfinger</td>\n",
       "        <td>48</td>\n",
       "    </tr>\n",
       "</table>"
      ],
      "text/plain": [
       "[('Grosse Wonderful', 49),\n",
       " ('Airport Pollock', 54),\n",
       " ('Bright Encounters', 73),\n",
       " ('Academy Dinosaur', 86),\n",
       " ('Ace Goldfinger', 48)]"
      ]
     },
     "execution_count": 4,
     "metadata": {},
     "output_type": "execute_result"
    }
   ],
   "source": [
    "%%sql\n",
    "\n",
    "SELECT\n",
    "    f.title\n",
    "    , f.length\n",
    "FROM\n",
    "    film f\n",
    "WHERE\n",
    "    f.length NOT BETWEEN 110 AND 120\n",
    "LIMIT\n",
    "    5"
   ]
  },
  {
   "cell_type": "markdown",
   "metadata": {},
   "source": [
    "### Using `BETWEEN` with datetimes\n",
    "It is easy to be caught out by datetimes when using between. In the example below `'2007-02-15'` is interpreted as '`2007-02-15 00:00:00`', so the latest results are from just before midnight."
   ]
  },
  {
   "cell_type": "code",
   "execution_count": 12,
   "metadata": {
    "scrolled": true
   },
   "outputs": [
    {
     "data": {
      "text/html": [
       "<table>\n",
       "    <tr>\n",
       "        <th>payment_id</th>\n",
       "        <th>payment_date</th>\n",
       "    </tr>\n",
       "    <tr>\n",
       "        <td>17743</td>\n",
       "        <td>2007-02-14 23:53:34.996577</td>\n",
       "    </tr>\n",
       "    <tr>\n",
       "        <td>18322</td>\n",
       "        <td>2007-02-14 23:52:46.996577</td>\n",
       "    </tr>\n",
       "    <tr>\n",
       "        <td>19212</td>\n",
       "        <td>2007-02-14 23:47:05.996577</td>\n",
       "    </tr>\n",
       "    <tr>\n",
       "        <td>17617</td>\n",
       "        <td>2007-02-14 23:33:58.996577</td>\n",
       "    </tr>\n",
       "    <tr>\n",
       "        <td>19421</td>\n",
       "        <td>2007-02-14 23:32:48.996577</td>\n",
       "    </tr>\n",
       "</table>"
      ],
      "text/plain": [
       "[(17743, datetime.datetime(2007, 2, 14, 23, 53, 34, 996577)),\n",
       " (18322, datetime.datetime(2007, 2, 14, 23, 52, 46, 996577)),\n",
       " (19212, datetime.datetime(2007, 2, 14, 23, 47, 5, 996577)),\n",
       " (17617, datetime.datetime(2007, 2, 14, 23, 33, 58, 996577)),\n",
       " (19421, datetime.datetime(2007, 2, 14, 23, 32, 48, 996577))]"
      ]
     },
     "execution_count": 12,
     "metadata": {},
     "output_type": "execute_result"
    }
   ],
   "source": [
    "%%sql\n",
    "\n",
    "SELECT\n",
    "    p.payment_id\n",
    "    , p.payment_date\n",
    "FROM\n",
    "    payment p\n",
    "WHERE\n",
    "    p.payment_date BETWEEN '2007-02-14' AND '2007-02-15'\n",
    "ORDER BY\n",
    "    p.payment_date DESC\n",
    "LIMIT\n",
    "    5"
   ]
  },
  {
   "cell_type": "markdown",
   "metadata": {},
   "source": [
    "When we cast `p.payment_date` as a `date`, the time part is removed. This means that payments from `2007-02-15` are now included in the results."
   ]
  },
  {
   "cell_type": "code",
   "execution_count": 14,
   "metadata": {},
   "outputs": [
    {
     "data": {
      "text/html": [
       "<table>\n",
       "    <tr>\n",
       "        <th>payment_id</th>\n",
       "        <th>payment_date</th>\n",
       "    </tr>\n",
       "    <tr>\n",
       "        <td>18335</td>\n",
       "        <td>2007-02-15 23:59:49.996577</td>\n",
       "    </tr>\n",
       "    <tr>\n",
       "        <td>18676</td>\n",
       "        <td>2007-02-15 23:56:48.996577</td>\n",
       "    </tr>\n",
       "    <tr>\n",
       "        <td>18610</td>\n",
       "        <td>2007-02-15 23:52:34.996577</td>\n",
       "    </tr>\n",
       "    <tr>\n",
       "        <td>19199</td>\n",
       "        <td>2007-02-15 23:48:31.996577</td>\n",
       "    </tr>\n",
       "    <tr>\n",
       "        <td>19229</td>\n",
       "        <td>2007-02-15 23:44:25.996577</td>\n",
       "    </tr>\n",
       "</table>"
      ],
      "text/plain": [
       "[(18335, datetime.datetime(2007, 2, 15, 23, 59, 49, 996577)),\n",
       " (18676, datetime.datetime(2007, 2, 15, 23, 56, 48, 996577)),\n",
       " (18610, datetime.datetime(2007, 2, 15, 23, 52, 34, 996577)),\n",
       " (19199, datetime.datetime(2007, 2, 15, 23, 48, 31, 996577)),\n",
       " (19229, datetime.datetime(2007, 2, 15, 23, 44, 25, 996577))]"
      ]
     },
     "execution_count": 14,
     "metadata": {},
     "output_type": "execute_result"
    }
   ],
   "source": [
    "%%sql\n",
    "\n",
    "SELECT\n",
    "    p.payment_id\n",
    "    , p.payment_date\n",
    "FROM\n",
    "    payment p\n",
    "WHERE\n",
    "    p.payment_date::date BETWEEN '2007-02-14' AND '2007-02-15'\n",
    "ORDER BY\n",
    "    p.payment_date DESC\n",
    "LIMIT\n",
    "    5"
   ]
  }
 ],
 "metadata": {
  "kernelspec": {
   "display_name": "Python 3",
   "language": "python",
   "name": "python3"
  },
  "language_info": {
   "codemirror_mode": {
    "name": "ipython",
    "version": 3
   },
   "file_extension": ".py",
   "mimetype": "text/x-python",
   "name": "python",
   "nbconvert_exporter": "python",
   "pygments_lexer": "ipython3",
   "version": "3.6.7"
  }
 },
 "nbformat": 4,
 "nbformat_minor": 2
}
