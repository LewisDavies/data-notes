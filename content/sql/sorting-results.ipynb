{
 "cells": [
  {
   "cell_type": "markdown",
   "metadata": {},
   "source": [
    "### Load ipython-sql extension"
   ]
  },
  {
   "cell_type": "code",
   "execution_count": 2,
   "metadata": {
    "collapsed": true
   },
   "outputs": [],
   "source": [
    "# The 2 lines below prevent an error message from being displayed when we run %load_ext sql\n",
    "import warnings\n",
    "warnings.filterwarnings('ignore')\n",
    "\n",
    "%load_ext sql\n",
    "%config SqlMagic.feedback = False"
   ]
  },
  {
   "cell_type": "markdown",
   "metadata": {},
   "source": [
    "### Connect to the database"
   ]
  },
  {
   "cell_type": "code",
   "execution_count": 3,
   "metadata": {},
   "outputs": [
    {
     "data": {
      "text/plain": [
       "'Connected: None@dvdrental'"
      ]
     },
     "execution_count": 3,
     "metadata": {},
     "output_type": "execute_result"
    }
   ],
   "source": [
    "%%sql\n",
    "postgresql://localhost/dvdrental"
   ]
  },
  {
   "cell_type": "markdown",
   "metadata": {},
   "source": [
    "### Sort by a single column"
   ]
  },
  {
   "cell_type": "code",
   "execution_count": 5,
   "metadata": {
    "scrolled": true
   },
   "outputs": [
    {
     "data": {
      "text/html": [
       "<table>\n",
       "    <tr>\n",
       "        <th>film_id</th>\n",
       "        <th>title</th>\n",
       "        <th>rental_rate</th>\n",
       "        <th>length</th>\n",
       "    </tr>\n",
       "    <tr>\n",
       "        <td>212</td>\n",
       "        <td>Darn Forrester</td>\n",
       "        <td>4.99</td>\n",
       "        <td>185</td>\n",
       "    </tr>\n",
       "    <tr>\n",
       "        <td>141</td>\n",
       "        <td>Chicago North</td>\n",
       "        <td>4.99</td>\n",
       "        <td>185</td>\n",
       "    </tr>\n",
       "    <tr>\n",
       "        <td>182</td>\n",
       "        <td>Control Anthem</td>\n",
       "        <td>4.99</td>\n",
       "        <td>185</td>\n",
       "    </tr>\n",
       "    <tr>\n",
       "        <td>426</td>\n",
       "        <td>Home Pity</td>\n",
       "        <td>4.99</td>\n",
       "        <td>185</td>\n",
       "    </tr>\n",
       "    <tr>\n",
       "        <td>349</td>\n",
       "        <td>Gangs Pride</td>\n",
       "        <td>2.99</td>\n",
       "        <td>185</td>\n",
       "    </tr>\n",
       "</table>"
      ],
      "text/plain": [
       "[(212, 'Darn Forrester', Decimal('4.99'), 185),\n",
       " (141, 'Chicago North', Decimal('4.99'), 185),\n",
       " (182, 'Control Anthem', Decimal('4.99'), 185),\n",
       " (426, 'Home Pity', Decimal('4.99'), 185),\n",
       " (349, 'Gangs Pride', Decimal('2.99'), 185)]"
      ]
     },
     "execution_count": 5,
     "metadata": {},
     "output_type": "execute_result"
    }
   ],
   "source": [
    "%%sql\n",
    "\n",
    "SELECT\n",
    "    f.film_id\n",
    "    , f.title\n",
    "    , f.rental_rate\n",
    "    , f.length\n",
    "FROM\n",
    "    film f\n",
    "ORDER BY\n",
    "    f.length DESC\n",
    "LIMIT\n",
    "    5"
   ]
  },
  {
   "cell_type": "markdown",
   "metadata": {},
   "source": [
    "### Sort by multiple columns"
   ]
  },
  {
   "cell_type": "code",
   "execution_count": 6,
   "metadata": {},
   "outputs": [
    {
     "data": {
      "text/html": [
       "<table>\n",
       "    <tr>\n",
       "        <th>film_id</th>\n",
       "        <th>title</th>\n",
       "        <th>rental_rate</th>\n",
       "        <th>length</th>\n",
       "    </tr>\n",
       "    <tr>\n",
       "        <td>609</td>\n",
       "        <td>Muscle Bright</td>\n",
       "        <td>2.99</td>\n",
       "        <td>185</td>\n",
       "    </tr>\n",
       "    <tr>\n",
       "        <td>690</td>\n",
       "        <td>Pond Seattle</td>\n",
       "        <td>2.99</td>\n",
       "        <td>185</td>\n",
       "    </tr>\n",
       "    <tr>\n",
       "        <td>349</td>\n",
       "        <td>Gangs Pride</td>\n",
       "        <td>2.99</td>\n",
       "        <td>185</td>\n",
       "    </tr>\n",
       "    <tr>\n",
       "        <td>991</td>\n",
       "        <td>Worst Banger</td>\n",
       "        <td>2.99</td>\n",
       "        <td>185</td>\n",
       "    </tr>\n",
       "    <tr>\n",
       "        <td>872</td>\n",
       "        <td>Sweet Brotherhood</td>\n",
       "        <td>2.99</td>\n",
       "        <td>185</td>\n",
       "    </tr>\n",
       "</table>"
      ],
      "text/plain": [
       "[(609, 'Muscle Bright', Decimal('2.99'), 185),\n",
       " (690, 'Pond Seattle', Decimal('2.99'), 185),\n",
       " (349, 'Gangs Pride', Decimal('2.99'), 185),\n",
       " (991, 'Worst Banger', Decimal('2.99'), 185),\n",
       " (872, 'Sweet Brotherhood', Decimal('2.99'), 185)]"
      ]
     },
     "execution_count": 6,
     "metadata": {},
     "output_type": "execute_result"
    }
   ],
   "source": [
    "%%sql\n",
    "SELECT\n",
    "    f.film_id\n",
    "    , f.title\n",
    "    , f.rental_rate\n",
    "    , f.length\n",
    "FROM\n",
    "    film f\n",
    "ORDER BY\n",
    "    f.length DESC\n",
    "    , f.rental_rate ASC\n",
    "LIMIT\n",
    "    5    "
   ]
  }
 ],
 "metadata": {
  "kernelspec": {
   "display_name": "Python 3",
   "language": "python",
   "name": "python3"
  },
  "language_info": {
   "codemirror_mode": {
    "name": "ipython",
    "version": 3
   },
   "file_extension": ".py",
   "mimetype": "text/x-python",
   "name": "python",
   "nbconvert_exporter": "python",
   "pygments_lexer": "ipython3",
   "version": "3.6.0"
  }
 },
 "nbformat": 4,
 "nbformat_minor": 2
}
