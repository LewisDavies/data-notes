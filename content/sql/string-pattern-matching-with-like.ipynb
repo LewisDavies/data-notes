{
 "cells": [
  {
   "cell_type": "markdown",
   "metadata": {},
   "source": [
    "### Load ipython-sql extension"
   ]
  },
  {
   "cell_type": "code",
   "execution_count": 2,
   "metadata": {
    "collapsed": true
   },
   "outputs": [],
   "source": [
    "# The 2 lines below prevent an error message from being displayed when we run %load_ext sql\n",
    "import warnings\n",
    "warnings.filterwarnings('ignore')\n",
    "\n",
    "%load_ext sql\n",
    "%config SqlMagic.feedback = False"
   ]
  },
  {
   "cell_type": "markdown",
   "metadata": {},
   "source": [
    "### Connect to the database"
   ]
  },
  {
   "cell_type": "code",
   "execution_count": 3,
   "metadata": {},
   "outputs": [
    {
     "data": {
      "text/plain": [
       "'Connected: None@dvdrental'"
      ]
     },
     "execution_count": 3,
     "metadata": {},
     "output_type": "execute_result"
    }
   ],
   "source": [
    "%%sql\n",
    "\n",
    "postgresql://localhost/dvdrental"
   ]
  },
  {
   "cell_type": "markdown",
   "metadata": {},
   "source": [
    "### Find matches to a single character\n",
    "Use an underscore to find values that match a single character"
   ]
  },
  {
   "cell_type": "code",
   "execution_count": 4,
   "metadata": {},
   "outputs": [
    {
     "data": {
      "text/html": [
       "<table>\n",
       "    <tr>\n",
       "        <th>customer_id</th>\n",
       "        <th>first_name</th>\n",
       "        <th>last_name</th>\n",
       "    </tr>\n",
       "    <tr>\n",
       "        <td>81</td>\n",
       "        <td>Andrea</td>\n",
       "        <td>Henderson</td>\n",
       "    </tr>\n",
       "    <tr>\n",
       "        <td>333</td>\n",
       "        <td>Andrew</td>\n",
       "        <td>Purdy</td>\n",
       "    </tr>\n",
       "</table>"
      ],
      "text/plain": [
       "[(81, 'Andrea', 'Henderson'), (333, 'Andrew', 'Purdy')]"
      ]
     },
     "execution_count": 4,
     "metadata": {},
     "output_type": "execute_result"
    }
   ],
   "source": [
    "%%sql\n",
    "\n",
    "SELECT\n",
    "    c.customer_id\n",
    "    , c.first_name\n",
    "    , c.last_name\n",
    "FROM\n",
    "    customer c\n",
    "WHERE\n",
    "    c.first_name LIKE 'Andre_'"
   ]
  },
  {
   "cell_type": "markdown",
   "metadata": {},
   "source": [
    "Note that underscores can be combined to match a specific number of characters"
   ]
  },
  {
   "cell_type": "code",
   "execution_count": 5,
   "metadata": {},
   "outputs": [
    {
     "data": {
      "text/html": [
       "<table>\n",
       "    <tr>\n",
       "        <th>customer_id</th>\n",
       "        <th>first_name</th>\n",
       "        <th>last_name</th>\n",
       "    </tr>\n",
       "    <tr>\n",
       "        <td>146</td>\n",
       "        <td>Jamie</td>\n",
       "        <td>Rice</td>\n",
       "    </tr>\n",
       "    <tr>\n",
       "        <td>299</td>\n",
       "        <td>James</td>\n",
       "        <td>Gannon</td>\n",
       "    </tr>\n",
       "    <tr>\n",
       "        <td>531</td>\n",
       "        <td>Jamie</td>\n",
       "        <td>Waugh</td>\n",
       "    </tr>\n",
       "</table>"
      ],
      "text/plain": [
       "[(146, 'Jamie', 'Rice'), (299, 'James', 'Gannon'), (531, 'Jamie', 'Waugh')]"
      ]
     },
     "execution_count": 5,
     "metadata": {},
     "output_type": "execute_result"
    }
   ],
   "source": [
    "%%sql\n",
    "\n",
    "SELECT\n",
    "    c.customer_id\n",
    "    , c.first_name\n",
    "    , c.last_name\n",
    "FROM\n",
    "    customer c\n",
    "WHERE\n",
    "    c.first_name LIKE 'Jam__'"
   ]
  },
  {
   "cell_type": "markdown",
   "metadata": {},
   "source": [
    "### Find matches to a sequence of characters\n",
    "A percent sign will match any number of characters"
   ]
  },
  {
   "cell_type": "code",
   "execution_count": 6,
   "metadata": {},
   "outputs": [
    {
     "data": {
      "text/html": [
       "<table>\n",
       "    <tr>\n",
       "        <th>customer_id</th>\n",
       "        <th>first_name</th>\n",
       "        <th>last_name</th>\n",
       "    </tr>\n",
       "    <tr>\n",
       "        <td>130</td>\n",
       "        <td>Charlotte</td>\n",
       "        <td>Hunter</td>\n",
       "    </tr>\n",
       "    <tr>\n",
       "        <td>220</td>\n",
       "        <td>Charlene</td>\n",
       "        <td>Alvarez</td>\n",
       "    </tr>\n",
       "    <tr>\n",
       "        <td>306</td>\n",
       "        <td>Charles</td>\n",
       "        <td>Kowalski</td>\n",
       "    </tr>\n",
       "    <tr>\n",
       "        <td>495</td>\n",
       "        <td>Charlie</td>\n",
       "        <td>Bess</td>\n",
       "    </tr>\n",
       "</table>"
      ],
      "text/plain": [
       "[(130, 'Charlotte', 'Hunter'),\n",
       " (220, 'Charlene', 'Alvarez'),\n",
       " (306, 'Charles', 'Kowalski'),\n",
       " (495, 'Charlie', 'Bess')]"
      ]
     },
     "execution_count": 6,
     "metadata": {},
     "output_type": "execute_result"
    }
   ],
   "source": [
    "%%sql\n",
    "\n",
    "SELECT\n",
    "    c.customer_id\n",
    "    , c.first_name\n",
    "    , c.last_name\n",
    "FROM\n",
    "    customer c\n",
    "WHERE\n",
    "    c.first_name LIKE 'Charl%'"
   ]
  },
  {
   "cell_type": "markdown",
   "metadata": {},
   "source": [
    "Note that ```%``` will match zero-length sequences, as in the example below"
   ]
  },
  {
   "cell_type": "code",
   "execution_count": 7,
   "metadata": {},
   "outputs": [
    {
     "data": {
      "text/html": [
       "<table>\n",
       "    <tr>\n",
       "        <th>customer_id</th>\n",
       "        <th>first_name</th>\n",
       "        <th>last_name</th>\n",
       "    </tr>\n",
       "    <tr>\n",
       "        <td>353</td>\n",
       "        <td>Jonathan</td>\n",
       "        <td>Scarborough</td>\n",
       "    </tr>\n",
       "</table>"
      ],
      "text/plain": [
       "[(353, 'Jonathan', 'Scarborough')]"
      ]
     },
     "execution_count": 7,
     "metadata": {},
     "output_type": "execute_result"
    }
   ],
   "source": [
    "%%sql\n",
    "\n",
    "SELECT\n",
    "    c.customer_id\n",
    "    , c.first_name\n",
    "    , c.last_name\n",
    "FROM\n",
    "    customer c\n",
    "WHERE\n",
    "    c.first_name LIKE '%Jonathan%'"
   ]
  }
 ],
 "metadata": {
  "kernelspec": {
   "display_name": "Python 3",
   "language": "python",
   "name": "python3"
  },
  "language_info": {
   "codemirror_mode": {
    "name": "ipython",
    "version": 3
   },
   "file_extension": ".py",
   "mimetype": "text/x-python",
   "name": "python",
   "nbconvert_exporter": "python",
   "pygments_lexer": "ipython3",
   "version": "3.6.0"
  }
 },
 "nbformat": 4,
 "nbformat_minor": 2
}
