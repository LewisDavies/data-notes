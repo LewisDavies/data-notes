{
 "cells": [
  {
   "cell_type": "markdown",
   "metadata": {},
   "source": [
    "Title: Subqueries\n",
    "Slug: sql/subqueries\n",
    "Category: SQL\n",
    "Tags: SELECT, CAST, FROM, WHERE, LIMIT, avg\n",
    "Date: 2017-08-27\n",
    "Modified: 2017-08-27"
   ]
  },
  {
   "cell_type": "markdown",
   "metadata": {},
   "source": [
    "#### Load ipython-sql extension"
   ]
  },
  {
   "cell_type": "code",
   "execution_count": 2,
   "metadata": {
    "collapsed": true
   },
   "outputs": [],
   "source": [
    "# The 2 lines below prevent an error message from being displayed when we run %load_ext sql\n",
    "import warnings\n",
    "warnings.filterwarnings('ignore')\n",
    "\n",
    "%load_ext sql\n",
    "%config SqlMagic.feedback = False"
   ]
  },
  {
   "cell_type": "markdown",
   "metadata": {},
   "source": [
    "#### Connect to the database"
   ]
  },
  {
   "cell_type": "code",
   "execution_count": 3,
   "metadata": {},
   "outputs": [
    {
     "data": {
      "text/plain": [
       "'Connected: None@dvdrental'"
      ]
     },
     "execution_count": 3,
     "metadata": {},
     "output_type": "execute_result"
    }
   ],
   "source": [
    "%%sql\n",
    "\n",
    "postgresql://localhost/dvdrental"
   ]
  },
  {
   "cell_type": "markdown",
   "metadata": {},
   "source": [
    "#### Using a subquery as a condition"
   ]
  },
  {
   "cell_type": "code",
   "execution_count": 9,
   "metadata": {},
   "outputs": [
    {
     "data": {
      "text/html": [
       "<table>\n",
       "    <tr>\n",
       "        <th>film_id</th>\n",
       "        <th>title</th>\n",
       "        <th>length</th>\n",
       "    </tr>\n",
       "    <tr>\n",
       "        <td>133</td>\n",
       "        <td>Chamber Italian</td>\n",
       "        <td>117</td>\n",
       "    </tr>\n",
       "    <tr>\n",
       "        <td>4</td>\n",
       "        <td>Affair Prejudice</td>\n",
       "        <td>117</td>\n",
       "    </tr>\n",
       "    <tr>\n",
       "        <td>5</td>\n",
       "        <td>African Egg</td>\n",
       "        <td>130</td>\n",
       "    </tr>\n",
       "    <tr>\n",
       "        <td>6</td>\n",
       "        <td>Agent Truman</td>\n",
       "        <td>169</td>\n",
       "    </tr>\n",
       "    <tr>\n",
       "        <td>11</td>\n",
       "        <td>Alamo Videotape</td>\n",
       "        <td>126</td>\n",
       "    </tr>\n",
       "</table>"
      ],
      "text/plain": [
       "[(133, 'Chamber Italian', 117),\n",
       " (4, 'Affair Prejudice', 117),\n",
       " (5, 'African Egg', 130),\n",
       " (6, 'Agent Truman', 169),\n",
       " (11, 'Alamo Videotape', 126)]"
      ]
     },
     "execution_count": 9,
     "metadata": {},
     "output_type": "execute_result"
    }
   ],
   "source": [
    "%%sql\n",
    "\n",
    "SELECT\n",
    "    f.film_id\n",
    "    , f.title\n",
    "    , f.length\n",
    "FROM\n",
    "    film f\n",
    "WHERE\n",
    "    f.length > (\n",
    "        SELECT\n",
    "            avg(f.length)\n",
    "        FROM\n",
    "            film f\n",
    "    )\n",
    "LIMIT\n",
    "    5"
   ]
  },
  {
   "cell_type": "markdown",
   "metadata": {},
   "source": [
    "#### Selecting a column with a subquery\n",
    "This isn't the most practical example, but you can select individual columns using a subquery."
   ]
  },
  {
   "cell_type": "code",
   "execution_count": 16,
   "metadata": {},
   "outputs": [
    {
     "data": {
      "text/html": [
       "<table>\n",
       "    <tr>\n",
       "        <th>film_id</th>\n",
       "        <th>title</th>\n",
       "        <th>length</th>\n",
       "        <th>name</th>\n",
       "    </tr>\n",
       "    <tr>\n",
       "        <td>133</td>\n",
       "        <td>Chamber Italian</td>\n",
       "        <td>117</td>\n",
       "        <td>English             </td>\n",
       "    </tr>\n",
       "    <tr>\n",
       "        <td>384</td>\n",
       "        <td>Grosse Wonderful</td>\n",
       "        <td>49</td>\n",
       "        <td>English             </td>\n",
       "    </tr>\n",
       "    <tr>\n",
       "        <td>8</td>\n",
       "        <td>Airport Pollock</td>\n",
       "        <td>54</td>\n",
       "        <td>English             </td>\n",
       "    </tr>\n",
       "    <tr>\n",
       "        <td>98</td>\n",
       "        <td>Bright Encounters</td>\n",
       "        <td>73</td>\n",
       "        <td>English             </td>\n",
       "    </tr>\n",
       "    <tr>\n",
       "        <td>1</td>\n",
       "        <td>Academy Dinosaur</td>\n",
       "        <td>86</td>\n",
       "        <td>English             </td>\n",
       "    </tr>\n",
       "</table>"
      ],
      "text/plain": [
       "[(133, 'Chamber Italian', 117, 'English             '),\n",
       " (384, 'Grosse Wonderful', 49, 'English             '),\n",
       " (8, 'Airport Pollock', 54, 'English             '),\n",
       " (98, 'Bright Encounters', 73, 'English             '),\n",
       " (1, 'Academy Dinosaur', 86, 'English             ')]"
      ]
     },
     "execution_count": 16,
     "metadata": {},
     "output_type": "execute_result"
    }
   ],
   "source": [
    "%%sql\n",
    "\n",
    "SELECT\n",
    "    f.film_id\n",
    "    , f.title\n",
    "    , f.length\n",
    "    , (SELECT l.name FROM language l WHERE l.language_id = f.language_id)\n",
    "FROM\n",
    "    film f\n",
    "LIMIT\n",
    "    5"
   ]
  }
 ],
 "metadata": {
  "kernelspec": {
   "display_name": "Python 3",
   "language": "python",
   "name": "python3"
  },
  "language_info": {
   "codemirror_mode": {
    "name": "ipython",
    "version": 3
   },
   "file_extension": ".py",
   "mimetype": "text/x-python",
   "name": "python",
   "nbconvert_exporter": "python",
   "pygments_lexer": "ipython3",
   "version": "3.6.1"
  }
 },
 "nbformat": 4,
 "nbformat_minor": 2
}
