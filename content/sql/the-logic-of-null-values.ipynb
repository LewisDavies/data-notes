{
 "cells": [
  {
   "cell_type": "markdown",
   "metadata": {},
   "source": [
    "Title: The Logic of NULL Values\n",
    "Slug: sql/the-logic-of-null-values\n",
    "Category: SQL\n",
    "Tags: SELECT, FROM, WHERE, LIMIT, AS, AND, OR, ORDER BY, ASC, TRUE, FALSE, NULL\n",
    "Date: 2017-08-28\n",
    "Modified: 2017-08-28"
   ]
  },
  {
   "cell_type": "markdown",
   "metadata": {},
   "source": [
    "This is a fairly simple overview of three-value logic and null values in SQL. This guide is based on the information in [this article](https://www.red-gate.com/simple-talk/sql/learn-sql-server/sql-and-the-snare-of-three-valued-logic/), which offers much more depth and other examples.\n",
    "\n",
    "#### Load ipython-sql extension"
   ]
  },
  {
   "cell_type": "code",
   "execution_count": 1,
   "metadata": {
    "collapsed": true
   },
   "outputs": [],
   "source": [
    "# The 2 lines below prevent an error message from being displayed when we run %load_ext sql\n",
    "import warnings\n",
    "warnings.filterwarnings('ignore')\n",
    "\n",
    "%load_ext sql\n",
    "%config SqlMagic.feedback = False"
   ]
  },
  {
   "cell_type": "markdown",
   "metadata": {},
   "source": [
    "#### Connect to the database"
   ]
  },
  {
   "cell_type": "code",
   "execution_count": 2,
   "metadata": {},
   "outputs": [
    {
     "data": {
      "text/plain": [
       "'Connected: None@dvdrental'"
      ]
     },
     "execution_count": 2,
     "metadata": {},
     "output_type": "execute_result"
    }
   ],
   "source": [
    "%%sql\n",
    "\n",
    "postgresql://localhost/dvdrental"
   ]
  },
  {
   "cell_type": "markdown",
   "metadata": {},
   "source": [
    "#### `TRUE` and `FALSE` values\n",
    "These work as you might expect if you have programming experience or an understanding of Boolean values."
   ]
  },
  {
   "cell_type": "code",
   "execution_count": 12,
   "metadata": {},
   "outputs": [
    {
     "data": {
      "text/html": [
       "<table>\n",
       "    <tr>\n",
       "        <th>true_equals_true</th>\n",
       "        <th>true_equals_false</th>\n",
       "        <th>false_equals_false</th>\n",
       "        <th>true_and_false</th>\n",
       "        <th>true_or_false</th>\n",
       "    </tr>\n",
       "    <tr>\n",
       "        <td>True</td>\n",
       "        <td>False</td>\n",
       "        <td>True</td>\n",
       "        <td>False</td>\n",
       "        <td>True</td>\n",
       "    </tr>\n",
       "</table>"
      ],
      "text/plain": [
       "[(True, False, True, False, True)]"
      ]
     },
     "execution_count": 12,
     "metadata": {},
     "output_type": "execute_result"
    }
   ],
   "source": [
    "%%sql\n",
    "\n",
    "SELECT\n",
    "    TRUE = TRUE AS true_equals_true\n",
    "    , TRUE = FALSE AS true_equals_false\n",
    "    , FALSE = FALSE AS false_equals_false\n",
    "    , TRUE AND FALSE AS true_and_false\n",
    "    , TRUE OR FALSE AS true_or_false"
   ]
  },
  {
   "cell_type": "markdown",
   "metadata": {},
   "source": [
    "#### `NULL`, the third logical value\n",
    "In SQL, `TRUE`, `FALSE` and `NULL` are fully separate and distinct. This means that `NULL` equals neither `TRUE` nor `FALSE`. In fact, even `NULL` doesn't equal `NULL`."
   ]
  },
  {
   "cell_type": "code",
   "execution_count": 14,
   "metadata": {},
   "outputs": [
    {
     "data": {
      "text/html": [
       "<table>\n",
       "    <tr>\n",
       "        <th>true_equals_null</th>\n",
       "        <th>false_equals_null</th>\n",
       "        <th>null_equals_null</th>\n",
       "    </tr>\n",
       "    <tr>\n",
       "        <td>None</td>\n",
       "        <td>None</td>\n",
       "        <td>None</td>\n",
       "    </tr>\n",
       "</table>"
      ],
      "text/plain": [
       "[(None, None, None)]"
      ]
     },
     "execution_count": 14,
     "metadata": {},
     "output_type": "execute_result"
    }
   ],
   "source": [
    "%%sql\n",
    "\n",
    "SELECT\n",
    "    TRUE = NULL AS true_equals_null\n",
    "    , FALSE = NULL AS false_equals_null\n",
    "    , NULL = NULL AS null_equals_null"
   ]
  },
  {
   "cell_type": "markdown",
   "metadata": {},
   "source": [
    "#### Testing for `NULL` values\n",
    "If even `NULL` doesn't equal `NULL`, how do we test for it? It's simple: we use `IS NULL` or `IS NOT NULL`."
   ]
  },
  {
   "cell_type": "code",
   "execution_count": 18,
   "metadata": {},
   "outputs": [
    {
     "data": {
      "text/html": [
       "<table>\n",
       "    <tr>\n",
       "        <th>true_is_null</th>\n",
       "        <th>true_is_not_null</th>\n",
       "        <th>false_is_null</th>\n",
       "        <th>false_is_not_null</th>\n",
       "        <th>null_is_null</th>\n",
       "        <th>null_is_not_null</th>\n",
       "    </tr>\n",
       "    <tr>\n",
       "        <td>False</td>\n",
       "        <td>True</td>\n",
       "        <td>False</td>\n",
       "        <td>True</td>\n",
       "        <td>True</td>\n",
       "        <td>False</td>\n",
       "    </tr>\n",
       "</table>"
      ],
      "text/plain": [
       "[(False, True, False, True, True, False)]"
      ]
     },
     "execution_count": 18,
     "metadata": {},
     "output_type": "execute_result"
    }
   ],
   "source": [
    "%%sql\n",
    "\n",
    "SELECT\n",
    "    TRUE IS NULL AS true_is_null\n",
    "    , TRUE IS NOT NULL AS true_is_not_null\n",
    "    , FALSE IS NULL AS false_is_null\n",
    "    , FALSE IS NOT NULL AS false_is_not_null\n",
    "    , NULL IS NULL AS null_is_null\n",
    "    , NULL IS NOT NULL AS null_is_not_null"
   ]
  },
  {
   "cell_type": "markdown",
   "metadata": {},
   "source": [
    "#### `NULL` values in practice\n",
    "We can use our video rental database to see the effects of this. The last day on which the store had videos returned was 2nd September 2005."
   ]
  },
  {
   "cell_type": "code",
   "execution_count": 61,
   "metadata": {
    "scrolled": false
   },
   "outputs": [
    {
     "data": {
      "text/html": [
       "<table>\n",
       "    <tr>\n",
       "        <th>rental_id</th>\n",
       "        <th>return_date</th>\n",
       "    </tr>\n",
       "    <tr>\n",
       "        <td>15971</td>\n",
       "        <td>2005-09-02 01:28:33</td>\n",
       "    </tr>\n",
       "    <tr>\n",
       "        <td>16040</td>\n",
       "        <td>2005-09-02 02:19:33</td>\n",
       "    </tr>\n",
       "    <tr>\n",
       "        <td>16005</td>\n",
       "        <td>2005-09-02 02:35:22</td>\n",
       "    </tr>\n",
       "</table>"
      ],
      "text/plain": [
       "[(15971, datetime.datetime(2005, 9, 2, 1, 28, 33)),\n",
       " (16040, datetime.datetime(2005, 9, 2, 2, 19, 33)),\n",
       " (16005, datetime.datetime(2005, 9, 2, 2, 35, 22))]"
      ]
     },
     "execution_count": 61,
     "metadata": {},
     "output_type": "execute_result"
    }
   ],
   "source": [
    "%%sql\n",
    "\n",
    "SELECT\n",
    "    r.rental_id\n",
    "    , r.return_date\n",
    "FROM\n",
    "    rental r\n",
    "WHERE\n",
    "    r.return_date > '2005-09-02'\n",
    "ORDER BY\n",
    "    r.return_date ASC\n",
    "LIMIT\n",
    "    5"
   ]
  },
  {
   "cell_type": "markdown",
   "metadata": {},
   "source": [
    "But we know that some videos haven't been returned, so these videos have the value `NULL` for `r.return_date`."
   ]
  },
  {
   "cell_type": "code",
   "execution_count": 60,
   "metadata": {},
   "outputs": [
    {
     "data": {
      "text/html": [
       "<table>\n",
       "    <tr>\n",
       "        <th>outstanding_loans</th>\n",
       "    </tr>\n",
       "    <tr>\n",
       "        <td>183</td>\n",
       "    </tr>\n",
       "</table>"
      ],
      "text/plain": [
       "[(183,)]"
      ]
     },
     "execution_count": 60,
     "metadata": {},
     "output_type": "execute_result"
    }
   ],
   "source": [
    "%%sql\n",
    "\n",
    "SELECT\n",
    "    count(r.rental_id) AS outstanding_loans\n",
    "FROM\n",
    "    rental r\n",
    "WHERE\n",
    "    r.return_date IS NULL"
   ]
  },
  {
   "cell_type": "markdown",
   "metadata": {},
   "source": [
    "To include oustanding loans in the results, we add one line to our query. This works provided we know that `NULL` is only used for unreturned rentals."
   ]
  },
  {
   "cell_type": "code",
   "execution_count": 62,
   "metadata": {},
   "outputs": [
    {
     "data": {
      "text/html": [
       "<table>\n",
       "    <tr>\n",
       "        <th>rental_id</th>\n",
       "        <th>return_date</th>\n",
       "    </tr>\n",
       "    <tr>\n",
       "        <td>15971</td>\n",
       "        <td>2005-09-02 01:28:33</td>\n",
       "    </tr>\n",
       "    <tr>\n",
       "        <td>16040</td>\n",
       "        <td>2005-09-02 02:19:33</td>\n",
       "    </tr>\n",
       "    <tr>\n",
       "        <td>16005</td>\n",
       "        <td>2005-09-02 02:35:22</td>\n",
       "    </tr>\n",
       "    <tr>\n",
       "        <td>12101</td>\n",
       "        <td>None</td>\n",
       "    </tr>\n",
       "    <tr>\n",
       "        <td>11563</td>\n",
       "        <td>None</td>\n",
       "    </tr>\n",
       "</table>"
      ],
      "text/plain": [
       "[(15971, datetime.datetime(2005, 9, 2, 1, 28, 33)),\n",
       " (16040, datetime.datetime(2005, 9, 2, 2, 19, 33)),\n",
       " (16005, datetime.datetime(2005, 9, 2, 2, 35, 22)),\n",
       " (12101, None),\n",
       " (11563, None)]"
      ]
     },
     "execution_count": 62,
     "metadata": {},
     "output_type": "execute_result"
    }
   ],
   "source": [
    "%%sql\n",
    "\n",
    "SELECT\n",
    "    r.rental_id\n",
    "    , r.return_date\n",
    "FROM\n",
    "    rental r\n",
    "WHERE\n",
    "    r.return_date > '2005-09-02'\n",
    "    OR r.return_date IS NULL\n",
    "ORDER BY\n",
    "    r.return_date ASC\n",
    "LIMIT\n",
    "    5"
   ]
  }
 ],
 "metadata": {
  "kernelspec": {
   "display_name": "Python 3",
   "language": "python",
   "name": "python3"
  },
  "language_info": {
   "codemirror_mode": {
    "name": "ipython",
    "version": 3
   },
   "file_extension": ".py",
   "mimetype": "text/x-python",
   "name": "python",
   "nbconvert_exporter": "python",
   "pygments_lexer": "ipython3",
   "version": "3.6.1"
  }
 },
 "nbformat": 4,
 "nbformat_minor": 2
}
