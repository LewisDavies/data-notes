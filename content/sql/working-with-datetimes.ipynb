{
 "cells": [
  {
   "cell_type": "markdown",
   "metadata": {},
   "source": [
    "Title: Working with Datetimes\n",
    "Slug: sql/working-with-datetimes\n",
    "Category: SQL\n",
    "Tags: SELECT, FROM, LIMIT, to_char\n",
    "Date: 2017-08-27\n",
    "Modified: 2017-08-27"
   ]
  },
  {
   "cell_type": "markdown",
   "metadata": {},
   "source": [
    "#### Load ipython-sql extension"
   ]
  },
  {
   "cell_type": "code",
   "execution_count": 1,
   "metadata": {
    "collapsed": true
   },
   "outputs": [],
   "source": [
    "# The 2 lines below prevent an error message from being displayed when we run %load_ext sql\n",
    "import warnings\n",
    "warnings.filterwarnings('ignore')\n",
    "\n",
    "%load_ext sql\n",
    "%config SqlMagic.feedback = False"
   ]
  },
  {
   "cell_type": "markdown",
   "metadata": {},
   "source": [
    "#### Connect to the database"
   ]
  },
  {
   "cell_type": "code",
   "execution_count": 2,
   "metadata": {},
   "outputs": [
    {
     "data": {
      "text/plain": [
       "'Connected: None@dvdrental'"
      ]
     },
     "execution_count": 2,
     "metadata": {},
     "output_type": "execute_result"
    }
   ],
   "source": [
    "%%sql\n",
    "\n",
    "postgresql://localhost/dvdrental"
   ]
  },
  {
   "cell_type": "markdown",
   "metadata": {},
   "source": [
    "#### Convert datetimes to other formats\n",
    "Below are examples of different date formats followed by time formats. They can all be mixed and matched to get the format you need."
   ]
  },
  {
   "cell_type": "code",
   "execution_count": 30,
   "metadata": {},
   "outputs": [
    {
     "data": {
      "text/html": [
       "<table>\n",
       "    <tr>\n",
       "        <th>payment_id</th>\n",
       "        <th>payment_date</th>\n",
       "        <th>to_char</th>\n",
       "        <th>to_char_1</th>\n",
       "        <th>to_char_2</th>\n",
       "        <th>to_char_3</th>\n",
       "    </tr>\n",
       "    <tr>\n",
       "        <td>17503</td>\n",
       "        <td>2007-02-15 22:25:46.996577</td>\n",
       "        <td>07-02-15</td>\n",
       "        <td>15 February  2007</td>\n",
       "        <td>Thu 15th Feb</td>\n",
       "        <td>2007-W07</td>\n",
       "    </tr>\n",
       "    <tr>\n",
       "        <td>17504</td>\n",
       "        <td>2007-02-16 17:23:14.996577</td>\n",
       "        <td>07-02-16</td>\n",
       "        <td>16 February  2007</td>\n",
       "        <td>Fri 16th Feb</td>\n",
       "        <td>2007-W07</td>\n",
       "    </tr>\n",
       "    <tr>\n",
       "        <td>17505</td>\n",
       "        <td>2007-02-16 22:41:45.996577</td>\n",
       "        <td>07-02-16</td>\n",
       "        <td>16 February  2007</td>\n",
       "        <td>Fri 16th Feb</td>\n",
       "        <td>2007-W07</td>\n",
       "    </tr>\n",
       "    <tr>\n",
       "        <td>17506</td>\n",
       "        <td>2007-02-19 19:39:56.996577</td>\n",
       "        <td>07-02-19</td>\n",
       "        <td>19 February  2007</td>\n",
       "        <td>Mon 19th Feb</td>\n",
       "        <td>2007-W08</td>\n",
       "    </tr>\n",
       "    <tr>\n",
       "        <td>17507</td>\n",
       "        <td>2007-02-20 17:31:48.996577</td>\n",
       "        <td>07-02-20</td>\n",
       "        <td>20 February  2007</td>\n",
       "        <td>Tue 20th Feb</td>\n",
       "        <td>2007-W08</td>\n",
       "    </tr>\n",
       "</table>"
      ],
      "text/plain": [
       "[(17503, datetime.datetime(2007, 2, 15, 22, 25, 46, 996577), '07-02-15', '15 February  2007', 'Thu 15th Feb', '2007-W07'),\n",
       " (17504, datetime.datetime(2007, 2, 16, 17, 23, 14, 996577), '07-02-16', '16 February  2007', 'Fri 16th Feb', '2007-W07'),\n",
       " (17505, datetime.datetime(2007, 2, 16, 22, 41, 45, 996577), '07-02-16', '16 February  2007', 'Fri 16th Feb', '2007-W07'),\n",
       " (17506, datetime.datetime(2007, 2, 19, 19, 39, 56, 996577), '07-02-19', '19 February  2007', 'Mon 19th Feb', '2007-W08'),\n",
       " (17507, datetime.datetime(2007, 2, 20, 17, 31, 48, 996577), '07-02-20', '20 February  2007', 'Tue 20th Feb', '2007-W08')]"
      ]
     },
     "execution_count": 30,
     "metadata": {},
     "output_type": "execute_result"
    }
   ],
   "source": [
    "%%sql\n",
    "\n",
    "SELECT\n",
    "    p.payment_id\n",
    "    , p.payment_date\n",
    "    , to_char(p.payment_date, 'YY-MM-DD')\n",
    "    , to_char(p.payment_date, 'DD Month YYYY')\n",
    "    , to_char(p.payment_date, 'Dy DDth Mon')\n",
    "    -- Year followed by week number\n",
    "    , to_char(p.payment_date, 'YYYY-\"W\"IW')\n",
    "FROM\n",
    "    payment p\n",
    "LIMIT\n",
    "    5"
   ]
  },
  {
   "cell_type": "code",
   "execution_count": 43,
   "metadata": {},
   "outputs": [
    {
     "data": {
      "text/html": [
       "<table>\n",
       "    <tr>\n",
       "        <th>payment_id</th>\n",
       "        <th>payment_date</th>\n",
       "        <th>to_char</th>\n",
       "        <th>to_char_1</th>\n",
       "        <th>to_char_2</th>\n",
       "    </tr>\n",
       "    <tr>\n",
       "        <td>17503</td>\n",
       "        <td>2007-02-15 22:25:46.996577</td>\n",
       "        <td>22:25:46:996577</td>\n",
       "        <td>10:25:46 PM</td>\n",
       "        <td>10:25 p.m.</td>\n",
       "    </tr>\n",
       "    <tr>\n",
       "        <td>17504</td>\n",
       "        <td>2007-02-16 17:23:14.996577</td>\n",
       "        <td>17:23:14:996577</td>\n",
       "        <td>05:23:14 PM</td>\n",
       "        <td>05:23 p.m.</td>\n",
       "    </tr>\n",
       "    <tr>\n",
       "        <td>17505</td>\n",
       "        <td>2007-02-16 22:41:45.996577</td>\n",
       "        <td>22:41:45:996577</td>\n",
       "        <td>10:41:45 PM</td>\n",
       "        <td>10:41 p.m.</td>\n",
       "    </tr>\n",
       "    <tr>\n",
       "        <td>17506</td>\n",
       "        <td>2007-02-19 19:39:56.996577</td>\n",
       "        <td>19:39:56:996577</td>\n",
       "        <td>07:39:56 PM</td>\n",
       "        <td>07:39 p.m.</td>\n",
       "    </tr>\n",
       "    <tr>\n",
       "        <td>17507</td>\n",
       "        <td>2007-02-20 17:31:48.996577</td>\n",
       "        <td>17:31:48:996577</td>\n",
       "        <td>05:31:48 PM</td>\n",
       "        <td>05:31 p.m.</td>\n",
       "    </tr>\n",
       "</table>"
      ],
      "text/plain": [
       "[(17503, datetime.datetime(2007, 2, 15, 22, 25, 46, 996577), '22:25:46:996577', '10:25:46 PM', '10:25 p.m.'),\n",
       " (17504, datetime.datetime(2007, 2, 16, 17, 23, 14, 996577), '17:23:14:996577', '05:23:14 PM', '05:23 p.m.'),\n",
       " (17505, datetime.datetime(2007, 2, 16, 22, 41, 45, 996577), '22:41:45:996577', '10:41:45 PM', '10:41 p.m.'),\n",
       " (17506, datetime.datetime(2007, 2, 19, 19, 39, 56, 996577), '19:39:56:996577', '07:39:56 PM', '07:39 p.m.'),\n",
       " (17507, datetime.datetime(2007, 2, 20, 17, 31, 48, 996577), '17:31:48:996577', '05:31:48 PM', '05:31 p.m.')]"
      ]
     },
     "execution_count": 43,
     "metadata": {},
     "output_type": "execute_result"
    }
   ],
   "source": [
    "%%sql\n",
    "\n",
    "SELECT\n",
    "    p.payment_id\n",
    "    , p.payment_date\n",
    "    , to_char(p.payment_date, 'HH24:MI:SS:US')\n",
    "    , to_char(p.payment_date, 'HH:MI:SS AM')\n",
    "    , to_char(p.payment_date, 'HH:MI a.m.')\n",
    "FROM\n",
    "    payment p\n",
    "LIMIT\n",
    "    5"
   ]
  },
  {
   "cell_type": "markdown",
   "metadata": {},
   "source": [
    "There are many ways that datetimes can be converted in Postgres. For more examples, [see the docs](https://www.postgresql.org/docs/current/static/functions-formatting.html)."
   ]
  }
 ],
 "metadata": {
  "kernelspec": {
   "display_name": "Python 3",
   "language": "python",
   "name": "python3"
  },
  "language_info": {
   "codemirror_mode": {
    "name": "ipython",
    "version": 3
   },
   "file_extension": ".py",
   "mimetype": "text/x-python",
   "name": "python",
   "nbconvert_exporter": "python",
   "pygments_lexer": "ipython3",
   "version": "3.6.1"
  }
 },
 "nbformat": 4,
 "nbformat_minor": 2
}
