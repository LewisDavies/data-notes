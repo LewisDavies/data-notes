{
 "cells": [
  {
   "cell_type": "markdown",
   "metadata": {},
   "source": [
    "Title: Working with Strings\n",
    "Slug: sql/working-with-strings\n",
    "Category: SQL\n",
    "Tags: SELECT, FROM, JOIN, LIMIT, ||, upper, lower, substring, left, right\n",
    "Date: 2017-08-27\n",
    "Modified: 2017-08-27"
   ]
  },
  {
   "cell_type": "markdown",
   "metadata": {},
   "source": [
    "#### Load ipython-sql extension"
   ]
  },
  {
   "cell_type": "code",
   "execution_count": 1,
   "metadata": {
    "collapsed": true
   },
   "outputs": [],
   "source": [
    "# The 2 lines below prevent an error message from being displayed when we run %load_ext sql\n",
    "import warnings\n",
    "warnings.filterwarnings('ignore')\n",
    "\n",
    "%load_ext sql\n",
    "%config SqlMagic.feedback = False"
   ]
  },
  {
   "cell_type": "markdown",
   "metadata": {},
   "source": [
    "#### Connect to the database"
   ]
  },
  {
   "cell_type": "code",
   "execution_count": 2,
   "metadata": {},
   "outputs": [
    {
     "data": {
      "text/plain": [
       "'Connected: None@dvdrental'"
      ]
     },
     "execution_count": 2,
     "metadata": {},
     "output_type": "execute_result"
    }
   ],
   "source": [
    "%%sql\n",
    "\n",
    "postgresql://localhost/dvdrental"
   ]
  },
  {
   "cell_type": "markdown",
   "metadata": {},
   "source": [
    "#### Manipulating strings\n",
    "**`||`**: Concatenate two or more strings together\n",
    "\n",
    "**`upper`**: Convert to uppercase\n",
    "\n",
    "**`lower`**: Convert to lowercase"
   ]
  },
  {
   "cell_type": "code",
   "execution_count": 15,
   "metadata": {},
   "outputs": [
    {
     "data": {
      "text/html": [
       "<table>\n",
       "    <tr>\n",
       "        <th>city</th>\n",
       "        <th>concatenated</th>\n",
       "        <th>upper</th>\n",
       "        <th>lower</th>\n",
       "    </tr>\n",
       "    <tr>\n",
       "        <td>Kabul</td>\n",
       "        <td>Kabul, Afghanistan</td>\n",
       "        <td>KABUL</td>\n",
       "        <td>kabul</td>\n",
       "    </tr>\n",
       "    <tr>\n",
       "        <td>Batna</td>\n",
       "        <td>Batna, Algeria</td>\n",
       "        <td>BATNA</td>\n",
       "        <td>batna</td>\n",
       "    </tr>\n",
       "    <tr>\n",
       "        <td>Bchar</td>\n",
       "        <td>Bchar, Algeria</td>\n",
       "        <td>BCHAR</td>\n",
       "        <td>bchar</td>\n",
       "    </tr>\n",
       "    <tr>\n",
       "        <td>Skikda</td>\n",
       "        <td>Skikda, Algeria</td>\n",
       "        <td>SKIKDA</td>\n",
       "        <td>skikda</td>\n",
       "    </tr>\n",
       "    <tr>\n",
       "        <td>Tafuna</td>\n",
       "        <td>Tafuna, American Samoa</td>\n",
       "        <td>TAFUNA</td>\n",
       "        <td>tafuna</td>\n",
       "    </tr>\n",
       "</table>"
      ],
      "text/plain": [
       "[('Kabul', 'Kabul, Afghanistan', 'KABUL', 'kabul'),\n",
       " ('Batna', 'Batna, Algeria', 'BATNA', 'batna'),\n",
       " ('Bchar', 'Bchar, Algeria', 'BCHAR', 'bchar'),\n",
       " ('Skikda', 'Skikda, Algeria', 'SKIKDA', 'skikda'),\n",
       " ('Tafuna', 'Tafuna, American Samoa', 'TAFUNA', 'tafuna')]"
      ]
     },
     "execution_count": 15,
     "metadata": {},
     "output_type": "execute_result"
    }
   ],
   "source": [
    "%%sql\n",
    "\n",
    "SELECT\n",
    "    ci.city\n",
    "    , ci.city || ', ' || co.country as concatenated\n",
    "    , upper(ci.city)\n",
    "    , lower(ci.city)\n",
    "FROM\n",
    "    city ci\n",
    "    JOIN country co on co.country_id = ci.country_id\n",
    "LIMIT\n",
    "    5"
   ]
  },
  {
   "cell_type": "markdown",
   "metadata": {},
   "source": [
    "#### Substrings\n",
    "**`substring`**: Return a substring based on an index (starting from 1) or a regular expression\n",
    "\n",
    "**`left`**: Return first $n$ characters\n",
    "\n",
    "**`right`**: Return last $n$ characters\n",
    "\n",
    "`left` and `right` can also take negative indexes to trim characters from the opposite end of the string."
   ]
  },
  {
   "cell_type": "code",
   "execution_count": 52,
   "metadata": {},
   "outputs": [
    {
     "data": {
      "text/html": [
       "<table>\n",
       "    <tr>\n",
       "        <th>city</th>\n",
       "        <th>substring</th>\n",
       "        <th>substring_1</th>\n",
       "        <th>left</th>\n",
       "        <th>right</th>\n",
       "        <th>left_neg</th>\n",
       "        <th>right_pos</th>\n",
       "    </tr>\n",
       "    <tr>\n",
       "        <td>Kabul</td>\n",
       "        <td>Ka</td>\n",
       "        <td>bul</td>\n",
       "        <td>Ka</td>\n",
       "        <td>bul</td>\n",
       "        <td>Ka</td>\n",
       "        <td>bul</td>\n",
       "    </tr>\n",
       "    <tr>\n",
       "        <td>Batna</td>\n",
       "        <td>Ba</td>\n",
       "        <td>tna</td>\n",
       "        <td>Ba</td>\n",
       "        <td>tna</td>\n",
       "        <td>Ba</td>\n",
       "        <td>tna</td>\n",
       "    </tr>\n",
       "    <tr>\n",
       "        <td>Bchar</td>\n",
       "        <td>Bc</td>\n",
       "        <td>har</td>\n",
       "        <td>Bc</td>\n",
       "        <td>har</td>\n",
       "        <td>Bc</td>\n",
       "        <td>har</td>\n",
       "    </tr>\n",
       "    <tr>\n",
       "        <td>Skikda</td>\n",
       "        <td>Sk</td>\n",
       "        <td>ikda</td>\n",
       "        <td>Sk</td>\n",
       "        <td>kda</td>\n",
       "        <td>Ski</td>\n",
       "        <td>ikda</td>\n",
       "    </tr>\n",
       "    <tr>\n",
       "        <td>Tafuna</td>\n",
       "        <td>Ta</td>\n",
       "        <td>funa</td>\n",
       "        <td>Ta</td>\n",
       "        <td>una</td>\n",
       "        <td>Taf</td>\n",
       "        <td>funa</td>\n",
       "    </tr>\n",
       "</table>"
      ],
      "text/plain": [
       "[('Kabul', 'Ka', 'bul', 'Ka', 'bul', 'Ka', 'bul'),\n",
       " ('Batna', 'Ba', 'tna', 'Ba', 'tna', 'Ba', 'tna'),\n",
       " ('Bchar', 'Bc', 'har', 'Bc', 'har', 'Bc', 'har'),\n",
       " ('Skikda', 'Sk', 'ikda', 'Sk', 'kda', 'Ski', 'ikda'),\n",
       " ('Tafuna', 'Ta', 'funa', 'Ta', 'una', 'Taf', 'funa')]"
      ]
     },
     "execution_count": 52,
     "metadata": {},
     "output_type": "execute_result"
    }
   ],
   "source": [
    "%%sql\n",
    "\n",
    "SELECT\n",
    "    ci.city\n",
    "    , substring(ci.city from 1 for 2)\n",
    "    , substring(ci.city from 3)\n",
    "    , left(ci.city, 2)\n",
    "    , right(ci.city, 3)\n",
    "    , left(ci.city, -3) AS left_neg\n",
    "    , right(ci.city, -2) AS right_pos\n",
    "FROM\n",
    "    city ci\n",
    "    JOIN country co on co.country_id = ci.country_id\n",
    "LIMIT\n",
    "    5"
   ]
  },
  {
   "cell_type": "markdown",
   "metadata": {},
   "source": [
    "This is just a selection of the string methods available in Postgres. For more examples, [see the docs](https://www.postgresql.org/docs/current/static/functions-string.html)."
   ]
  }
 ],
 "metadata": {
  "kernelspec": {
   "display_name": "Python 3",
   "language": "python",
   "name": "python3"
  },
  "language_info": {
   "codemirror_mode": {
    "name": "ipython",
    "version": 3
   },
   "file_extension": ".py",
   "mimetype": "text/x-python",
   "name": "python",
   "nbconvert_exporter": "python",
   "pygments_lexer": "ipython3",
   "version": "3.6.1"
  }
 },
 "nbformat": 4,
 "nbformat_minor": 2
}
