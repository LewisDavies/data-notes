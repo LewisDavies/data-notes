{
 "cells": [
  {
   "cell_type": "markdown",
   "metadata": {},
   "source": [
    "Title: Jupyter Notebook Basics\n",
    "Slug: tips-and-tricks/jupyter-notebook-basics\n",
    "Category: Tips & Tricks\n",
    "Tags: jupyter, notebook, lab\n",
    "Date: 2019-04-02\n",
    "Modified: 2019-04-02"
   ]
  },
  {
   "cell_type": "markdown",
   "metadata": {},
   "source": [
    "### Getting started\n",
    "Start the notebook server by opening a terminal and running `jupyter lab`. The notebook server will start and should open in your web browser automatically.\n",
    "\n",
    "If you get an error, try running `pip install jupyterlab` first.\n",
    "\n",
    "**Note**: Some older tutorials will mention `jupyter notebook`. This is just an older version of what we'll be using. Most things below will work there too, but I'd recommend using Jupyter Lab as it will receive more support in future.\n",
    "\n",
    "### Opening a notebook\n",
    "The panel on the left is like Explorer in Windows or Finder in MacOS. You can move between folders and view all your files here. \n",
    "\n",
    "By default, the launcher page will open. You should see a range of icons that let you create new files (click *File* → *New Launcher* if you don't see this). To create a new notebook, click the *Python 3* under the *Notebook* section.\n",
    "\n",
    "### Running code\n",
    "Now you've opened a notebook, it's time to run some code. The first thing you'll see is an empty cell, like this:"
   ]
  },
  {
   "cell_type": "code",
   "execution_count": null,
   "metadata": {},
   "outputs": [],
   "source": []
  },
  {
   "cell_type": "markdown",
   "metadata": {},
   "source": [
    "Type a command and hit shift and enter to run it and move to the next cell:"
   ]
  },
  {
   "cell_type": "code",
   "execution_count": 1,
   "metadata": {},
   "outputs": [
    {
     "name": "stdout",
     "output_type": "stream",
     "text": [
      "Hello World!\n"
     ]
    }
   ],
   "source": [
    "print(\"Hello World!\")"
   ]
  },
  {
   "cell_type": "markdown",
   "metadata": {},
   "source": [
    "Most of the time you'll want to use shift-enter to run a cell but there are other ways: \n",
    "- control-enter runs the cell without moving to the next one\n",
    "- option-enter (alt-enter on Windows) runs the cell and inserts a new one below\n",
    "\n",
    "### Viewing documentation\n",
    "If you want to find out what a function does, put a question mark in front of it and run the cell, like this:"
   ]
  },
  {
   "cell_type": "code",
   "execution_count": 2,
   "metadata": {},
   "outputs": [
    {
     "data": {
      "text/plain": [
       "\u001b[0;31mDocstring:\u001b[0m\n",
       "print(value, ..., sep=' ', end='\\n', file=sys.stdout, flush=False)\n",
       "\n",
       "Prints the values to a stream, or to sys.stdout by default.\n",
       "Optional keyword arguments:\n",
       "file:  a file-like object (stream); defaults to the current sys.stdout.\n",
       "sep:   string inserted between values, default a space.\n",
       "end:   string appended after the last value, default a newline.\n",
       "flush: whether to forcibly flush the stream.\n",
       "\u001b[0;31mType:\u001b[0m      builtin_function_or_method\n"
      ]
     },
     "metadata": {},
     "output_type": "display_data"
    }
   ],
   "source": [
    "?print"
   ]
  },
  {
   "cell_type": "markdown",
   "metadata": {},
   "source": [
    "You can also view this quickly while typing by pressing shift-tab.\n",
    "\n",
    "### Command palette\n",
    "There are loads of commands for moving cells, editing notebooks and changing your Jupter Lab settings. You can search through them by bringing up the command palette with cmd-shift-C (control-shift-C on Windows).\n",
    "\n",
    "### Shortcuts\n",
    "The command palette shows the shortcut if a command has one. To use them, enter command mode by pressing escape, then type the command. Here are a few that I regularly use:\n",
    "- **A**: insert cell above\n",
    "- **B**: insert cell below\n",
    "- **X**: cut cell\n",
    "- **C**: copy cell\n",
    "- **V**: paste cell\n",
    "- **DD**: delete cell\n",
    "- **Z**: undo last action\n",
    "- **II**: interrupt execution (if something is taking longer than expected)\n",
    "- **00**: restart (if things go badly wrong!)\n",
    "\n",
    "### Saving a notebook\n",
    "This is done automatically most of the time. If you want to be sure, use cmd-S (control-S on Windows) to save your work."
   ]
  }
 ],
 "metadata": {
  "kernelspec": {
   "display_name": "Python 3",
   "language": "python",
   "name": "python3"
  },
  "language_info": {
   "codemirror_mode": {
    "name": "ipython",
    "version": 3
   },
   "file_extension": ".py",
   "mimetype": "text/x-python",
   "name": "python",
   "nbconvert_exporter": "python",
   "pygments_lexer": "ipython3",
   "version": "3.6.7"
  },
  "toc": {
   "nav_menu": {},
   "number_sections": true,
   "sideBar": true,
   "skip_h1_title": false,
   "title_cell": "Table of Contents",
   "title_sidebar": "Contents",
   "toc_cell": false,
   "toc_position": {},
   "toc_section_display": true,
   "toc_window_display": false
  },
  "varInspector": {
   "cols": {
    "lenName": 16,
    "lenType": 16,
    "lenVar": 40
   },
   "kernels_config": {
    "python": {
     "delete_cmd_postfix": "",
     "delete_cmd_prefix": "del ",
     "library": "var_list.py",
     "varRefreshCmd": "print(var_dic_list())"
    },
    "r": {
     "delete_cmd_postfix": ") ",
     "delete_cmd_prefix": "rm(",
     "library": "var_list.r",
     "varRefreshCmd": "cat(var_dic_list()) "
    }
   },
   "types_to_exclude": [
    "module",
    "function",
    "builtin_function_or_method",
    "instance",
    "_Feature"
   ],
   "window_display": false
  }
 },
 "nbformat": 4,
 "nbformat_minor": 2
}
