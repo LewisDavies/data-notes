{
 "cells": [
  {
   "cell_type": "markdown",
   "metadata": {},
   "source": [
    "Title: Recommended Learning Resources\n",
    "Slug: tips-and-tricks/recommended-learning-resources\n",
    "Category: Tips & Tricks\n",
    "Tags: resources\n",
    "Date: 2019-03-31\n",
    "Modified: 2019-03-31"
   ]
  },
  {
   "cell_type": "markdown",
   "metadata": {},
   "source": [
    "Most lists of programming and data resources on the web are utter crap and exist only to generate clicks. Instead of giving you links to 50 different courses that all teach vaguely the same thing, here is a list of resources that I've used and found helpful.\n",
    "\n",
    "### SQL\n",
    "SQL might not be the most glamorous language but you'll never get a job in data without knowing at least the basics. There are lots of different implementations of SQL but the basics will apply to all of them.\n",
    "\n",
    "- [SQLZoo](https://sqlzoo.net/) (Website)\n",
    "\n",
    "Start here if you've never used SQL before. This is a great site because it's so simple: you pick your lesson and immediately get to running code. The fastest way to learn is by doing, especially as a beginner, and that's exactly how SQLZoo works.\n",
    "\n",
    "- [Sams Teach Yourself SQL in 10 Minutes](https://www.amazon.ca/SQL-Minutes-Sams-Teach-Yourself/dp/0672336073) (Book)\n",
    "\n",
    "This book is more comprehensive and would make an excellent follow-up to SQLZoo (or you could simply start here instead). Everything is broken down into bite-sized chunks (hence the *in 10 Minutes* part - it's not complete marketing guff) and will teach you virtually all of the SQL you'll need to be a data analyst.\n",
    "\n",
    "\n",
    "### Programming\n",
    "- [Introduction to Computer Science and Programming Using Python](https://www.edx.org/course/introduction-to-computer-science-and-programming-using-python-0) (Free online course)\n",
    "\n",
    "The best course I've ever done. Although you'll learn some Python, the aim of this EdX course is to teach the fundamentals of computer science. The format worked perfectly for me: one or two short videos (usually 5 minutes or so) followed by practical problem solving and weekly tests. This isn't strictly a data-related course but the concepts you'll learn will absolutely help in this area. It's intensive - expect to put in 10-15 hours a week - but definitely worth it.\n",
    "\n",
    "\n",
    "### Python & R for Data\n",
    "- [DataCamp](https://www.datacamp.com/) (Online subscription)\n",
    "\n",
    "One of the biggest problems as a beginner is that you don't know what you don't know. Virtually every problem you have will have already been solved by someone, but how do you learn about them? This is where DataCamp is great, with short courses for all the major Python & R data libraries. I've only used their Python material but some old colleagues told me their R material is just as good.\n",
    "\n",
    "- [ChrisAlbon.com](https://chrisalbon.com/) (Website)\n",
    "\n",
    "Also known as the site I shamelessly ripped-off right here. There are hundreds of pages that show exactly how to perform very specific tasks. It's completely open source and I'd recommend that every beginner forks the repo and creates their own version.\n",
    "\n",
    "\n",
    "### Machine Learning\n",
    "- [Fast.ai - Introduction to Machine Learning for Coders](http://course18.fast.ai/ml) (Free online course)\n",
    "\n",
    "This course dives straight into the practical side of ML before giving more technical detail. It has a deliberately narrow scope and a helpful Python library that simplifies common data workflows. If you're a hands-on, practical learner you'll love this course.\n",
    "\n",
    "- [Stanford Machine Learning Course](https://www.coursera.org/learn/machine-learning) (Free online course)\n",
    "\n",
    "One of the original MOOCs. Andrew Ng has a fantastic way of dissecting the equations that drive ML algorithms and giving you an intuitive understanding of how they work. As someone who doesn't really 'think in equations', this course really helped me make sense of them. The one downside is that assignments are in Octave (an open source implementation of Matlab).\n",
    "\n",
    "- [Hands-On Machine Learning with Scikit-Learn and TensorFlow](https://www.amazon.ca/Hands-Machine-Learning-Scikit-Learn-TensorFlow/dp/1491962291) (Book)\n",
    "\n",
    "This book occupies the middle ground between the two previous courses, with a good mixture of theory and practice. A wider range of ML algorithms are covered and half the book covers deep learning in detail too.\n",
    "\n",
    "\n",
    "### Misceallaneous\n",
    "- [Data Elixir](https://dataelixir.com/) (Newsletter)\n",
    "\n",
    "A great mix of technical resources and articles on data. There's always something interesting and I can't remember the last time I didn't click anything in one of the weekly emails.\n",
    "\n",
    "- [Learn Git Branching](https://learngitbranching.js.org/) (Website)\n",
    "\n",
    "Version control is a useful tool and Git is the most popular system. You don't need to learn straight away but you'll find lots of useful resources on Github and you'll need to know the basics to access them. By visually representing the commands you type, this site helped me understand how Git really works.\n",
    "\n",
    "- [Learning How to Learn](https://www.coursera.org/learn/learning-how-to-learn) (Free online course)\n",
    "\n",
    "This is the only thing on my list that isn't remotely related to data or programming. The course breaks down how people learn best and how gives concrete ways of putting the ideas into practice. Although it's a little slow at times, but watch the videos at 1.5x regular speed and you'll pick up some useful ideas."
   ]
  }
 ],
 "metadata": {
  "kernelspec": {
   "display_name": "Python 3",
   "language": "python",
   "name": "python3"
  },
  "language_info": {
   "codemirror_mode": {
    "name": "ipython",
    "version": 3
   },
   "file_extension": ".py",
   "mimetype": "text/x-python",
   "name": "python",
   "nbconvert_exporter": "python",
   "pygments_lexer": "ipython3",
   "version": "3.6.7"
  },
  "toc": {
   "nav_menu": {},
   "number_sections": true,
   "sideBar": true,
   "skip_h1_title": false,
   "title_cell": "Table of Contents",
   "title_sidebar": "Contents",
   "toc_cell": false,
   "toc_position": {},
   "toc_section_display": true,
   "toc_window_display": false
  },
  "varInspector": {
   "cols": {
    "lenName": 16,
    "lenType": 16,
    "lenVar": 40
   },
   "kernels_config": {
    "python": {
     "delete_cmd_postfix": "",
     "delete_cmd_prefix": "del ",
     "library": "var_list.py",
     "varRefreshCmd": "print(var_dic_list())"
    },
    "r": {
     "delete_cmd_postfix": ") ",
     "delete_cmd_prefix": "rm(",
     "library": "var_list.r",
     "varRefreshCmd": "cat(var_dic_list()) "
    }
   },
   "types_to_exclude": [
    "module",
    "function",
    "builtin_function_or_method",
    "instance",
    "_Feature"
   ],
   "window_display": false
  }
 },
 "nbformat": 4,
 "nbformat_minor": 2
}
